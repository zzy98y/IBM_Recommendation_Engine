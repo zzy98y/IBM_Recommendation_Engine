{
 "cells": [
  {
   "cell_type": "markdown",
   "metadata": {},
   "source": [
    "# Recommendations with IBM\n",
    "\n",
    "In this notebook, you will be putting your recommendation skills to use on real data from the IBM Watson Studio platform. \n",
    "\n",
    "\n",
    "You may either submit your notebook through the workspace here, or you may work from your local machine and submit through the next page.  Either way assure that your code passes the project [RUBRIC](https://review.udacity.com/#!/rubrics/2322/view).  **Please save regularly.**\n",
    "\n",
    "By following the table of contents, you will build out a number of different methods for making recommendations that can be used for different situations. \n",
    "\n",
    "\n",
    "## Table of Contents\n",
    "\n",
    "I. [Exploratory Data Analysis](#Exploratory-Data-Analysis)<br>\n",
    "II. [Rank Based Recommendations](#Rank)<br>\n",
    "III. [User-User Based Collaborative Filtering](#User-User)<br>\n",
    "IV. [Content Based Recommendations (EXTRA - NOT REQUIRED)](#Content-Recs)<br>\n",
    "V. [Matrix Factorization](#Matrix-Fact)<br>\n",
    "VI. [Extras & Concluding](#conclusions)\n",
    "\n",
    "At the end of the notebook, you will find directions for how to submit your work.  Let's get started by importing the necessary libraries and reading in the data."
   ]
  },
  {
   "cell_type": "code",
   "execution_count": 142,
   "metadata": {},
   "outputs": [
    {
     "output_type": "execute_result",
     "data": {
      "text/plain": "   article_id                                              title  \\\n0      1430.0  using pixiedust for fast, flexible, and easier...   \n1      1314.0       healthcare python streaming application demo   \n2      1429.0         use deep learning for image classification   \n3      1338.0          ml optimization using cognitive assistant   \n4      1276.0          deploy your python model as a restful api   \n\n                                      email  \n0  ef5f11f77ba020cd36e1105a00ab868bbdbf7fe7  \n1  083cbdfa93c8444beaa4c5f5e0f5f9198e4f9e0b  \n2  b96a4f2e92d8572034b1e9b28f9ac673765cd074  \n3  06485706b34a5c9bf2a0ecdac41daf7e7654ceb7  \n4  f01220c46fc92c6e6b161b1849de11faacd7ccb2  ",
      "text/html": "<div>\n<style scoped>\n    .dataframe tbody tr th:only-of-type {\n        vertical-align: middle;\n    }\n\n    .dataframe tbody tr th {\n        vertical-align: top;\n    }\n\n    .dataframe thead th {\n        text-align: right;\n    }\n</style>\n<table border=\"1\" class=\"dataframe\">\n  <thead>\n    <tr style=\"text-align: right;\">\n      <th></th>\n      <th>article_id</th>\n      <th>title</th>\n      <th>email</th>\n    </tr>\n  </thead>\n  <tbody>\n    <tr>\n      <th>0</th>\n      <td>1430.0</td>\n      <td>using pixiedust for fast, flexible, and easier...</td>\n      <td>ef5f11f77ba020cd36e1105a00ab868bbdbf7fe7</td>\n    </tr>\n    <tr>\n      <th>1</th>\n      <td>1314.0</td>\n      <td>healthcare python streaming application demo</td>\n      <td>083cbdfa93c8444beaa4c5f5e0f5f9198e4f9e0b</td>\n    </tr>\n    <tr>\n      <th>2</th>\n      <td>1429.0</td>\n      <td>use deep learning for image classification</td>\n      <td>b96a4f2e92d8572034b1e9b28f9ac673765cd074</td>\n    </tr>\n    <tr>\n      <th>3</th>\n      <td>1338.0</td>\n      <td>ml optimization using cognitive assistant</td>\n      <td>06485706b34a5c9bf2a0ecdac41daf7e7654ceb7</td>\n    </tr>\n    <tr>\n      <th>4</th>\n      <td>1276.0</td>\n      <td>deploy your python model as a restful api</td>\n      <td>f01220c46fc92c6e6b161b1849de11faacd7ccb2</td>\n    </tr>\n  </tbody>\n</table>\n</div>"
     },
     "metadata": {},
     "execution_count": 142
    }
   ],
   "source": [
    "import pandas as pd\n",
    "import numpy as np\n",
    "import matplotlib.pyplot as plt\n",
    "import project_tests as t\n",
    "import pickle\n",
    "\n",
    "%matplotlib inline\n",
    "\n",
    "df = pd.read_csv('data/user-item-interactions.csv')\n",
    "df_content = pd.read_csv('data/articles_community.csv')\n",
    "del df['Unnamed: 0']\n",
    "del df_content['Unnamed: 0']\n",
    "\n",
    "# Show df to get an idea of the data\n",
    "df.head()"
   ]
  },
  {
   "cell_type": "code",
   "execution_count": 143,
   "metadata": {},
   "outputs": [
    {
     "output_type": "execute_result",
     "data": {
      "text/plain": "                                            doc_body  \\\n0  Skip navigation Sign in SearchLoading...\\r\\n\\r...   \n1  No Free Hunch Navigation * kaggle.com\\r\\n\\r\\n ...   \n2  ☰ * Login\\r\\n * Sign Up\\r\\n\\r\\n * Learning Pat...   \n3  DATALAYER: HIGH THROUGHPUT, LOW LATENCY AT SCA...   \n4  Skip navigation Sign in SearchLoading...\\r\\n\\r...   \n\n                                     doc_description  \\\n0  Detect bad readings in real time using Python ...   \n1  See the forest, see the trees. Here lies the c...   \n2  Here’s this week’s news in Data Science and Bi...   \n3  Learn how distributed DBs solve the problem of...   \n4  This video demonstrates the power of IBM DataS...   \n\n                                       doc_full_name doc_status  article_id  \n0  Detect Malfunctioning IoT Sensors with Streami...       Live           0  \n1  Communicating data science: A guide to present...       Live           1  \n2         This Week in Data Science (April 18, 2017)       Live           2  \n3  DataLayer Conference: Boost the performance of...       Live           3  \n4      Analyze NY Restaurant data using Spark in DSX       Live           4  ",
      "text/html": "<div>\n<style scoped>\n    .dataframe tbody tr th:only-of-type {\n        vertical-align: middle;\n    }\n\n    .dataframe tbody tr th {\n        vertical-align: top;\n    }\n\n    .dataframe thead th {\n        text-align: right;\n    }\n</style>\n<table border=\"1\" class=\"dataframe\">\n  <thead>\n    <tr style=\"text-align: right;\">\n      <th></th>\n      <th>doc_body</th>\n      <th>doc_description</th>\n      <th>doc_full_name</th>\n      <th>doc_status</th>\n      <th>article_id</th>\n    </tr>\n  </thead>\n  <tbody>\n    <tr>\n      <th>0</th>\n      <td>Skip navigation Sign in SearchLoading...\\r\\n\\r...</td>\n      <td>Detect bad readings in real time using Python ...</td>\n      <td>Detect Malfunctioning IoT Sensors with Streami...</td>\n      <td>Live</td>\n      <td>0</td>\n    </tr>\n    <tr>\n      <th>1</th>\n      <td>No Free Hunch Navigation * kaggle.com\\r\\n\\r\\n ...</td>\n      <td>See the forest, see the trees. Here lies the c...</td>\n      <td>Communicating data science: A guide to present...</td>\n      <td>Live</td>\n      <td>1</td>\n    </tr>\n    <tr>\n      <th>2</th>\n      <td>☰ * Login\\r\\n * Sign Up\\r\\n\\r\\n * Learning Pat...</td>\n      <td>Here’s this week’s news in Data Science and Bi...</td>\n      <td>This Week in Data Science (April 18, 2017)</td>\n      <td>Live</td>\n      <td>2</td>\n    </tr>\n    <tr>\n      <th>3</th>\n      <td>DATALAYER: HIGH THROUGHPUT, LOW LATENCY AT SCA...</td>\n      <td>Learn how distributed DBs solve the problem of...</td>\n      <td>DataLayer Conference: Boost the performance of...</td>\n      <td>Live</td>\n      <td>3</td>\n    </tr>\n    <tr>\n      <th>4</th>\n      <td>Skip navigation Sign in SearchLoading...\\r\\n\\r...</td>\n      <td>This video demonstrates the power of IBM DataS...</td>\n      <td>Analyze NY Restaurant data using Spark in DSX</td>\n      <td>Live</td>\n      <td>4</td>\n    </tr>\n  </tbody>\n</table>\n</div>"
     },
     "metadata": {},
     "execution_count": 143
    }
   ],
   "source": [
    "# Show df_content to get an idea of the data\n",
    "df_content.head()"
   ]
  },
  {
   "cell_type": "markdown",
   "metadata": {},
   "source": [
    "### <a class=\"anchor\" id=\"Exploratory-Data-Analysis\">Part I : Exploratory Data Analysis</a>\n",
    "\n",
    "Use the dictionary and cells below to provide some insight into the descriptive statistics of the data.\n",
    "\n",
    "`1.` What is the distribution of how many articles a user interacts with in the dataset?  Provide a visual and descriptive statistics to assist with giving a look at the number of times each user interacts with an article.  "
   ]
  },
  {
   "cell_type": "code",
   "execution_count": 144,
   "metadata": {},
   "outputs": [
    {
     "output_type": "execute_result",
     "data": {
      "text/plain": "<matplotlib.axes._subplots.AxesSubplot at 0x7fc7456d7cd0>"
     },
     "metadata": {},
     "execution_count": 144
    },
    {
     "output_type": "display_data",
     "data": {
      "text/plain": "<Figure size 720x720 with 1 Axes>",
      "image/svg+xml": "<?xml version=\"1.0\" encoding=\"utf-8\" standalone=\"no\"?>\n<!DOCTYPE svg PUBLIC \"-//W3C//DTD SVG 1.1//EN\"\n  \"http://www.w3.org/Graphics/SVG/1.1/DTD/svg11.dtd\">\n<!-- Created with matplotlib (https://matplotlib.org/) -->\n<svg height=\"588.35625pt\" version=\"1.1\" viewBox=\"0 0 745.016884 588.35625\" width=\"745.016884pt\" xmlns=\"http://www.w3.org/2000/svg\" xmlns:xlink=\"http://www.w3.org/1999/xlink\">\n <defs>\n  <style type=\"text/css\">\n*{stroke-linecap:butt;stroke-linejoin:round;}\n  </style>\n </defs>\n <g id=\"figure_1\">\n  <g id=\"patch_1\">\n   <path d=\"M 0 588.35625 \nL 745.016884 588.35625 \nL 745.016884 0 \nL 0 0 \nz\n\" style=\"fill:none;\"/>\n  </g>\n  <g id=\"axes_1\">\n   <g id=\"patch_2\">\n    <path d=\"M 101.057457 550.8 \nL 659.057457 550.8 \nL 659.057457 7.2 \nL 101.057457 7.2 \nz\n\" style=\"fill:#ffffff;\"/>\n   </g>\n   <g id=\"matplotlib.axis_1\">\n    <g id=\"xtick_1\">\n     <g id=\"line2d_1\">\n      <defs>\n       <path d=\"M 0 0 \nL 0 3.5 \n\" id=\"m0caf161516\" style=\"stroke:#000000;stroke-width:0.8;\"/>\n      </defs>\n      <g>\n       <use style=\"stroke:#000000;stroke-width:0.8;\" x=\"126.421094\" xlink:href=\"#m0caf161516\" y=\"550.8\"/>\n      </g>\n     </g>\n     <g id=\"text_1\">\n      <!-- 0000b6387a0366322d7fbfc6434af145adf7fed1 -->\n      <defs>\n       <path d=\"M 31.78125 66.40625 \nQ 24.171875 66.40625 20.328125 58.90625 \nQ 16.5 51.421875 16.5 36.375 \nQ 16.5 21.390625 20.328125 13.890625 \nQ 24.171875 6.390625 31.78125 6.390625 \nQ 39.453125 6.390625 43.28125 13.890625 \nQ 47.125 21.390625 47.125 36.375 \nQ 47.125 51.421875 43.28125 58.90625 \nQ 39.453125 66.40625 31.78125 66.40625 \nz\nM 31.78125 74.21875 \nQ 44.046875 74.21875 50.515625 64.515625 \nQ 56.984375 54.828125 56.984375 36.375 \nQ 56.984375 17.96875 50.515625 8.265625 \nQ 44.046875 -1.421875 31.78125 -1.421875 \nQ 19.53125 -1.421875 13.0625 8.265625 \nQ 6.59375 17.96875 6.59375 36.375 \nQ 6.59375 54.828125 13.0625 64.515625 \nQ 19.53125 74.21875 31.78125 74.21875 \nz\n\" id=\"DejaVuSans-48\"/>\n       <path d=\"M 48.6875 27.296875 \nQ 48.6875 37.203125 44.609375 42.84375 \nQ 40.53125 48.484375 33.40625 48.484375 \nQ 26.265625 48.484375 22.1875 42.84375 \nQ 18.109375 37.203125 18.109375 27.296875 \nQ 18.109375 17.390625 22.1875 11.75 \nQ 26.265625 6.109375 33.40625 6.109375 \nQ 40.53125 6.109375 44.609375 11.75 \nQ 48.6875 17.390625 48.6875 27.296875 \nz\nM 18.109375 46.390625 \nQ 20.953125 51.265625 25.265625 53.625 \nQ 29.59375 56 35.59375 56 \nQ 45.5625 56 51.78125 48.09375 \nQ 58.015625 40.1875 58.015625 27.296875 \nQ 58.015625 14.40625 51.78125 6.484375 \nQ 45.5625 -1.421875 35.59375 -1.421875 \nQ 29.59375 -1.421875 25.265625 0.953125 \nQ 20.953125 3.328125 18.109375 8.203125 \nL 18.109375 0 \nL 9.078125 0 \nL 9.078125 75.984375 \nL 18.109375 75.984375 \nz\n\" id=\"DejaVuSans-98\"/>\n       <path d=\"M 33.015625 40.375 \nQ 26.375 40.375 22.484375 35.828125 \nQ 18.609375 31.296875 18.609375 23.390625 \nQ 18.609375 15.53125 22.484375 10.953125 \nQ 26.375 6.390625 33.015625 6.390625 \nQ 39.65625 6.390625 43.53125 10.953125 \nQ 47.40625 15.53125 47.40625 23.390625 \nQ 47.40625 31.296875 43.53125 35.828125 \nQ 39.65625 40.375 33.015625 40.375 \nz\nM 52.59375 71.296875 \nL 52.59375 62.3125 \nQ 48.875 64.0625 45.09375 64.984375 \nQ 41.3125 65.921875 37.59375 65.921875 \nQ 27.828125 65.921875 22.671875 59.328125 \nQ 17.53125 52.734375 16.796875 39.40625 \nQ 19.671875 43.65625 24.015625 45.921875 \nQ 28.375 48.1875 33.59375 48.1875 \nQ 44.578125 48.1875 50.953125 41.515625 \nQ 57.328125 34.859375 57.328125 23.390625 \nQ 57.328125 12.15625 50.6875 5.359375 \nQ 44.046875 -1.421875 33.015625 -1.421875 \nQ 20.359375 -1.421875 13.671875 8.265625 \nQ 6.984375 17.96875 6.984375 36.375 \nQ 6.984375 53.65625 15.1875 63.9375 \nQ 23.390625 74.21875 37.203125 74.21875 \nQ 40.921875 74.21875 44.703125 73.484375 \nQ 48.484375 72.75 52.59375 71.296875 \nz\n\" id=\"DejaVuSans-54\"/>\n       <path d=\"M 40.578125 39.3125 \nQ 47.65625 37.796875 51.625 33 \nQ 55.609375 28.21875 55.609375 21.1875 \nQ 55.609375 10.40625 48.1875 4.484375 \nQ 40.765625 -1.421875 27.09375 -1.421875 \nQ 22.515625 -1.421875 17.65625 -0.515625 \nQ 12.796875 0.390625 7.625 2.203125 \nL 7.625 11.71875 \nQ 11.71875 9.328125 16.59375 8.109375 \nQ 21.484375 6.890625 26.8125 6.890625 \nQ 36.078125 6.890625 40.9375 10.546875 \nQ 45.796875 14.203125 45.796875 21.1875 \nQ 45.796875 27.640625 41.28125 31.265625 \nQ 36.765625 34.90625 28.71875 34.90625 \nL 20.21875 34.90625 \nL 20.21875 43.015625 \nL 29.109375 43.015625 \nQ 36.375 43.015625 40.234375 45.921875 \nQ 44.09375 48.828125 44.09375 54.296875 \nQ 44.09375 59.90625 40.109375 62.90625 \nQ 36.140625 65.921875 28.71875 65.921875 \nQ 24.65625 65.921875 20.015625 65.03125 \nQ 15.375 64.15625 9.8125 62.3125 \nL 9.8125 71.09375 \nQ 15.4375 72.65625 20.34375 73.4375 \nQ 25.25 74.21875 29.59375 74.21875 \nQ 40.828125 74.21875 47.359375 69.109375 \nQ 53.90625 64.015625 53.90625 55.328125 \nQ 53.90625 49.265625 50.4375 45.09375 \nQ 46.96875 40.921875 40.578125 39.3125 \nz\n\" id=\"DejaVuSans-51\"/>\n       <path d=\"M 31.78125 34.625 \nQ 24.75 34.625 20.71875 30.859375 \nQ 16.703125 27.09375 16.703125 20.515625 \nQ 16.703125 13.921875 20.71875 10.15625 \nQ 24.75 6.390625 31.78125 6.390625 \nQ 38.8125 6.390625 42.859375 10.171875 \nQ 46.921875 13.96875 46.921875 20.515625 \nQ 46.921875 27.09375 42.890625 30.859375 \nQ 38.875 34.625 31.78125 34.625 \nz\nM 21.921875 38.8125 \nQ 15.578125 40.375 12.03125 44.71875 \nQ 8.5 49.078125 8.5 55.328125 \nQ 8.5 64.0625 14.71875 69.140625 \nQ 20.953125 74.21875 31.78125 74.21875 \nQ 42.671875 74.21875 48.875 69.140625 \nQ 55.078125 64.0625 55.078125 55.328125 \nQ 55.078125 49.078125 51.53125 44.71875 \nQ 48 40.375 41.703125 38.8125 \nQ 48.828125 37.15625 52.796875 32.3125 \nQ 56.78125 27.484375 56.78125 20.515625 \nQ 56.78125 9.90625 50.3125 4.234375 \nQ 43.84375 -1.421875 31.78125 -1.421875 \nQ 19.734375 -1.421875 13.25 4.234375 \nQ 6.78125 9.90625 6.78125 20.515625 \nQ 6.78125 27.484375 10.78125 32.3125 \nQ 14.796875 37.15625 21.921875 38.8125 \nz\nM 18.3125 54.390625 \nQ 18.3125 48.734375 21.84375 45.5625 \nQ 25.390625 42.390625 31.78125 42.390625 \nQ 38.140625 42.390625 41.71875 45.5625 \nQ 45.3125 48.734375 45.3125 54.390625 \nQ 45.3125 60.0625 41.71875 63.234375 \nQ 38.140625 66.40625 31.78125 66.40625 \nQ 25.390625 66.40625 21.84375 63.234375 \nQ 18.3125 60.0625 18.3125 54.390625 \nz\n\" id=\"DejaVuSans-56\"/>\n       <path d=\"M 8.203125 72.90625 \nL 55.078125 72.90625 \nL 55.078125 68.703125 \nL 28.609375 0 \nL 18.3125 0 \nL 43.21875 64.59375 \nL 8.203125 64.59375 \nz\n\" id=\"DejaVuSans-55\"/>\n       <path d=\"M 34.28125 27.484375 \nQ 23.390625 27.484375 19.1875 25 \nQ 14.984375 22.515625 14.984375 16.5 \nQ 14.984375 11.71875 18.140625 8.90625 \nQ 21.296875 6.109375 26.703125 6.109375 \nQ 34.1875 6.109375 38.703125 11.40625 \nQ 43.21875 16.703125 43.21875 25.484375 \nL 43.21875 27.484375 \nz\nM 52.203125 31.203125 \nL 52.203125 0 \nL 43.21875 0 \nL 43.21875 8.296875 \nQ 40.140625 3.328125 35.546875 0.953125 \nQ 30.953125 -1.421875 24.3125 -1.421875 \nQ 15.921875 -1.421875 10.953125 3.296875 \nQ 6 8.015625 6 15.921875 \nQ 6 25.140625 12.171875 29.828125 \nQ 18.359375 34.515625 30.609375 34.515625 \nL 43.21875 34.515625 \nL 43.21875 35.40625 \nQ 43.21875 41.609375 39.140625 45 \nQ 35.0625 48.390625 27.6875 48.390625 \nQ 23 48.390625 18.546875 47.265625 \nQ 14.109375 46.140625 10.015625 43.890625 \nL 10.015625 52.203125 \nQ 14.9375 54.109375 19.578125 55.046875 \nQ 24.21875 56 28.609375 56 \nQ 40.484375 56 46.34375 49.84375 \nQ 52.203125 43.703125 52.203125 31.203125 \nz\n\" id=\"DejaVuSans-97\"/>\n       <path d=\"M 19.1875 8.296875 \nL 53.609375 8.296875 \nL 53.609375 0 \nL 7.328125 0 \nL 7.328125 8.296875 \nQ 12.9375 14.109375 22.625 23.890625 \nQ 32.328125 33.6875 34.8125 36.53125 \nQ 39.546875 41.84375 41.421875 45.53125 \nQ 43.3125 49.21875 43.3125 52.78125 \nQ 43.3125 58.59375 39.234375 62.25 \nQ 35.15625 65.921875 28.609375 65.921875 \nQ 23.96875 65.921875 18.8125 64.3125 \nQ 13.671875 62.703125 7.8125 59.421875 \nL 7.8125 69.390625 \nQ 13.765625 71.78125 18.9375 73 \nQ 24.125 74.21875 28.421875 74.21875 \nQ 39.75 74.21875 46.484375 68.546875 \nQ 53.21875 62.890625 53.21875 53.421875 \nQ 53.21875 48.921875 51.53125 44.890625 \nQ 49.859375 40.875 45.40625 35.40625 \nQ 44.1875 33.984375 37.640625 27.21875 \nQ 31.109375 20.453125 19.1875 8.296875 \nz\n\" id=\"DejaVuSans-50\"/>\n       <path d=\"M 45.40625 46.390625 \nL 45.40625 75.984375 \nL 54.390625 75.984375 \nL 54.390625 0 \nL 45.40625 0 \nL 45.40625 8.203125 \nQ 42.578125 3.328125 38.25 0.953125 \nQ 33.9375 -1.421875 27.875 -1.421875 \nQ 17.96875 -1.421875 11.734375 6.484375 \nQ 5.515625 14.40625 5.515625 27.296875 \nQ 5.515625 40.1875 11.734375 48.09375 \nQ 17.96875 56 27.875 56 \nQ 33.9375 56 38.25 53.625 \nQ 42.578125 51.265625 45.40625 46.390625 \nz\nM 14.796875 27.296875 \nQ 14.796875 17.390625 18.875 11.75 \nQ 22.953125 6.109375 30.078125 6.109375 \nQ 37.203125 6.109375 41.296875 11.75 \nQ 45.40625 17.390625 45.40625 27.296875 \nQ 45.40625 37.203125 41.296875 42.84375 \nQ 37.203125 48.484375 30.078125 48.484375 \nQ 22.953125 48.484375 18.875 42.84375 \nQ 14.796875 37.203125 14.796875 27.296875 \nz\n\" id=\"DejaVuSans-100\"/>\n       <path d=\"M 37.109375 75.984375 \nL 37.109375 68.5 \nL 28.515625 68.5 \nQ 23.6875 68.5 21.796875 66.546875 \nQ 19.921875 64.59375 19.921875 59.515625 \nL 19.921875 54.6875 \nL 34.71875 54.6875 \nL 34.71875 47.703125 \nL 19.921875 47.703125 \nL 19.921875 0 \nL 10.890625 0 \nL 10.890625 47.703125 \nL 2.296875 47.703125 \nL 2.296875 54.6875 \nL 10.890625 54.6875 \nL 10.890625 58.5 \nQ 10.890625 67.625 15.140625 71.796875 \nQ 19.390625 75.984375 28.609375 75.984375 \nz\n\" id=\"DejaVuSans-102\"/>\n       <path d=\"M 48.78125 52.59375 \nL 48.78125 44.1875 \nQ 44.96875 46.296875 41.140625 47.34375 \nQ 37.3125 48.390625 33.40625 48.390625 \nQ 24.65625 48.390625 19.8125 42.84375 \nQ 14.984375 37.3125 14.984375 27.296875 \nQ 14.984375 17.28125 19.8125 11.734375 \nQ 24.65625 6.203125 33.40625 6.203125 \nQ 37.3125 6.203125 41.140625 7.25 \nQ 44.96875 8.296875 48.78125 10.40625 \nL 48.78125 2.09375 \nQ 45.015625 0.34375 40.984375 -0.53125 \nQ 36.96875 -1.421875 32.421875 -1.421875 \nQ 20.0625 -1.421875 12.78125 6.34375 \nQ 5.515625 14.109375 5.515625 27.296875 \nQ 5.515625 40.671875 12.859375 48.328125 \nQ 20.21875 56 33.015625 56 \nQ 37.15625 56 41.109375 55.140625 \nQ 45.0625 54.296875 48.78125 52.59375 \nz\n\" id=\"DejaVuSans-99\"/>\n       <path d=\"M 37.796875 64.3125 \nL 12.890625 25.390625 \nL 37.796875 25.390625 \nz\nM 35.203125 72.90625 \nL 47.609375 72.90625 \nL 47.609375 25.390625 \nL 58.015625 25.390625 \nL 58.015625 17.1875 \nL 47.609375 17.1875 \nL 47.609375 0 \nL 37.796875 0 \nL 37.796875 17.1875 \nL 4.890625 17.1875 \nL 4.890625 26.703125 \nz\n\" id=\"DejaVuSans-52\"/>\n       <path d=\"M 12.40625 8.296875 \nL 28.515625 8.296875 \nL 28.515625 63.921875 \nL 10.984375 60.40625 \nL 10.984375 69.390625 \nL 28.421875 72.90625 \nL 38.28125 72.90625 \nL 38.28125 8.296875 \nL 54.390625 8.296875 \nL 54.390625 0 \nL 12.40625 0 \nz\n\" id=\"DejaVuSans-49\"/>\n       <path d=\"M 10.796875 72.90625 \nL 49.515625 72.90625 \nL 49.515625 64.59375 \nL 19.828125 64.59375 \nL 19.828125 46.734375 \nQ 21.96875 47.46875 24.109375 47.828125 \nQ 26.265625 48.1875 28.421875 48.1875 \nQ 40.625 48.1875 47.75 41.5 \nQ 54.890625 34.8125 54.890625 23.390625 \nQ 54.890625 11.625 47.5625 5.09375 \nQ 40.234375 -1.421875 26.90625 -1.421875 \nQ 22.3125 -1.421875 17.546875 -0.640625 \nQ 12.796875 0.140625 7.71875 1.703125 \nL 7.71875 11.625 \nQ 12.109375 9.234375 16.796875 8.0625 \nQ 21.484375 6.890625 26.703125 6.890625 \nQ 35.15625 6.890625 40.078125 11.328125 \nQ 45.015625 15.765625 45.015625 23.390625 \nQ 45.015625 31 40.078125 35.4375 \nQ 35.15625 39.890625 26.703125 39.890625 \nQ 22.75 39.890625 18.8125 39.015625 \nQ 14.890625 38.140625 10.796875 36.28125 \nz\n\" id=\"DejaVuSans-53\"/>\n       <path d=\"M 56.203125 29.59375 \nL 56.203125 25.203125 \nL 14.890625 25.203125 \nQ 15.484375 15.921875 20.484375 11.0625 \nQ 25.484375 6.203125 34.421875 6.203125 \nQ 39.59375 6.203125 44.453125 7.46875 \nQ 49.3125 8.734375 54.109375 11.28125 \nL 54.109375 2.78125 \nQ 49.265625 0.734375 44.1875 -0.34375 \nQ 39.109375 -1.421875 33.890625 -1.421875 \nQ 20.796875 -1.421875 13.15625 6.1875 \nQ 5.515625 13.8125 5.515625 26.8125 \nQ 5.515625 40.234375 12.765625 48.109375 \nQ 20.015625 56 32.328125 56 \nQ 43.359375 56 49.78125 48.890625 \nQ 56.203125 41.796875 56.203125 29.59375 \nz\nM 47.21875 32.234375 \nQ 47.125 39.59375 43.09375 43.984375 \nQ 39.0625 48.390625 32.421875 48.390625 \nQ 24.90625 48.390625 20.390625 44.140625 \nQ 15.875 39.890625 15.1875 32.171875 \nz\n\" id=\"DejaVuSans-101\"/>\n      </defs>\n      <g transform=\"translate(7.2 565.398438)scale(0.1 -0.1)\">\n       <use xlink:href=\"#DejaVuSans-48\"/>\n       <use x=\"63.623047\" xlink:href=\"#DejaVuSans-48\"/>\n       <use x=\"127.246094\" xlink:href=\"#DejaVuSans-48\"/>\n       <use x=\"190.869141\" xlink:href=\"#DejaVuSans-48\"/>\n       <use x=\"254.492188\" xlink:href=\"#DejaVuSans-98\"/>\n       <use x=\"317.96875\" xlink:href=\"#DejaVuSans-54\"/>\n       <use x=\"381.591797\" xlink:href=\"#DejaVuSans-51\"/>\n       <use x=\"445.214844\" xlink:href=\"#DejaVuSans-56\"/>\n       <use x=\"508.837891\" xlink:href=\"#DejaVuSans-55\"/>\n       <use x=\"572.460938\" xlink:href=\"#DejaVuSans-97\"/>\n       <use x=\"633.740234\" xlink:href=\"#DejaVuSans-48\"/>\n       <use x=\"697.363281\" xlink:href=\"#DejaVuSans-51\"/>\n       <use x=\"760.986328\" xlink:href=\"#DejaVuSans-54\"/>\n       <use x=\"824.609375\" xlink:href=\"#DejaVuSans-54\"/>\n       <use x=\"888.232422\" xlink:href=\"#DejaVuSans-51\"/>\n       <use x=\"951.855469\" xlink:href=\"#DejaVuSans-50\"/>\n       <use x=\"1015.478516\" xlink:href=\"#DejaVuSans-50\"/>\n       <use x=\"1079.101562\" xlink:href=\"#DejaVuSans-100\"/>\n       <use x=\"1142.578125\" xlink:href=\"#DejaVuSans-55\"/>\n       <use x=\"1206.201172\" xlink:href=\"#DejaVuSans-102\"/>\n       <use x=\"1241.40625\" xlink:href=\"#DejaVuSans-98\"/>\n       <use x=\"1304.882812\" xlink:href=\"#DejaVuSans-102\"/>\n       <use x=\"1340.087891\" xlink:href=\"#DejaVuSans-99\"/>\n       <use x=\"1395.068359\" xlink:href=\"#DejaVuSans-54\"/>\n       <use x=\"1458.691406\" xlink:href=\"#DejaVuSans-52\"/>\n       <use x=\"1522.314453\" xlink:href=\"#DejaVuSans-51\"/>\n       <use x=\"1585.9375\" xlink:href=\"#DejaVuSans-52\"/>\n       <use x=\"1649.560547\" xlink:href=\"#DejaVuSans-97\"/>\n       <use x=\"1710.839844\" xlink:href=\"#DejaVuSans-102\"/>\n       <use x=\"1746.044922\" xlink:href=\"#DejaVuSans-49\"/>\n       <use x=\"1809.667969\" xlink:href=\"#DejaVuSans-52\"/>\n       <use x=\"1873.291016\" xlink:href=\"#DejaVuSans-53\"/>\n       <use x=\"1936.914062\" xlink:href=\"#DejaVuSans-97\"/>\n       <use x=\"1998.193359\" xlink:href=\"#DejaVuSans-100\"/>\n       <use x=\"2061.669922\" xlink:href=\"#DejaVuSans-102\"/>\n       <use x=\"2096.875\" xlink:href=\"#DejaVuSans-55\"/>\n       <use x=\"2160.498047\" xlink:href=\"#DejaVuSans-102\"/>\n       <use x=\"2195.703125\" xlink:href=\"#DejaVuSans-101\"/>\n       <use x=\"2257.226562\" xlink:href=\"#DejaVuSans-100\"/>\n       <use x=\"2320.703125\" xlink:href=\"#DejaVuSans-49\"/>\n      </g>\n     </g>\n    </g>\n    <g id=\"xtick_2\">\n     <g id=\"line2d_2\">\n      <g>\n       <use style=\"stroke:#000000;stroke-width:0.8;\" x=\"224.978064\" xlink:href=\"#m0caf161516\" y=\"550.8\"/>\n      </g>\n     </g>\n     <g id=\"text_2\">\n      <!-- 2ff459705a2ae6720ef0622beedb056e5000ae31 -->\n      <defs>\n       <path d=\"M 10.984375 1.515625 \nL 10.984375 10.5 \nQ 14.703125 8.734375 18.5 7.8125 \nQ 22.3125 6.890625 25.984375 6.890625 \nQ 35.75 6.890625 40.890625 13.453125 \nQ 46.046875 20.015625 46.78125 33.40625 \nQ 43.953125 29.203125 39.59375 26.953125 \nQ 35.25 24.703125 29.984375 24.703125 \nQ 19.046875 24.703125 12.671875 31.3125 \nQ 6.296875 37.9375 6.296875 49.421875 \nQ 6.296875 60.640625 12.9375 67.421875 \nQ 19.578125 74.21875 30.609375 74.21875 \nQ 43.265625 74.21875 49.921875 64.515625 \nQ 56.59375 54.828125 56.59375 36.375 \nQ 56.59375 19.140625 48.40625 8.859375 \nQ 40.234375 -1.421875 26.421875 -1.421875 \nQ 22.703125 -1.421875 18.890625 -0.6875 \nQ 15.09375 0.046875 10.984375 1.515625 \nz\nM 30.609375 32.421875 \nQ 37.25 32.421875 41.125 36.953125 \nQ 45.015625 41.5 45.015625 49.421875 \nQ 45.015625 57.28125 41.125 61.84375 \nQ 37.25 66.40625 30.609375 66.40625 \nQ 23.96875 66.40625 20.09375 61.84375 \nQ 16.21875 57.28125 16.21875 49.421875 \nQ 16.21875 41.5 20.09375 36.953125 \nQ 23.96875 32.421875 30.609375 32.421875 \nz\n\" id=\"DejaVuSans-57\"/>\n      </defs>\n      <g transform=\"translate(102.992127 565.398438)scale(0.1 -0.1)\">\n       <use xlink:href=\"#DejaVuSans-50\"/>\n       <use x=\"63.623047\" xlink:href=\"#DejaVuSans-102\"/>\n       <use x=\"98.828125\" xlink:href=\"#DejaVuSans-102\"/>\n       <use x=\"134.033203\" xlink:href=\"#DejaVuSans-52\"/>\n       <use x=\"197.65625\" xlink:href=\"#DejaVuSans-53\"/>\n       <use x=\"261.279297\" xlink:href=\"#DejaVuSans-57\"/>\n       <use x=\"324.902344\" xlink:href=\"#DejaVuSans-55\"/>\n       <use x=\"388.525391\" xlink:href=\"#DejaVuSans-48\"/>\n       <use x=\"452.148438\" xlink:href=\"#DejaVuSans-53\"/>\n       <use x=\"515.771484\" xlink:href=\"#DejaVuSans-97\"/>\n       <use x=\"577.050781\" xlink:href=\"#DejaVuSans-50\"/>\n       <use x=\"640.673828\" xlink:href=\"#DejaVuSans-97\"/>\n       <use x=\"701.953125\" xlink:href=\"#DejaVuSans-101\"/>\n       <use x=\"763.476562\" xlink:href=\"#DejaVuSans-54\"/>\n       <use x=\"827.099609\" xlink:href=\"#DejaVuSans-55\"/>\n       <use x=\"890.722656\" xlink:href=\"#DejaVuSans-50\"/>\n       <use x=\"954.345703\" xlink:href=\"#DejaVuSans-48\"/>\n       <use x=\"1017.96875\" xlink:href=\"#DejaVuSans-101\"/>\n       <use x=\"1079.492188\" xlink:href=\"#DejaVuSans-102\"/>\n       <use x=\"1114.697266\" xlink:href=\"#DejaVuSans-48\"/>\n       <use x=\"1178.320312\" xlink:href=\"#DejaVuSans-54\"/>\n       <use x=\"1241.943359\" xlink:href=\"#DejaVuSans-50\"/>\n       <use x=\"1305.566406\" xlink:href=\"#DejaVuSans-50\"/>\n       <use x=\"1369.189453\" xlink:href=\"#DejaVuSans-98\"/>\n       <use x=\"1432.666016\" xlink:href=\"#DejaVuSans-101\"/>\n       <use x=\"1494.189453\" xlink:href=\"#DejaVuSans-101\"/>\n       <use x=\"1555.712891\" xlink:href=\"#DejaVuSans-100\"/>\n       <use x=\"1619.189453\" xlink:href=\"#DejaVuSans-98\"/>\n       <use x=\"1682.666016\" xlink:href=\"#DejaVuSans-48\"/>\n       <use x=\"1746.289062\" xlink:href=\"#DejaVuSans-53\"/>\n       <use x=\"1809.912109\" xlink:href=\"#DejaVuSans-54\"/>\n       <use x=\"1873.535156\" xlink:href=\"#DejaVuSans-101\"/>\n       <use x=\"1935.058594\" xlink:href=\"#DejaVuSans-53\"/>\n       <use x=\"1998.681641\" xlink:href=\"#DejaVuSans-48\"/>\n       <use x=\"2062.304688\" xlink:href=\"#DejaVuSans-48\"/>\n       <use x=\"2125.927734\" xlink:href=\"#DejaVuSans-48\"/>\n       <use x=\"2189.550781\" xlink:href=\"#DejaVuSans-97\"/>\n       <use x=\"2250.830078\" xlink:href=\"#DejaVuSans-101\"/>\n       <use x=\"2312.353516\" xlink:href=\"#DejaVuSans-51\"/>\n       <use x=\"2375.976562\" xlink:href=\"#DejaVuSans-49\"/>\n      </g>\n     </g>\n    </g>\n    <g id=\"xtick_3\">\n     <g id=\"line2d_3\">\n      <g>\n       <use style=\"stroke:#000000;stroke-width:0.8;\" x=\"323.535035\" xlink:href=\"#m0caf161516\" y=\"550.8\"/>\n      </g>\n     </g>\n     <g id=\"text_3\">\n      <!-- 6193dba434f0cbfa3559ce625de3b9d5937c2c65 -->\n      <g transform=\"translate(201.341285 565.398438)scale(0.1 -0.1)\">\n       <use xlink:href=\"#DejaVuSans-54\"/>\n       <use x=\"63.623047\" xlink:href=\"#DejaVuSans-49\"/>\n       <use x=\"127.246094\" xlink:href=\"#DejaVuSans-57\"/>\n       <use x=\"190.869141\" xlink:href=\"#DejaVuSans-51\"/>\n       <use x=\"254.492188\" xlink:href=\"#DejaVuSans-100\"/>\n       <use x=\"317.96875\" xlink:href=\"#DejaVuSans-98\"/>\n       <use x=\"381.445312\" xlink:href=\"#DejaVuSans-97\"/>\n       <use x=\"442.724609\" xlink:href=\"#DejaVuSans-52\"/>\n       <use x=\"506.347656\" xlink:href=\"#DejaVuSans-51\"/>\n       <use x=\"569.970703\" xlink:href=\"#DejaVuSans-52\"/>\n       <use x=\"633.59375\" xlink:href=\"#DejaVuSans-102\"/>\n       <use x=\"668.798828\" xlink:href=\"#DejaVuSans-48\"/>\n       <use x=\"732.421875\" xlink:href=\"#DejaVuSans-99\"/>\n       <use x=\"787.402344\" xlink:href=\"#DejaVuSans-98\"/>\n       <use x=\"850.878906\" xlink:href=\"#DejaVuSans-102\"/>\n       <use x=\"886.083984\" xlink:href=\"#DejaVuSans-97\"/>\n       <use x=\"947.363281\" xlink:href=\"#DejaVuSans-51\"/>\n       <use x=\"1010.986328\" xlink:href=\"#DejaVuSans-53\"/>\n       <use x=\"1074.609375\" xlink:href=\"#DejaVuSans-53\"/>\n       <use x=\"1138.232422\" xlink:href=\"#DejaVuSans-57\"/>\n       <use x=\"1201.855469\" xlink:href=\"#DejaVuSans-99\"/>\n       <use x=\"1256.835938\" xlink:href=\"#DejaVuSans-101\"/>\n       <use x=\"1318.359375\" xlink:href=\"#DejaVuSans-54\"/>\n       <use x=\"1381.982422\" xlink:href=\"#DejaVuSans-50\"/>\n       <use x=\"1445.605469\" xlink:href=\"#DejaVuSans-53\"/>\n       <use x=\"1509.228516\" xlink:href=\"#DejaVuSans-100\"/>\n       <use x=\"1572.705078\" xlink:href=\"#DejaVuSans-101\"/>\n       <use x=\"1634.228516\" xlink:href=\"#DejaVuSans-51\"/>\n       <use x=\"1697.851562\" xlink:href=\"#DejaVuSans-98\"/>\n       <use x=\"1761.328125\" xlink:href=\"#DejaVuSans-57\"/>\n       <use x=\"1824.951172\" xlink:href=\"#DejaVuSans-100\"/>\n       <use x=\"1888.427734\" xlink:href=\"#DejaVuSans-53\"/>\n       <use x=\"1952.050781\" xlink:href=\"#DejaVuSans-57\"/>\n       <use x=\"2015.673828\" xlink:href=\"#DejaVuSans-51\"/>\n       <use x=\"2079.296875\" xlink:href=\"#DejaVuSans-55\"/>\n       <use x=\"2142.919922\" xlink:href=\"#DejaVuSans-99\"/>\n       <use x=\"2197.900391\" xlink:href=\"#DejaVuSans-50\"/>\n       <use x=\"2261.523438\" xlink:href=\"#DejaVuSans-99\"/>\n       <use x=\"2316.503906\" xlink:href=\"#DejaVuSans-54\"/>\n       <use x=\"2380.126953\" xlink:href=\"#DejaVuSans-53\"/>\n      </g>\n     </g>\n    </g>\n    <g id=\"xtick_4\">\n     <g id=\"line2d_4\">\n      <g>\n       <use style=\"stroke:#000000;stroke-width:0.8;\" x=\"422.092005\" xlink:href=\"#m0caf161516\" y=\"550.8\"/>\n      </g>\n     </g>\n     <g id=\"text_4\">\n      <!-- 94f0e86b04422b99ce55eabe94a6250a16914956 -->\n      <g transform=\"translate(297.486537 565.398438)scale(0.1 -0.1)\">\n       <use xlink:href=\"#DejaVuSans-57\"/>\n       <use x=\"63.623047\" xlink:href=\"#DejaVuSans-52\"/>\n       <use x=\"127.246094\" xlink:href=\"#DejaVuSans-102\"/>\n       <use x=\"162.451172\" xlink:href=\"#DejaVuSans-48\"/>\n       <use x=\"226.074219\" xlink:href=\"#DejaVuSans-101\"/>\n       <use x=\"287.597656\" xlink:href=\"#DejaVuSans-56\"/>\n       <use x=\"351.220703\" xlink:href=\"#DejaVuSans-54\"/>\n       <use x=\"414.84375\" xlink:href=\"#DejaVuSans-98\"/>\n       <use x=\"478.320312\" xlink:href=\"#DejaVuSans-48\"/>\n       <use x=\"541.943359\" xlink:href=\"#DejaVuSans-52\"/>\n       <use x=\"605.566406\" xlink:href=\"#DejaVuSans-52\"/>\n       <use x=\"669.189453\" xlink:href=\"#DejaVuSans-50\"/>\n       <use x=\"732.8125\" xlink:href=\"#DejaVuSans-50\"/>\n       <use x=\"796.435547\" xlink:href=\"#DejaVuSans-98\"/>\n       <use x=\"859.912109\" xlink:href=\"#DejaVuSans-57\"/>\n       <use x=\"923.535156\" xlink:href=\"#DejaVuSans-57\"/>\n       <use x=\"987.158203\" xlink:href=\"#DejaVuSans-99\"/>\n       <use x=\"1042.138672\" xlink:href=\"#DejaVuSans-101\"/>\n       <use x=\"1103.662109\" xlink:href=\"#DejaVuSans-53\"/>\n       <use x=\"1167.285156\" xlink:href=\"#DejaVuSans-53\"/>\n       <use x=\"1230.908203\" xlink:href=\"#DejaVuSans-101\"/>\n       <use x=\"1292.431641\" xlink:href=\"#DejaVuSans-97\"/>\n       <use x=\"1353.710938\" xlink:href=\"#DejaVuSans-98\"/>\n       <use x=\"1417.1875\" xlink:href=\"#DejaVuSans-101\"/>\n       <use x=\"1478.710938\" xlink:href=\"#DejaVuSans-57\"/>\n       <use x=\"1542.333984\" xlink:href=\"#DejaVuSans-52\"/>\n       <use x=\"1605.957031\" xlink:href=\"#DejaVuSans-97\"/>\n       <use x=\"1667.236328\" xlink:href=\"#DejaVuSans-54\"/>\n       <use x=\"1730.859375\" xlink:href=\"#DejaVuSans-50\"/>\n       <use x=\"1794.482422\" xlink:href=\"#DejaVuSans-53\"/>\n       <use x=\"1858.105469\" xlink:href=\"#DejaVuSans-48\"/>\n       <use x=\"1921.728516\" xlink:href=\"#DejaVuSans-97\"/>\n       <use x=\"1983.007812\" xlink:href=\"#DejaVuSans-49\"/>\n       <use x=\"2046.630859\" xlink:href=\"#DejaVuSans-54\"/>\n       <use x=\"2110.253906\" xlink:href=\"#DejaVuSans-57\"/>\n       <use x=\"2173.876953\" xlink:href=\"#DejaVuSans-49\"/>\n       <use x=\"2237.5\" xlink:href=\"#DejaVuSans-52\"/>\n       <use x=\"2301.123047\" xlink:href=\"#DejaVuSans-57\"/>\n       <use x=\"2364.746094\" xlink:href=\"#DejaVuSans-53\"/>\n       <use x=\"2428.369141\" xlink:href=\"#DejaVuSans-54\"/>\n      </g>\n     </g>\n    </g>\n    <g id=\"xtick_5\">\n     <g id=\"line2d_5\">\n      <g>\n       <use style=\"stroke:#000000;stroke-width:0.8;\" x=\"520.648976\" xlink:href=\"#m0caf161516\" y=\"550.8\"/>\n      </g>\n     </g>\n     <g id=\"text_5\">\n      <!-- c49aa719065ec8a3ae844f8a2df7f7f1255ad90d -->\n      <g transform=\"translate(400.881007 565.398438)scale(0.1 -0.1)\">\n       <use xlink:href=\"#DejaVuSans-99\"/>\n       <use x=\"54.980469\" xlink:href=\"#DejaVuSans-52\"/>\n       <use x=\"118.603516\" xlink:href=\"#DejaVuSans-57\"/>\n       <use x=\"182.226562\" xlink:href=\"#DejaVuSans-97\"/>\n       <use x=\"243.505859\" xlink:href=\"#DejaVuSans-97\"/>\n       <use x=\"304.785156\" xlink:href=\"#DejaVuSans-55\"/>\n       <use x=\"368.408203\" xlink:href=\"#DejaVuSans-49\"/>\n       <use x=\"432.03125\" xlink:href=\"#DejaVuSans-57\"/>\n       <use x=\"495.654297\" xlink:href=\"#DejaVuSans-48\"/>\n       <use x=\"559.277344\" xlink:href=\"#DejaVuSans-54\"/>\n       <use x=\"622.900391\" xlink:href=\"#DejaVuSans-53\"/>\n       <use x=\"686.523438\" xlink:href=\"#DejaVuSans-101\"/>\n       <use x=\"748.046875\" xlink:href=\"#DejaVuSans-99\"/>\n       <use x=\"803.027344\" xlink:href=\"#DejaVuSans-56\"/>\n       <use x=\"866.650391\" xlink:href=\"#DejaVuSans-97\"/>\n       <use x=\"927.929688\" xlink:href=\"#DejaVuSans-51\"/>\n       <use x=\"991.552734\" xlink:href=\"#DejaVuSans-97\"/>\n       <use x=\"1052.832031\" xlink:href=\"#DejaVuSans-101\"/>\n       <use x=\"1114.355469\" xlink:href=\"#DejaVuSans-56\"/>\n       <use x=\"1177.978516\" xlink:href=\"#DejaVuSans-52\"/>\n       <use x=\"1241.601562\" xlink:href=\"#DejaVuSans-52\"/>\n       <use x=\"1305.224609\" xlink:href=\"#DejaVuSans-102\"/>\n       <use x=\"1340.429688\" xlink:href=\"#DejaVuSans-56\"/>\n       <use x=\"1404.052734\" xlink:href=\"#DejaVuSans-97\"/>\n       <use x=\"1465.332031\" xlink:href=\"#DejaVuSans-50\"/>\n       <use x=\"1528.955078\" xlink:href=\"#DejaVuSans-100\"/>\n       <use x=\"1592.431641\" xlink:href=\"#DejaVuSans-102\"/>\n       <use x=\"1627.636719\" xlink:href=\"#DejaVuSans-55\"/>\n       <use x=\"1691.259766\" xlink:href=\"#DejaVuSans-102\"/>\n       <use x=\"1726.464844\" xlink:href=\"#DejaVuSans-55\"/>\n       <use x=\"1790.087891\" xlink:href=\"#DejaVuSans-102\"/>\n       <use x=\"1825.292969\" xlink:href=\"#DejaVuSans-49\"/>\n       <use x=\"1888.916016\" xlink:href=\"#DejaVuSans-50\"/>\n       <use x=\"1952.539062\" xlink:href=\"#DejaVuSans-53\"/>\n       <use x=\"2016.162109\" xlink:href=\"#DejaVuSans-53\"/>\n       <use x=\"2079.785156\" xlink:href=\"#DejaVuSans-97\"/>\n       <use x=\"2141.064453\" xlink:href=\"#DejaVuSans-100\"/>\n       <use x=\"2204.541016\" xlink:href=\"#DejaVuSans-57\"/>\n       <use x=\"2268.164062\" xlink:href=\"#DejaVuSans-48\"/>\n       <use x=\"2331.787109\" xlink:href=\"#DejaVuSans-100\"/>\n      </g>\n     </g>\n    </g>\n    <g id=\"xtick_6\">\n     <g id=\"line2d_6\">\n      <g>\n       <use style=\"stroke:#000000;stroke-width:0.8;\" x=\"619.205946\" xlink:href=\"#m0caf161516\" y=\"550.8\"/>\n      </g>\n     </g>\n     <g id=\"text_6\">\n      <!-- f8183d308e62fdef533901cdcd321f4f594163c6 -->\n      <g transform=\"translate(500.595009 565.398438)scale(0.1 -0.1)\">\n       <use xlink:href=\"#DejaVuSans-102\"/>\n       <use x=\"35.205078\" xlink:href=\"#DejaVuSans-56\"/>\n       <use x=\"98.828125\" xlink:href=\"#DejaVuSans-49\"/>\n       <use x=\"162.451172\" xlink:href=\"#DejaVuSans-56\"/>\n       <use x=\"226.074219\" xlink:href=\"#DejaVuSans-51\"/>\n       <use x=\"289.697266\" xlink:href=\"#DejaVuSans-100\"/>\n       <use x=\"353.173828\" xlink:href=\"#DejaVuSans-51\"/>\n       <use x=\"416.796875\" xlink:href=\"#DejaVuSans-48\"/>\n       <use x=\"480.419922\" xlink:href=\"#DejaVuSans-56\"/>\n       <use x=\"544.042969\" xlink:href=\"#DejaVuSans-101\"/>\n       <use x=\"605.566406\" xlink:href=\"#DejaVuSans-54\"/>\n       <use x=\"669.189453\" xlink:href=\"#DejaVuSans-50\"/>\n       <use x=\"732.8125\" xlink:href=\"#DejaVuSans-102\"/>\n       <use x=\"768.017578\" xlink:href=\"#DejaVuSans-100\"/>\n       <use x=\"831.494141\" xlink:href=\"#DejaVuSans-101\"/>\n       <use x=\"893.017578\" xlink:href=\"#DejaVuSans-102\"/>\n       <use x=\"928.222656\" xlink:href=\"#DejaVuSans-53\"/>\n       <use x=\"991.845703\" xlink:href=\"#DejaVuSans-51\"/>\n       <use x=\"1055.46875\" xlink:href=\"#DejaVuSans-51\"/>\n       <use x=\"1119.091797\" xlink:href=\"#DejaVuSans-57\"/>\n       <use x=\"1182.714844\" xlink:href=\"#DejaVuSans-48\"/>\n       <use x=\"1246.337891\" xlink:href=\"#DejaVuSans-49\"/>\n       <use x=\"1309.960938\" xlink:href=\"#DejaVuSans-99\"/>\n       <use x=\"1364.941406\" xlink:href=\"#DejaVuSans-100\"/>\n       <use x=\"1428.417969\" xlink:href=\"#DejaVuSans-99\"/>\n       <use x=\"1483.398438\" xlink:href=\"#DejaVuSans-100\"/>\n       <use x=\"1546.875\" xlink:href=\"#DejaVuSans-51\"/>\n       <use x=\"1610.498047\" xlink:href=\"#DejaVuSans-50\"/>\n       <use x=\"1674.121094\" xlink:href=\"#DejaVuSans-49\"/>\n       <use x=\"1737.744141\" xlink:href=\"#DejaVuSans-102\"/>\n       <use x=\"1772.949219\" xlink:href=\"#DejaVuSans-52\"/>\n       <use x=\"1836.572266\" xlink:href=\"#DejaVuSans-102\"/>\n       <use x=\"1871.777344\" xlink:href=\"#DejaVuSans-53\"/>\n       <use x=\"1935.400391\" xlink:href=\"#DejaVuSans-57\"/>\n       <use x=\"1999.023438\" xlink:href=\"#DejaVuSans-52\"/>\n       <use x=\"2062.646484\" xlink:href=\"#DejaVuSans-49\"/>\n       <use x=\"2126.269531\" xlink:href=\"#DejaVuSans-54\"/>\n       <use x=\"2189.892578\" xlink:href=\"#DejaVuSans-51\"/>\n       <use x=\"2253.515625\" xlink:href=\"#DejaVuSans-99\"/>\n       <use x=\"2308.496094\" xlink:href=\"#DejaVuSans-54\"/>\n      </g>\n     </g>\n    </g>\n    <g id=\"text_7\">\n     <!-- email -->\n     <defs>\n      <path d=\"M 52 44.1875 \nQ 55.375 50.25 60.0625 53.125 \nQ 64.75 56 71.09375 56 \nQ 79.640625 56 84.28125 50.015625 \nQ 88.921875 44.046875 88.921875 33.015625 \nL 88.921875 0 \nL 79.890625 0 \nL 79.890625 32.71875 \nQ 79.890625 40.578125 77.09375 44.375 \nQ 74.3125 48.1875 68.609375 48.1875 \nQ 61.625 48.1875 57.5625 43.546875 \nQ 53.515625 38.921875 53.515625 30.90625 \nL 53.515625 0 \nL 44.484375 0 \nL 44.484375 32.71875 \nQ 44.484375 40.625 41.703125 44.40625 \nQ 38.921875 48.1875 33.109375 48.1875 \nQ 26.21875 48.1875 22.15625 43.53125 \nQ 18.109375 38.875 18.109375 30.90625 \nL 18.109375 0 \nL 9.078125 0 \nL 9.078125 54.6875 \nL 18.109375 54.6875 \nL 18.109375 46.1875 \nQ 21.1875 51.21875 25.484375 53.609375 \nQ 29.78125 56 35.6875 56 \nQ 41.65625 56 45.828125 52.96875 \nQ 50 49.953125 52 44.1875 \nz\n\" id=\"DejaVuSans-109\"/>\n      <path d=\"M 9.421875 54.6875 \nL 18.40625 54.6875 \nL 18.40625 0 \nL 9.421875 0 \nz\nM 9.421875 75.984375 \nL 18.40625 75.984375 \nL 18.40625 64.59375 \nL 9.421875 64.59375 \nz\n\" id=\"DejaVuSans-105\"/>\n      <path d=\"M 9.421875 75.984375 \nL 18.40625 75.984375 \nL 18.40625 0 \nL 9.421875 0 \nz\n\" id=\"DejaVuSans-108\"/>\n     </defs>\n     <g transform=\"translate(366.268395 579.076563)scale(0.1 -0.1)\">\n      <use xlink:href=\"#DejaVuSans-101\"/>\n      <use x=\"61.523438\" xlink:href=\"#DejaVuSans-109\"/>\n      <use x=\"158.935547\" xlink:href=\"#DejaVuSans-97\"/>\n      <use x=\"220.214844\" xlink:href=\"#DejaVuSans-105\"/>\n      <use x=\"247.998047\" xlink:href=\"#DejaVuSans-108\"/>\n     </g>\n    </g>\n   </g>\n   <g id=\"matplotlib.axis_2\">\n    <g id=\"ytick_1\">\n     <g id=\"line2d_7\">\n      <defs>\n       <path d=\"M 0 0 \nL -3.5 0 \n\" id=\"m3f1bc2bcde\" style=\"stroke:#000000;stroke-width:0.8;\"/>\n      </defs>\n      <g>\n       <use style=\"stroke:#000000;stroke-width:0.8;\" x=\"101.057457\" xlink:href=\"#m3f1bc2bcde\" y=\"527.452292\"/>\n      </g>\n     </g>\n     <g id=\"text_8\">\n      <!-- 0 -->\n      <g transform=\"translate(87.694957 531.25151)scale(0.1 -0.1)\">\n       <use xlink:href=\"#DejaVuSans-48\"/>\n      </g>\n     </g>\n    </g>\n    <g id=\"ytick_2\">\n     <g id=\"line2d_8\">\n      <g>\n       <use style=\"stroke:#000000;stroke-width:0.8;\" x=\"101.057457\" xlink:href=\"#m3f1bc2bcde\" y=\"459.383171\"/>\n      </g>\n     </g>\n     <g id=\"text_9\">\n      <!-- 50 -->\n      <g transform=\"translate(81.332457 463.182389)scale(0.1 -0.1)\">\n       <use xlink:href=\"#DejaVuSans-53\"/>\n       <use x=\"63.623047\" xlink:href=\"#DejaVuSans-48\"/>\n      </g>\n     </g>\n    </g>\n    <g id=\"ytick_3\">\n     <g id=\"line2d_9\">\n      <g>\n       <use style=\"stroke:#000000;stroke-width:0.8;\" x=\"101.057457\" xlink:href=\"#m3f1bc2bcde\" y=\"391.31405\"/>\n      </g>\n     </g>\n     <g id=\"text_10\">\n      <!-- 100 -->\n      <g transform=\"translate(74.969957 395.113268)scale(0.1 -0.1)\">\n       <use xlink:href=\"#DejaVuSans-49\"/>\n       <use x=\"63.623047\" xlink:href=\"#DejaVuSans-48\"/>\n       <use x=\"127.246094\" xlink:href=\"#DejaVuSans-48\"/>\n      </g>\n     </g>\n    </g>\n    <g id=\"ytick_4\">\n     <g id=\"line2d_10\">\n      <g>\n       <use style=\"stroke:#000000;stroke-width:0.8;\" x=\"101.057457\" xlink:href=\"#m3f1bc2bcde\" y=\"323.244929\"/>\n      </g>\n     </g>\n     <g id=\"text_11\">\n      <!-- 150 -->\n      <g transform=\"translate(74.969957 327.044147)scale(0.1 -0.1)\">\n       <use xlink:href=\"#DejaVuSans-49\"/>\n       <use x=\"63.623047\" xlink:href=\"#DejaVuSans-53\"/>\n       <use x=\"127.246094\" xlink:href=\"#DejaVuSans-48\"/>\n      </g>\n     </g>\n    </g>\n    <g id=\"ytick_5\">\n     <g id=\"line2d_11\">\n      <g>\n       <use style=\"stroke:#000000;stroke-width:0.8;\" x=\"101.057457\" xlink:href=\"#m3f1bc2bcde\" y=\"255.175808\"/>\n      </g>\n     </g>\n     <g id=\"text_12\">\n      <!-- 200 -->\n      <g transform=\"translate(74.969957 258.975026)scale(0.1 -0.1)\">\n       <use xlink:href=\"#DejaVuSans-50\"/>\n       <use x=\"63.623047\" xlink:href=\"#DejaVuSans-48\"/>\n       <use x=\"127.246094\" xlink:href=\"#DejaVuSans-48\"/>\n      </g>\n     </g>\n    </g>\n    <g id=\"ytick_6\">\n     <g id=\"line2d_12\">\n      <g>\n       <use style=\"stroke:#000000;stroke-width:0.8;\" x=\"101.057457\" xlink:href=\"#m3f1bc2bcde\" y=\"187.106687\"/>\n      </g>\n     </g>\n     <g id=\"text_13\">\n      <!-- 250 -->\n      <g transform=\"translate(74.969957 190.905905)scale(0.1 -0.1)\">\n       <use xlink:href=\"#DejaVuSans-50\"/>\n       <use x=\"63.623047\" xlink:href=\"#DejaVuSans-53\"/>\n       <use x=\"127.246094\" xlink:href=\"#DejaVuSans-48\"/>\n      </g>\n     </g>\n    </g>\n    <g id=\"ytick_7\">\n     <g id=\"line2d_13\">\n      <g>\n       <use style=\"stroke:#000000;stroke-width:0.8;\" x=\"101.057457\" xlink:href=\"#m3f1bc2bcde\" y=\"119.037566\"/>\n      </g>\n     </g>\n     <g id=\"text_14\">\n      <!-- 300 -->\n      <g transform=\"translate(74.969957 122.836784)scale(0.1 -0.1)\">\n       <use xlink:href=\"#DejaVuSans-51\"/>\n       <use x=\"63.623047\" xlink:href=\"#DejaVuSans-48\"/>\n       <use x=\"127.246094\" xlink:href=\"#DejaVuSans-48\"/>\n      </g>\n     </g>\n    </g>\n    <g id=\"ytick_8\">\n     <g id=\"line2d_14\">\n      <g>\n       <use style=\"stroke:#000000;stroke-width:0.8;\" x=\"101.057457\" xlink:href=\"#m3f1bc2bcde\" y=\"50.968445\"/>\n      </g>\n     </g>\n     <g id=\"text_15\">\n      <!-- 350 -->\n      <g transform=\"translate(74.969957 54.767664)scale(0.1 -0.1)\">\n       <use xlink:href=\"#DejaVuSans-51\"/>\n       <use x=\"63.623047\" xlink:href=\"#DejaVuSans-53\"/>\n       <use x=\"127.246094\" xlink:href=\"#DejaVuSans-48\"/>\n      </g>\n     </g>\n    </g>\n   </g>\n   <g id=\"line2d_15\">\n    <path clip-path=\"url(#p7ec6f819bc)\" d=\"M 126.421094 509.75432 \nL 126.618208 523.368144 \nL 126.716765 519.283997 \nL 126.913879 524.729527 \nL 127.012436 523.368144 \nL 127.110993 513.838467 \nL 127.20955 526.090909 \nL 127.308106 509.75432 \nL 127.406663 526.090909 \nL 127.50522 522.006762 \nL 127.603777 523.368144 \nL 127.702334 522.006762 \nL 127.800891 523.368144 \nL 127.899448 512.477085 \nL 128.096562 526.090909 \nL 128.293676 522.006762 \nL 128.392233 515.19985 \nL 128.49079 526.090909 \nL 128.589347 479.803907 \nL 128.687904 512.477085 \nL 128.786461 507.031555 \nL 128.885018 523.368144 \nL 128.983575 517.922615 \nL 129.180689 526.090909 \nL 129.279246 512.477085 \nL 129.377803 389.952667 \nL 129.574917 524.729527 \nL 129.673474 524.729527 \nL 129.772031 513.838467 \nL 129.969145 523.368144 \nL 130.166259 526.090909 \nL 130.363373 472.996995 \nL 130.46193 523.368144 \nL 130.560487 509.75432 \nL 130.7576 522.006762 \nL 130.856157 512.477085 \nL 130.954714 526.090909 \nL 131.053271 515.19985 \nL 131.151828 523.368144 \nL 131.250385 520.645379 \nL 131.348942 526.090909 \nL 131.447499 513.838467 \nL 131.546056 524.729527 \nL 131.644613 523.368144 \nL 131.74317 516.561232 \nL 131.841727 414.457551 \nL 132.038841 519.283997 \nL 132.137398 523.368144 \nL 132.235955 520.645379 \nL 132.433069 526.090909 \nL 132.531626 519.283997 \nL 132.72874 526.090909 \nL 132.827297 526.090909 \nL 132.925854 523.368144 \nL 133.122968 526.090909 \nL 133.320082 512.477085 \nL 133.418639 523.368144 \nL 133.517196 516.561232 \nL 133.615753 523.368144 \nL 133.71431 519.283997 \nL 133.812867 524.729527 \nL 133.911424 520.645379 \nL 134.00998 523.368144 \nL 134.108537 515.19985 \nL 134.207094 526.090909 \nL 134.305651 519.283997 \nL 134.404208 472.996995 \nL 134.699879 526.090909 \nL 134.798436 526.090909 \nL 134.896993 524.729527 \nL 134.99555 494.779113 \nL 135.094107 523.368144 \nL 135.192664 516.561232 \nL 135.389778 526.090909 \nL 135.488335 524.729527 \nL 135.586892 493.417731 \nL 135.685449 526.090909 \nL 135.784006 523.368144 \nL 135.882563 511.115702 \nL 135.98112 526.090909 \nL 136.178234 519.283997 \nL 136.276791 526.090909 \nL 136.375348 519.283997 \nL 136.572462 526.090909 \nL 136.671019 522.006762 \nL 136.769576 523.368144 \nL 136.868133 515.19985 \nL 136.96669 479.803907 \nL 137.163804 519.283997 \nL 137.360917 526.090909 \nL 137.459474 524.729527 \nL 137.558031 482.526672 \nL 137.656588 523.368144 \nL 137.755145 487.972201 \nL 137.853702 522.006762 \nL 137.952259 517.922615 \nL 138.050816 526.090909 \nL 138.149373 515.19985 \nL 138.346487 526.090909 \nL 138.543601 511.115702 \nL 138.740715 522.006762 \nL 138.937829 526.090909 \nL 139.036386 501.586026 \nL 139.2335 524.729527 \nL 139.430614 523.368144 \nL 139.529171 466.190083 \nL 139.726285 524.729527 \nL 139.824842 511.115702 \nL 139.923399 526.090909 \nL 140.021956 505.670173 \nL 140.120513 526.090909 \nL 140.21907 520.645379 \nL 140.317627 526.090909 \nL 140.416184 524.729527 \nL 140.514741 526.090909 \nL 140.613298 524.729527 \nL 140.711854 516.561232 \nL 140.908968 522.006762 \nL 141.106082 492.056349 \nL 141.303196 526.090909 \nL 141.401753 524.729527 \nL 141.50031 526.090909 \nL 141.598867 507.031555 \nL 141.697424 523.368144 \nL 141.795981 508.392938 \nL 141.894538 523.368144 \nL 141.993095 522.006762 \nL 142.091652 460.744553 \nL 142.288766 523.368144 \nL 142.387323 509.75432 \nL 142.584437 526.090909 \nL 142.682994 526.090909 \nL 142.781551 523.368144 \nL 142.880108 494.779113 \nL 142.978665 526.090909 \nL 143.077222 522.006762 \nL 143.175779 526.090909 \nL 143.372893 520.645379 \nL 143.47145 526.090909 \nL 143.570007 508.392938 \nL 143.668564 512.477085 \nL 143.865678 524.729527 \nL 143.964235 492.056349 \nL 144.062791 517.922615 \nL 144.161348 502.947408 \nL 144.259905 524.729527 \nL 144.358462 523.368144 \nL 144.457019 523.368144 \nL 144.654133 526.090909 \nL 144.75269 471.635612 \nL 144.851247 526.090909 \nL 144.949804 524.729527 \nL 145.048361 519.283997 \nL 145.146918 526.090909 \nL 145.245475 515.19985 \nL 145.344032 487.972201 \nL 145.541146 526.090909 \nL 145.639703 504.30879 \nL 145.73826 513.838467 \nL 145.935374 511.115702 \nL 146.132488 526.090909 \nL 146.329602 523.368144 \nL 146.428159 519.283997 \nL 146.625273 526.090909 \nL 146.822387 526.090909 \nL 146.920944 511.115702 \nL 147.118058 526.090909 \nL 147.216615 513.838467 \nL 147.315172 462.105935 \nL 147.512285 526.090909 \nL 147.709399 523.368144 \nL 147.807956 526.090909 \nL 147.906513 522.006762 \nL 148.103627 526.090909 \nL 148.202184 520.645379 \nL 148.300741 526.090909 \nL 148.399298 523.368144 \nL 148.596412 526.090909 \nL 148.793526 526.090909 \nL 148.892083 520.645379 \nL 148.99064 526.090909 \nL 149.089197 520.645379 \nL 149.286311 526.090909 \nL 149.384868 504.30879 \nL 149.581982 526.090909 \nL 149.680539 526.090909 \nL 149.779096 511.115702 \nL 149.97621 524.729527 \nL 150.074767 526.090909 \nL 150.173324 500.224643 \nL 150.370438 524.729527 \nL 150.468995 522.006762 \nL 150.567552 523.368144 \nL 150.666108 509.75432 \nL 150.764665 520.645379 \nL 150.863222 500.224643 \nL 150.961779 515.19985 \nL 151.060336 508.392938 \nL 151.158893 487.972201 \nL 151.25745 523.368144 \nL 151.356007 519.283997 \nL 151.454564 474.358377 \nL 151.553121 524.729527 \nL 151.651678 523.368144 \nL 151.750235 526.090909 \nL 151.947349 516.561232 \nL 152.144463 522.006762 \nL 152.24302 519.283997 \nL 152.341577 509.75432 \nL 152.440134 523.368144 \nL 152.637248 517.922615 \nL 152.735805 526.090909 \nL 152.834362 524.729527 \nL 152.932919 519.283997 \nL 153.031476 526.090909 \nL 153.130033 437.601052 \nL 153.327147 526.090909 \nL 153.425704 505.670173 \nL 153.622818 526.090909 \nL 153.721375 519.283997 \nL 153.918489 524.729527 \nL 154.017045 526.090909 \nL 154.115602 523.368144 \nL 154.214159 524.729527 \nL 154.312716 388.591285 \nL 154.411273 522.006762 \nL 154.50983 516.561232 \nL 154.706944 519.283997 \nL 154.805501 471.635612 \nL 155.101172 524.729527 \nL 155.199729 522.006762 \nL 155.298286 504.30879 \nL 155.396843 524.729527 \nL 155.4954 516.561232 \nL 155.593957 522.006762 \nL 155.692514 520.645379 \nL 155.791071 526.090909 \nL 155.889628 523.368144 \nL 155.988185 526.090909 \nL 156.086742 515.19985 \nL 156.185299 526.090909 \nL 156.283856 419.90308 \nL 156.48097 526.090909 \nL 156.678084 526.090909 \nL 156.776641 524.729527 \nL 156.875198 429.432757 \nL 156.973755 524.729527 \nL 157.072312 520.645379 \nL 157.170869 526.090909 \nL 157.269426 508.392938 \nL 157.367982 524.729527 \nL 157.466539 523.368144 \nL 157.565096 519.283997 \nL 157.663653 520.645379 \nL 157.860767 526.090909 \nL 158.156438 526.090909 \nL 158.254995 507.031555 \nL 158.353552 526.090909 \nL 158.452109 520.645379 \nL 158.550666 526.090909 \nL 158.649223 493.417731 \nL 158.74778 526.090909 \nL 158.846337 520.645379 \nL 158.944894 494.779113 \nL 159.043451 524.729527 \nL 159.142008 485.249437 \nL 159.339122 526.090909 \nL 159.437679 505.670173 \nL 159.536236 522.006762 \nL 159.634793 516.561232 \nL 159.831907 526.090909 \nL 160.029021 504.30879 \nL 160.226135 526.090909 \nL 160.324692 524.729527 \nL 160.423249 526.090909 \nL 160.521806 513.838467 \nL 160.718919 526.090909 \nL 160.817476 526.090909 \nL 161.01459 516.561232 \nL 161.113147 526.090909 \nL 161.211704 522.006762 \nL 161.310261 440.323817 \nL 161.507375 526.090909 \nL 161.605932 522.006762 \nL 161.704489 524.729527 \nL 161.901603 513.838467 \nL 162.098717 522.006762 \nL 162.197274 522.006762 \nL 162.295831 462.105935 \nL 162.394388 471.635612 \nL 162.591502 522.006762 \nL 162.690059 524.729527 \nL 162.788616 403.566491 \nL 162.887173 504.30879 \nL 162.98573 501.586026 \nL 163.182844 526.090909 \nL 163.281401 526.090909 \nL 163.379958 522.006762 \nL 163.478515 526.090909 \nL 163.577072 519.283997 \nL 163.675629 526.090909 \nL 163.774186 524.729527 \nL 163.872743 443.046582 \nL 163.9713 526.090909 \nL 164.069856 522.006762 \nL 164.26697 526.090909 \nL 164.365527 522.006762 \nL 164.464084 526.090909 \nL 164.562641 494.779113 \nL 164.759755 524.729527 \nL 164.858312 508.392938 \nL 164.956869 526.090909 \nL 165.055426 524.729527 \nL 165.153983 519.283997 \nL 165.25254 483.888054 \nL 165.351097 526.090909 \nL 165.548211 515.19985 \nL 165.646768 425.34861 \nL 165.745325 522.006762 \nL 165.843882 517.922615 \nL 165.942439 385.86852 \nL 166.040996 519.283997 \nL 166.139553 508.392938 \nL 166.23811 507.031555 \nL 166.435224 524.729527 \nL 166.533781 520.645379 \nL 166.632338 526.090909 \nL 166.730895 493.417731 \nL 166.928009 526.090909 \nL 167.026566 526.090909 \nL 167.125123 523.368144 \nL 167.420793 526.090909 \nL 167.51935 486.610819 \nL 167.716464 524.729527 \nL 167.815021 517.922615 \nL 168.012135 524.729527 \nL 168.110692 519.283997 \nL 168.209249 524.729527 \nL 168.406363 523.368144 \nL 168.50492 478.442524 \nL 168.702034 526.090909 \nL 168.899148 437.601052 \nL 168.997705 523.368144 \nL 169.096262 483.888054 \nL 169.293376 526.090909 \nL 169.391933 526.090909 \nL 169.49049 523.368144 \nL 169.589047 502.947408 \nL 169.687604 508.392938 \nL 169.786161 526.090909 \nL 169.884718 512.477085 \nL 170.081832 526.090909 \nL 170.180389 523.368144 \nL 170.278946 511.115702 \nL 170.47606 524.729527 \nL 170.574617 526.090909 \nL 170.673174 516.561232 \nL 170.870287 526.090909 \nL 170.968844 526.090909 \nL 171.067401 413.096168 \nL 171.165958 526.090909 \nL 171.264515 419.90308 \nL 171.461629 526.090909 \nL 171.560186 497.501878 \nL 171.658743 501.586026 \nL 171.7573 500.224643 \nL 171.855857 526.090909 \nL 171.954414 524.729527 \nL 172.052971 524.729527 \nL 172.151528 523.368144 \nL 172.348642 526.090909 \nL 172.545756 526.090909 \nL 172.644313 522.006762 \nL 172.74287 523.368144 \nL 172.841427 513.838467 \nL 172.939984 526.090909 \nL 173.038541 512.477085 \nL 173.235655 524.729527 \nL 173.334212 515.19985 \nL 173.432769 524.729527 \nL 173.531326 502.947408 \nL 173.72844 526.090909 \nL 173.826997 524.729527 \nL 173.925554 512.477085 \nL 174.024111 526.090909 \nL 174.122667 523.368144 \nL 174.221224 515.19985 \nL 174.319781 526.090909 \nL 174.418338 513.838467 \nL 174.615452 526.090909 \nL 174.812566 502.947408 \nL 174.911123 464.8287 \nL 175.108237 526.090909 \nL 175.206794 519.283997 \nL 175.305351 477.081142 \nL 175.403908 526.090909 \nL 175.502465 524.729527 \nL 175.601022 526.090909 \nL 175.699579 524.729527 \nL 175.798136 504.30879 \nL 175.99525 526.090909 \nL 176.093807 522.006762 \nL 176.192364 523.368144 \nL 176.389478 489.333584 \nL 176.586592 512.477085 \nL 176.685149 512.477085 \nL 176.882263 526.090909 \nL 176.98082 524.729527 \nL 177.177934 526.090909 \nL 177.276491 516.561232 \nL 177.375048 526.090909 \nL 177.473604 524.729527 \nL 177.572161 512.477085 \nL 177.769275 524.729527 \nL 177.966389 526.090909 \nL 178.064946 522.006762 \nL 178.163503 327.329076 \nL 178.360617 526.090909 \nL 178.459174 526.090909 \nL 178.557731 519.283997 \nL 178.656288 494.779113 \nL 178.754845 526.090909 \nL 178.853402 516.561232 \nL 179.050516 475.71976 \nL 179.149073 526.090909 \nL 179.24763 520.645379 \nL 179.346187 526.090909 \nL 179.444744 508.392938 \nL 179.641858 526.090909 \nL 179.740415 526.090909 \nL 179.838972 406.289256 \nL 179.937529 526.090909 \nL 180.036086 455.299023 \nL 180.2332 526.090909 \nL 180.331757 526.090909 \nL 180.430314 517.922615 \nL 180.627428 526.090909 \nL 180.725985 526.090909 \nL 180.824541 524.729527 \nL 180.923098 519.283997 \nL 181.021655 526.090909 \nL 181.120212 520.645379 \nL 181.317326 526.090909 \nL 181.415883 526.090909 \nL 181.51444 523.368144 \nL 181.612997 526.090909 \nL 181.711554 524.729527 \nL 181.810111 526.090909 \nL 181.908668 475.71976 \nL 182.105782 526.090909 \nL 182.204339 520.645379 \nL 182.302896 526.090909 \nL 182.401453 524.729527 \nL 182.50001 526.090909 \nL 182.598567 524.729527 \nL 182.795681 519.283997 \nL 182.894238 496.140496 \nL 183.189909 524.729527 \nL 183.48558 513.838467 \nL 183.682694 526.090909 \nL 183.781251 522.006762 \nL 183.978365 526.090909 \nL 184.076922 517.922615 \nL 184.274035 524.729527 \nL 184.372592 520.645379 \nL 184.569706 524.729527 \nL 184.668263 526.090909 \nL 184.76682 516.561232 \nL 184.865377 526.090909 \nL 184.963934 522.006762 \nL 185.062491 526.090909 \nL 185.161048 524.729527 \nL 185.259605 520.645379 \nL 185.456719 526.090909 \nL 185.555276 524.729527 \nL 185.653833 526.090909 \nL 185.75239 524.729527 \nL 185.850947 509.75432 \nL 185.949504 526.090909 \nL 186.048061 524.729527 \nL 186.146618 512.477085 \nL 186.245175 526.090909 \nL 186.343732 482.526672 \nL 186.442289 513.838467 \nL 186.540846 498.863261 \nL 186.639403 526.090909 \nL 186.73796 448.492111 \nL 186.836517 522.006762 \nL 186.935074 512.477085 \nL 187.132188 526.090909 \nL 187.230745 497.501878 \nL 187.329302 523.368144 \nL 187.427859 508.392938 \nL 187.526415 523.368144 \nL 187.624972 497.501878 \nL 187.822086 526.090909 \nL 187.920643 526.090909 \nL 188.0192 524.729527 \nL 188.117757 517.922615 \nL 188.216314 524.729527 \nL 188.314871 486.610819 \nL 188.413428 498.863261 \nL 188.511985 526.090909 \nL 188.709099 522.006762 \nL 188.807656 526.090909 \nL 188.906213 517.922615 \nL 189.00477 523.368144 \nL 189.103327 522.006762 \nL 189.201884 511.115702 \nL 189.300441 523.368144 \nL 189.398998 522.006762 \nL 189.596112 524.729527 \nL 189.694669 504.30879 \nL 189.891783 526.090909 \nL 189.99034 526.090909 \nL 190.088897 502.947408 \nL 190.286011 524.729527 \nL 190.384568 462.105935 \nL 190.581682 526.090909 \nL 190.680239 520.645379 \nL 190.778796 524.729527 \nL 190.877352 523.368144 \nL 190.975909 526.090909 \nL 191.074466 524.729527 \nL 191.173023 483.888054 \nL 191.27158 523.368144 \nL 191.370137 496.140496 \nL 191.567251 526.090909 \nL 191.665808 505.670173 \nL 191.764365 526.090909 \nL 191.862922 509.75432 \nL 191.961479 526.090909 \nL 192.060036 492.056349 \nL 192.25715 526.090909 \nL 192.355707 526.090909 \nL 192.454264 517.922615 \nL 192.552821 524.729527 \nL 192.749935 522.006762 \nL 192.848492 523.368144 \nL 192.947049 515.19985 \nL 193.045606 519.283997 \nL 193.144163 504.30879 \nL 193.24272 526.090909 \nL 193.341277 493.417731 \nL 193.439834 522.006762 \nL 193.538391 501.586026 \nL 193.735505 523.368144 \nL 193.834062 520.645379 \nL 193.932619 526.090909 \nL 194.031176 524.729527 \nL 194.129732 509.75432 \nL 194.228289 436.239669 \nL 194.326846 526.090909 \nL 194.425403 516.561232 \nL 194.622517 526.090909 \nL 194.721074 513.838467 \nL 194.819631 463.467318 \nL 194.918188 526.090909 \nL 195.016745 520.645379 \nL 195.213859 526.090909 \nL 195.312416 522.006762 \nL 195.50953 524.729527 \nL 195.608087 524.729527 \nL 195.706644 522.006762 \nL 195.805201 526.090909 \nL 195.903758 522.006762 \nL 196.002315 526.090909 \nL 196.100872 501.586026 \nL 196.297986 526.090909 \nL 196.396543 520.645379 \nL 196.593657 504.30879 \nL 196.692214 522.006762 \nL 196.790771 468.912847 \nL 196.889328 519.283997 \nL 196.987885 508.392938 \nL 197.086442 526.090909 \nL 197.184999 447.130729 \nL 197.382113 526.090909 \nL 197.480669 523.368144 \nL 197.677783 526.090909 \nL 197.77634 526.090909 \nL 197.874897 502.947408 \nL 197.973454 517.922615 \nL 198.072011 492.056349 \nL 198.269125 520.645379 \nL 198.367682 526.090909 \nL 198.564796 504.30879 \nL 198.663353 526.090909 \nL 198.76191 523.368144 \nL 198.860467 523.368144 \nL 198.959024 526.090909 \nL 199.057581 512.477085 \nL 199.254695 526.090909 \nL 199.353252 526.090909 \nL 199.451809 520.645379 \nL 199.550366 526.090909 \nL 199.648923 500.224643 \nL 199.846037 513.838467 \nL 199.944594 481.165289 \nL 200.141708 526.090909 \nL 200.240265 519.283997 \nL 200.437379 466.190083 \nL 200.634493 524.729527 \nL 200.73305 516.561232 \nL 200.831606 526.090909 \nL 200.930163 523.368144 \nL 201.02872 526.090909 \nL 201.127277 515.19985 \nL 201.225834 475.71976 \nL 201.422948 526.090909 \nL 201.521505 522.006762 \nL 201.718619 505.670173 \nL 201.915733 526.090909 \nL 202.01429 526.090909 \nL 202.112847 515.19985 \nL 202.211404 526.090909 \nL 202.309961 522.006762 \nL 202.507075 526.090909 \nL 202.605632 526.090909 \nL 202.704189 520.645379 \nL 202.802746 494.779113 \nL 202.99986 526.090909 \nL 203.196974 526.090909 \nL 203.295531 524.729527 \nL 203.394088 526.090909 \nL 203.492645 524.729527 \nL 203.689759 509.75432 \nL 203.886873 523.368144 \nL 204.083987 501.586026 \nL 204.2811 524.729527 \nL 204.379657 522.006762 \nL 204.478214 475.71976 \nL 204.576771 526.090909 \nL 204.675328 523.368144 \nL 204.773885 526.090909 \nL 204.872442 490.694966 \nL 204.970999 526.090909 \nL 205.069556 524.729527 \nL 205.26667 526.090909 \nL 205.365227 485.249437 \nL 205.463784 523.368144 \nL 205.562341 520.645379 \nL 205.660898 526.090909 \nL 205.759455 523.368144 \nL 205.858012 526.090909 \nL 205.956569 519.283997 \nL 206.055126 526.090909 \nL 206.153683 516.561232 \nL 206.350797 481.165289 \nL 206.449354 526.090909 \nL 206.646468 497.501878 \nL 206.843582 526.090909 \nL 207.040696 511.115702 \nL 207.23781 526.090909 \nL 207.336367 526.090909 \nL 207.434924 423.987228 \nL 207.632037 526.090909 \nL 207.829151 516.561232 \nL 208.026265 526.090909 \nL 208.124822 505.670173 \nL 208.223379 453.937641 \nL 208.321936 513.838467 \nL 208.420493 330.051841 \nL 208.617607 519.283997 \nL 208.814721 523.368144 \nL 208.913278 522.006762 \nL 209.011835 507.031555 \nL 209.208949 524.729527 \nL 209.307506 479.803907 \nL 209.406063 523.368144 \nL 209.50462 520.645379 \nL 209.603177 512.477085 \nL 209.800291 526.090909 \nL 209.898848 526.090909 \nL 209.997405 524.729527 \nL 210.095962 526.090909 \nL 210.194519 517.922615 \nL 210.293076 325.967693 \nL 210.49019 517.922615 \nL 210.588747 526.090909 \nL 210.687304 516.561232 \nL 210.884417 523.368144 \nL 210.982974 519.283997 \nL 211.180088 526.090909 \nL 211.475759 526.090909 \nL 211.574316 522.006762 \nL 211.672873 526.090909 \nL 211.77143 524.729527 \nL 211.869987 517.922615 \nL 211.968544 526.090909 \nL 212.165658 516.561232 \nL 212.264215 524.729527 \nL 212.362772 517.922615 \nL 212.461329 526.090909 \nL 212.559886 516.561232 \nL 212.658443 517.922615 \nL 212.855557 526.090909 \nL 212.954114 516.561232 \nL 213.052671 526.090909 \nL 213.151228 524.729527 \nL 213.249785 520.645379 \nL 213.348342 526.090909 \nL 213.446899 523.368144 \nL 213.545456 524.729527 \nL 213.644013 522.006762 \nL 213.841127 526.090909 \nL 213.939684 513.838467 \nL 214.038241 526.090909 \nL 214.136798 524.729527 \nL 214.235354 523.368144 \nL 214.333911 513.838467 \nL 214.432468 526.090909 \nL 214.531025 459.383171 \nL 214.629582 526.090909 \nL 214.728139 524.729527 \nL 214.826696 513.838467 \nL 215.02381 523.368144 \nL 215.122367 508.392938 \nL 215.220924 522.006762 \nL 215.319481 517.922615 \nL 215.418038 526.090909 \nL 215.516595 519.283997 \nL 215.615152 523.368144 \nL 215.713709 493.417731 \nL 215.812266 526.090909 \nL 215.910823 498.863261 \nL 216.00938 526.090909 \nL 216.107937 31.909091 \nL 216.305051 523.368144 \nL 216.403608 526.090909 \nL 216.502165 458.021788 \nL 216.600722 526.090909 \nL 216.699279 524.729527 \nL 216.797836 526.090909 \nL 217.093507 522.006762 \nL 217.192064 523.368144 \nL 217.290621 498.863261 \nL 217.586291 526.090909 \nL 217.684848 507.031555 \nL 217.783405 512.477085 \nL 217.881962 482.526672 \nL 217.980519 526.090909 \nL 218.079076 524.729527 \nL 218.27619 526.090909 \nL 218.374747 513.838467 \nL 218.473304 516.561232 \nL 218.670418 526.090909 \nL 218.867532 508.392938 \nL 218.966089 524.729527 \nL 219.064646 520.645379 \nL 219.163203 526.090909 \nL 219.360317 524.729527 \nL 219.458874 481.165289 \nL 219.557431 526.090909 \nL 219.655988 415.818933 \nL 219.754545 520.645379 \nL 219.853102 487.972201 \nL 219.951659 522.006762 \nL 220.050216 520.645379 \nL 220.148773 526.090909 \nL 220.24733 524.729527 \nL 220.345887 526.090909 \nL 220.444444 523.368144 \nL 220.543001 526.090909 \nL 220.838672 492.056349 \nL 220.937228 396.759579 \nL 221.035785 526.090909 \nL 221.134342 520.645379 \nL 221.331456 519.283997 \nL 221.52857 490.694966 \nL 221.725684 524.729527 \nL 221.824241 526.090909 \nL 222.021355 522.006762 \nL 222.119912 522.006762 \nL 222.218469 497.501878 \nL 222.415583 524.729527 \nL 222.51414 526.090909 \nL 222.612697 522.006762 \nL 222.711254 490.694966 \nL 222.809811 526.090909 \nL 222.908368 523.368144 \nL 223.006925 526.090909 \nL 223.105482 524.729527 \nL 223.302596 513.838467 \nL 223.401153 524.729527 \nL 223.49971 296.01728 \nL 223.696824 526.090909 \nL 223.795381 440.323817 \nL 223.992495 520.645379 \nL 224.091052 516.561232 \nL 224.189609 524.729527 \nL 224.288165 522.006762 \nL 224.386722 513.838467 \nL 224.583836 526.090909 \nL 224.682393 513.838467 \nL 224.78095 445.769346 \nL 224.879507 519.283997 \nL 224.978064 512.477085 \nL 225.076621 526.090909 \nL 225.175178 520.645379 \nL 225.273735 524.729527 \nL 225.470849 504.30879 \nL 225.667963 526.090909 \nL 225.76652 522.006762 \nL 225.865077 524.729527 \nL 225.963634 470.27423 \nL 226.160748 522.006762 \nL 226.357862 526.090909 \nL 226.456419 526.090909 \nL 226.554976 512.477085 \nL 226.653533 526.090909 \nL 226.75209 523.368144 \nL 226.850647 526.090909 \nL 227.047761 524.729527 \nL 227.146318 526.090909 \nL 227.244875 511.115702 \nL 227.441989 526.090909 \nL 227.540546 520.645379 \nL 227.737659 526.090909 \nL 227.836216 523.368144 \nL 227.934773 526.090909 \nL 228.03333 512.477085 \nL 228.230444 526.090909 \nL 228.329001 526.090909 \nL 228.427558 493.417731 \nL 228.624672 526.090909 \nL 228.723229 519.283997 \nL 228.821786 523.368144 \nL 228.920343 501.586026 \nL 229.117457 524.729527 \nL 229.216014 526.090909 \nL 229.314571 516.561232 \nL 229.511685 526.090909 \nL 229.610242 512.477085 \nL 229.708799 526.090909 \nL 229.807356 516.561232 \nL 229.905913 519.283997 \nL 230.00447 508.392938 \nL 230.103027 526.090909 \nL 230.201584 517.922615 \nL 230.398698 526.090909 \nL 230.497255 520.645379 \nL 230.595812 459.383171 \nL 230.792926 526.090909 \nL 230.990039 517.922615 \nL 231.187153 524.729527 \nL 231.28571 522.006762 \nL 231.384267 515.19985 \nL 231.482824 526.090909 \nL 231.581381 517.922615 \nL 231.679938 524.729527 \nL 231.778495 505.670173 \nL 231.975609 524.729527 \nL 232.074166 526.090909 \nL 232.172723 523.368144 \nL 232.369837 526.090909 \nL 232.468394 526.090909 \nL 232.566951 524.729527 \nL 232.665508 509.75432 \nL 232.764065 526.090909 \nL 232.862622 387.229902 \nL 232.961179 526.090909 \nL 233.059736 519.283997 \nL 233.158293 526.090909 \nL 233.25685 520.645379 \nL 233.355407 522.006762 \nL 233.453964 519.283997 \nL 233.552521 526.090909 \nL 233.749635 522.006762 \nL 233.848192 524.729527 \nL 233.946749 485.249437 \nL 234.045306 523.368144 \nL 234.143863 459.383171 \nL 234.340976 524.729527 \nL 234.439533 520.645379 \nL 234.636647 524.729527 \nL 234.735204 522.006762 \nL 234.833761 490.694966 \nL 234.932318 526.090909 \nL 235.030875 524.729527 \nL 235.129432 522.006762 \nL 235.227989 523.368144 \nL 235.425103 522.006762 \nL 235.52366 524.729527 \nL 235.622217 523.368144 \nL 235.720774 524.729527 \nL 235.819331 523.368144 \nL 235.917888 524.729527 \nL 236.115002 486.610819 \nL 236.213559 524.729527 \nL 236.312116 520.645379 \nL 236.410673 520.645379 \nL 236.50923 502.947408 \nL 236.706344 524.729527 \nL 236.804901 515.19985 \nL 236.903458 421.264463 \nL 237.100572 515.19985 \nL 237.297686 520.645379 \nL 237.396243 522.006762 \nL 237.4948 526.090909 \nL 237.593356 523.368144 \nL 237.691913 526.090909 \nL 237.79047 522.006762 \nL 237.987584 526.090909 \nL 238.184698 519.283997 \nL 238.283255 481.165289 \nL 238.480369 523.368144 \nL 238.578926 493.417731 \nL 238.77604 526.090909 \nL 238.874597 526.090909 \nL 238.973154 505.670173 \nL 239.170268 526.090909 \nL 239.268825 523.368144 \nL 239.367382 524.729527 \nL 239.465939 512.477085 \nL 239.663053 523.368144 \nL 239.76161 523.368144 \nL 239.860167 483.888054 \nL 240.057281 526.090909 \nL 240.155838 526.090909 \nL 240.254395 522.006762 \nL 240.451509 526.090909 \nL 240.550066 519.283997 \nL 240.74718 526.090909 \nL 240.845737 526.090909 \nL 240.944293 520.645379 \nL 241.04285 523.368144 \nL 241.141407 522.006762 \nL 241.239964 494.779113 \nL 241.338521 526.090909 \nL 241.437078 520.645379 \nL 241.535635 477.081142 \nL 241.634192 526.090909 \nL 241.732749 485.249437 \nL 241.929863 526.090909 \nL 242.02842 513.838467 \nL 242.126977 523.368144 \nL 242.324091 441.685199 \nL 242.422648 526.090909 \nL 242.521205 523.368144 \nL 242.718319 526.090909 \nL 242.915433 526.090909 \nL 243.01399 523.368144 \nL 243.112547 524.729527 \nL 243.309661 519.283997 \nL 243.506775 526.090909 \nL 243.605332 526.090909 \nL 243.703889 509.75432 \nL 243.802446 516.561232 \nL 243.901003 511.115702 \nL 243.99956 523.368144 \nL 244.098117 520.645379 \nL 244.196674 466.190083 \nL 244.29523 526.090909 \nL 244.393787 471.635612 \nL 244.689458 523.368144 \nL 244.788015 519.283997 \nL 244.985129 526.090909 \nL 245.182243 517.922615 \nL 245.2808 471.635612 \nL 245.379357 526.090909 \nL 245.477914 520.645379 \nL 245.576471 520.645379 \nL 245.675028 502.947408 \nL 245.872142 526.090909 \nL 246.069256 516.561232 \nL 246.167813 526.090909 \nL 246.26637 486.610819 \nL 246.463484 526.090909 \nL 246.562041 423.987228 \nL 246.660598 526.090909 \nL 246.759155 470.27423 \nL 246.857712 523.368144 \nL 246.956269 498.863261 \nL 247.153383 526.090909 \nL 247.25194 512.477085 \nL 247.350497 522.006762 \nL 247.449054 517.922615 \nL 247.547611 526.090909 \nL 247.646167 415.818933 \nL 247.744724 526.090909 \nL 247.843281 519.283997 \nL 247.941838 524.729527 \nL 248.040395 523.368144 \nL 248.138952 524.729527 \nL 248.336066 515.19985 \nL 248.434623 483.888054 \nL 248.53318 520.645379 \nL 248.631737 505.670173 \nL 248.828851 526.090909 \nL 248.927408 522.006762 \nL 249.124522 497.501878 \nL 249.223079 522.006762 \nL 249.321636 517.922615 \nL 249.420193 502.947408 \nL 249.51875 526.090909 \nL 249.617307 501.586026 \nL 249.715864 526.090909 \nL 249.912978 522.006762 \nL 250.110092 526.090909 \nL 250.208649 519.283997 \nL 250.405763 526.090909 \nL 250.50432 524.729527 \nL 250.701434 526.090909 \nL 250.799991 498.863261 \nL 250.898548 501.586026 \nL 251.095661 526.090909 \nL 251.194218 517.922615 \nL 251.292775 522.006762 \nL 251.391332 489.333584 \nL 251.489889 526.090909 \nL 251.588446 502.947408 \nL 251.78556 524.729527 \nL 251.884117 513.838467 \nL 252.081231 472.996995 \nL 252.278345 522.006762 \nL 252.376902 502.947408 \nL 252.574016 519.283997 \nL 252.77113 526.090909 \nL 252.968244 526.090909 \nL 253.066801 517.922615 \nL 253.165358 526.090909 \nL 253.263915 483.888054 \nL 253.362472 526.090909 \nL 253.461029 522.006762 \nL 253.559586 524.729527 \nL 253.658143 513.838467 \nL 253.7567 526.090909 \nL 253.855257 502.947408 \nL 253.953814 526.090909 \nL 254.052371 474.358377 \nL 254.249485 524.729527 \nL 254.446598 522.006762 \nL 254.545155 520.645379 \nL 254.643712 524.729527 \nL 254.742269 502.947408 \nL 254.939383 520.645379 \nL 255.03794 516.561232 \nL 255.136497 523.368144 \nL 255.235054 520.645379 \nL 255.333611 523.368144 \nL 255.432168 516.561232 \nL 255.530725 523.368144 \nL 255.629282 492.056349 \nL 255.826396 524.729527 \nL 255.924953 513.838467 \nL 256.02351 517.922615 \nL 256.220624 501.586026 \nL 256.319181 523.368144 \nL 256.417738 520.645379 \nL 256.516295 522.006762 \nL 256.614852 526.090909 \nL 256.713409 520.645379 \nL 256.811966 433.516905 \nL 257.00908 526.090909 \nL 257.107637 470.27423 \nL 257.206194 526.090909 \nL 257.304751 509.75432 \nL 257.403308 526.090909 \nL 257.698978 513.838467 \nL 257.797535 523.368144 \nL 257.994649 517.922615 \nL 258.191763 526.090909 \nL 258.29032 467.551465 \nL 258.487434 526.090909 \nL 258.585991 501.586026 \nL 258.783105 524.729527 \nL 258.881662 522.006762 \nL 258.980219 524.729527 \nL 259.078776 519.283997 \nL 259.177333 474.358377 \nL 259.27589 524.729527 \nL 259.374447 500.224643 \nL 259.571561 526.090909 \nL 259.670118 526.090909 \nL 259.768675 522.006762 \nL 259.867232 398.120962 \nL 259.965789 524.729527 \nL 260.064346 500.224643 \nL 260.162903 415.818933 \nL 260.360017 523.368144 \nL 260.458574 445.769346 \nL 260.655688 522.006762 \nL 260.754245 498.863261 \nL 260.852802 511.115702 \nL 260.951359 494.779113 \nL 261.049915 526.090909 \nL 261.148472 523.368144 \nL 261.247029 523.368144 \nL 261.345586 511.115702 \nL 261.444143 522.006762 \nL 261.5427 517.922615 \nL 261.641257 493.417731 \nL 261.838371 526.090909 \nL 261.936928 498.863261 \nL 262.035485 524.729527 \nL 262.134042 523.368144 \nL 262.232599 520.645379 \nL 262.331156 524.729527 \nL 262.429713 448.492111 \nL 262.626827 526.090909 \nL 262.922498 523.368144 \nL 263.021055 477.081142 \nL 263.218169 524.729527 \nL 263.316726 524.729527 \nL 263.51384 526.090909 \nL 263.612397 512.477085 \nL 263.710954 524.729527 \nL 263.809511 517.922615 \nL 263.908068 523.368144 \nL 264.006625 520.645379 \nL 264.105182 524.729527 \nL 264.203739 511.115702 \nL 264.400852 526.090909 \nL 264.499409 519.283997 \nL 264.597966 524.729527 \nL 264.696523 520.645379 \nL 264.79508 526.090909 \nL 264.893637 520.645379 \nL 265.090751 526.090909 \nL 265.287865 490.694966 \nL 265.484979 526.090909 \nL 265.583536 493.417731 \nL 265.78065 526.090909 \nL 265.977764 505.670173 \nL 266.174878 526.090909 \nL 266.273435 526.090909 \nL 266.371992 504.30879 \nL 266.470549 524.729527 \nL 266.569106 517.922615 \nL 266.76622 524.729527 \nL 266.864777 520.645379 \nL 266.963334 523.368144 \nL 267.061891 483.888054 \nL 267.259005 523.368144 \nL 267.357562 522.006762 \nL 267.456119 508.392938 \nL 267.653233 524.729527 \nL 267.751789 522.006762 \nL 267.948903 526.090909 \nL 268.04746 516.561232 \nL 268.146017 520.645379 \nL 268.244574 507.031555 \nL 268.441688 526.090909 \nL 268.540245 522.006762 \nL 268.737359 526.090909 \nL 268.835916 494.779113 \nL 269.03303 524.729527 \nL 269.131587 477.081142 \nL 269.230144 520.645379 \nL 269.328701 517.922615 \nL 269.427258 526.090909 \nL 269.624372 517.922615 \nL 269.722929 526.090909 \nL 269.920043 523.368144 \nL 270.0186 399.482344 \nL 270.215714 520.645379 \nL 270.412828 524.729527 \nL 270.511385 526.090909 \nL 270.609942 513.838467 \nL 270.708499 526.090909 \nL 270.807056 511.115702 \nL 271.00417 526.090909 \nL 271.102726 524.729527 \nL 271.201283 526.090909 \nL 271.398397 524.729527 \nL 271.496954 492.056349 \nL 271.694068 526.090909 \nL 271.792625 508.392938 \nL 271.891182 524.729527 \nL 271.989739 493.417731 \nL 272.088296 513.838467 \nL 272.186853 482.526672 \nL 272.28541 523.368144 \nL 272.383967 505.670173 \nL 272.482524 523.368144 \nL 272.581081 522.006762 \nL 272.679638 523.368144 \nL 272.778195 516.561232 \nL 272.876752 526.090909 \nL 272.975309 509.75432 \nL 273.172423 526.090909 \nL 273.27098 523.368144 \nL 273.369537 526.090909 \nL 273.468094 524.729527 \nL 273.566651 517.922615 \nL 273.665208 526.090909 \nL 273.763765 520.645379 \nL 273.862322 526.090909 \nL 274.059436 486.610819 \nL 274.453663 526.090909 \nL 274.55222 513.838467 \nL 274.650777 524.729527 \nL 274.847891 448.492111 \nL 274.946448 523.368144 \nL 275.045005 509.75432 \nL 275.143562 526.090909 \nL 275.242119 524.729527 \nL 275.340676 502.947408 \nL 275.439233 526.090909 \nL 275.53779 479.803907 \nL 275.734904 526.090909 \nL 275.833461 522.006762 \nL 275.932018 509.75432 \nL 276.129132 526.090909 \nL 276.326246 524.729527 \nL 276.424803 526.090909 \nL 276.52336 522.006762 \nL 276.621917 523.368144 \nL 276.720474 522.006762 \nL 276.819031 523.368144 \nL 276.917588 496.140496 \nL 277.114702 524.729527 \nL 277.213259 517.922615 \nL 277.311816 388.591285 \nL 277.50893 524.729527 \nL 277.706044 516.561232 \nL 277.903157 526.090909 \nL 278.001714 523.368144 \nL 278.100271 526.090909 \nL 278.198828 524.729527 \nL 278.395942 526.090909 \nL 278.494499 524.729527 \nL 278.691613 508.392938 \nL 278.888727 526.090909 \nL 278.987284 501.586026 \nL 279.085841 526.090909 \nL 279.184398 523.368144 \nL 279.381512 526.090909 \nL 279.578626 526.090909 \nL 279.677183 516.561232 \nL 279.77574 526.090909 \nL 280.071411 520.645379 \nL 280.169968 526.090909 \nL 280.268525 517.922615 \nL 280.465639 472.996995 \nL 280.564196 526.090909 \nL 280.662753 512.477085 \nL 280.859867 526.090909 \nL 280.958424 526.090909 \nL 281.05698 508.392938 \nL 281.254094 526.090909 \nL 281.352651 472.996995 \nL 281.451208 524.729527 \nL 281.549765 522.006762 \nL 281.746879 526.090909 \nL 281.845436 517.922615 \nL 281.943993 526.090909 \nL 282.04255 519.283997 \nL 282.141107 526.090909 \nL 282.338221 515.19985 \nL 282.436778 516.561232 \nL 282.535335 526.090909 \nL 282.633892 522.006762 \nL 282.831006 526.090909 \nL 282.929563 475.71976 \nL 283.02812 526.090909 \nL 283.126677 524.729527 \nL 283.225234 519.283997 \nL 283.422348 522.006762 \nL 283.520905 526.090909 \nL 283.619462 524.729527 \nL 283.718019 513.838467 \nL 283.816576 526.090909 \nL 284.112247 494.779113 \nL 284.210804 523.368144 \nL 284.309361 498.863261 \nL 284.407917 523.368144 \nL 284.506474 515.19985 \nL 284.605031 526.090909 \nL 284.802145 512.477085 \nL 284.900702 520.645379 \nL 284.999259 513.838467 \nL 285.097816 489.333584 \nL 285.29493 526.090909 \nL 285.590601 526.090909 \nL 285.787715 524.729527 \nL 285.886272 526.090909 \nL 285.984829 516.561232 \nL 286.083386 526.090909 \nL 286.181943 425.34861 \nL 286.2805 522.006762 \nL 286.379057 489.333584 \nL 286.477614 526.090909 \nL 286.576171 483.888054 \nL 286.674728 526.090909 \nL 286.773285 515.19985 \nL 286.970399 523.368144 \nL 287.068956 512.477085 \nL 287.167513 513.838467 \nL 287.561741 526.090909 \nL 287.660298 526.090909 \nL 287.758854 524.729527 \nL 287.955968 526.090909 \nL 288.054525 526.090909 \nL 288.153082 511.115702 \nL 288.251639 522.006762 \nL 288.350196 505.670173 \nL 288.448753 520.645379 \nL 288.54731 519.283997 \nL 288.645867 526.090909 \nL 288.744424 502.947408 \nL 288.842981 524.729527 \nL 288.941538 520.645379 \nL 289.138652 526.090909 \nL 289.237209 509.75432 \nL 289.335766 512.477085 \nL 289.434323 524.729527 \nL 289.53288 522.006762 \nL 289.631437 487.972201 \nL 289.729994 520.645379 \nL 289.828551 519.283997 \nL 289.927108 512.477085 \nL 290.124222 526.090909 \nL 290.222779 524.729527 \nL 290.321336 487.972201 \nL 290.51845 526.090909 \nL 290.617007 515.19985 \nL 290.715564 522.006762 \nL 290.814121 500.224643 \nL 291.011235 526.090909 \nL 291.208348 526.090909 \nL 291.306905 447.130729 \nL 291.504019 523.368144 \nL 291.602576 526.090909 \nL 291.79969 522.006762 \nL 291.996804 526.090909 \nL 292.095361 523.368144 \nL 292.193918 512.477085 \nL 292.292475 513.838467 \nL 292.391032 520.645379 \nL 292.489589 486.610819 \nL 292.588146 526.090909 \nL 292.686703 509.75432 \nL 292.78526 519.283997 \nL 292.883817 507.031555 \nL 292.982374 520.645379 \nL 293.080931 455.299023 \nL 293.179488 526.090909 \nL 293.278045 524.729527 \nL 293.475159 515.19985 \nL 293.573716 515.19985 \nL 293.672273 523.368144 \nL 293.77083 459.383171 \nL 293.967944 526.090909 \nL 294.066501 520.645379 \nL 294.263615 526.090909 \nL 294.362172 524.729527 \nL 294.460728 464.8287 \nL 294.657842 523.368144 \nL 294.854956 526.090909 \nL 295.05207 523.368144 \nL 295.150627 475.71976 \nL 295.249184 526.090909 \nL 295.347741 522.006762 \nL 295.446298 523.368144 \nL 295.544855 509.75432 \nL 295.643412 526.090909 \nL 295.741969 500.224643 \nL 295.939083 526.090909 \nL 296.03764 517.922615 \nL 296.136197 523.368144 \nL 296.234754 508.392938 \nL 296.333311 524.729527 \nL 296.431868 501.586026 \nL 296.628982 522.006762 \nL 296.727539 508.392938 \nL 296.826096 524.729527 \nL 296.924653 523.368144 \nL 297.121767 526.090909 \nL 297.220324 347.749812 \nL 297.417438 526.090909 \nL 297.515995 507.031555 \nL 297.614552 524.729527 \nL 297.713109 522.006762 \nL 297.811665 523.368144 \nL 297.910222 515.19985 \nL 298.008779 523.368144 \nL 298.107336 520.645379 \nL 298.205893 526.090909 \nL 298.403007 496.140496 \nL 298.600121 524.729527 \nL 298.698678 489.333584 \nL 298.895792 523.368144 \nL 298.994349 512.477085 \nL 299.092906 519.283997 \nL 299.191463 490.694966 \nL 299.388577 526.090909 \nL 299.585691 482.526672 \nL 299.684248 523.368144 \nL 299.782805 517.922615 \nL 299.881362 493.417731 \nL 299.979919 524.729527 \nL 300.078476 520.645379 \nL 300.177033 483.888054 \nL 300.374147 522.006762 \nL 300.472704 502.947408 \nL 300.571261 524.729527 \nL 300.669818 523.368144 \nL 300.768375 524.729527 \nL 300.866932 522.006762 \nL 300.965489 524.729527 \nL 301.064046 523.368144 \nL 301.162602 492.056349 \nL 301.359716 524.729527 \nL 301.458273 524.729527 \nL 301.55683 519.283997 \nL 301.655387 443.046582 \nL 301.852501 526.090909 \nL 301.951058 449.853494 \nL 302.049615 524.729527 \nL 302.148172 508.392938 \nL 302.345286 526.090909 \nL 302.443843 522.006762 \nL 302.5424 526.090909 \nL 302.640957 438.962434 \nL 302.838071 526.090909 \nL 302.936628 526.090909 \nL 303.035185 331.413223 \nL 303.232299 526.090909 \nL 303.330856 523.368144 \nL 303.429413 516.561232 \nL 303.52797 523.368144 \nL 303.725084 519.283997 \nL 303.823641 526.090909 \nL 304.020755 516.561232 \nL 304.119312 516.561232 \nL 304.217869 526.090909 \nL 304.316426 479.803907 \nL 304.513539 526.090909 \nL 304.612096 524.729527 \nL 304.710653 526.090909 \nL 304.80921 482.526672 \nL 305.006324 524.729527 \nL 305.104881 423.987228 \nL 305.301995 526.090909 \nL 305.400552 522.006762 \nL 305.499109 526.090909 \nL 305.597666 502.947408 \nL 305.696223 508.392938 \nL 305.79478 523.368144 \nL 305.893337 520.645379 \nL 306.090451 526.090909 \nL 306.189008 523.368144 \nL 306.287565 524.729527 \nL 306.386122 512.477085 \nL 306.484679 523.368144 \nL 306.583236 522.006762 \nL 306.681793 513.838467 \nL 306.878907 526.090909 \nL 306.977464 520.645379 \nL 307.076021 508.392938 \nL 307.174578 513.838467 \nL 307.273135 526.090909 \nL 307.470249 523.368144 \nL 307.568806 524.729527 \nL 307.667363 513.838467 \nL 307.864476 526.090909 \nL 307.963033 520.645379 \nL 308.258704 526.090909 \nL 308.357261 523.368144 \nL 308.455818 513.838467 \nL 308.554375 524.729527 \nL 308.652932 523.368144 \nL 308.751489 520.645379 \nL 308.850046 496.140496 \nL 308.948603 524.729527 \nL 309.04716 456.660406 \nL 309.145717 526.090909 \nL 309.244274 524.729527 \nL 309.342831 524.729527 \nL 309.441388 519.283997 \nL 309.539945 526.090909 \nL 309.638502 515.19985 \nL 309.737059 524.729527 \nL 309.835616 523.368144 \nL 309.934173 489.333584 \nL 310.131287 524.729527 \nL 310.229844 524.729527 \nL 310.328401 526.090909 \nL 310.426958 516.561232 \nL 310.624072 526.090909 \nL 310.722629 526.090909 \nL 310.821186 497.501878 \nL 310.919743 517.922615 \nL 311.0183 505.670173 \nL 311.116857 526.090909 \nL 311.215413 478.442524 \nL 311.31397 522.006762 \nL 311.412527 516.561232 \nL 311.511084 456.660406 \nL 311.708198 526.090909 \nL 311.806755 511.115702 \nL 311.905312 526.090909 \nL 312.003869 523.368144 \nL 312.102426 513.838467 \nL 312.200983 526.090909 \nL 312.29954 519.283997 \nL 312.496654 524.729527 \nL 312.595211 519.283997 \nL 312.693768 524.729527 \nL 312.792325 512.477085 \nL 312.890882 524.729527 \nL 312.989439 519.283997 \nL 313.087996 504.30879 \nL 313.28511 524.729527 \nL 313.383667 519.283997 \nL 313.580781 526.090909 \nL 313.679338 509.75432 \nL 313.975009 526.090909 \nL 314.073566 523.368144 \nL 314.172123 505.670173 \nL 314.27068 524.729527 \nL 314.369237 522.006762 \nL 314.467794 483.888054 \nL 314.664907 526.090909 \nL 314.763464 504.30879 \nL 314.960578 524.729527 \nL 315.059135 520.645379 \nL 315.256249 524.729527 \nL 315.354806 526.090909 \nL 315.453363 520.645379 \nL 315.55192 522.006762 \nL 315.650477 509.75432 \nL 315.749034 526.090909 \nL 315.847591 504.30879 \nL 316.044705 523.368144 \nL 316.241819 526.090909 \nL 316.340376 524.729527 \nL 316.438933 513.838467 \nL 316.53749 522.006762 \nL 316.636047 487.972201 \nL 316.734604 526.090909 \nL 316.833161 478.442524 \nL 316.931718 522.006762 \nL 317.030275 505.670173 \nL 317.128832 522.006762 \nL 317.227389 496.140496 \nL 317.325946 526.090909 \nL 317.424503 498.863261 \nL 317.52306 505.670173 \nL 317.621617 526.090909 \nL 317.720174 522.006762 \nL 317.818731 524.729527 \nL 317.917287 508.392938 \nL 318.015844 509.75432 \nL 318.114401 507.031555 \nL 318.212958 523.368144 \nL 318.311515 517.922615 \nL 318.410072 522.006762 \nL 318.508629 498.863261 \nL 318.705743 526.090909 \nL 318.8043 516.561232 \nL 319.001414 523.368144 \nL 319.198528 524.729527 \nL 319.297085 507.031555 \nL 319.592756 526.090909 \nL 319.691313 526.090909 \nL 319.78987 519.283997 \nL 319.888427 447.130729 \nL 320.085541 526.090909 \nL 320.184098 523.368144 \nL 320.282655 526.090909 \nL 320.381212 523.368144 \nL 320.479769 526.090909 \nL 320.578326 522.006762 \nL 320.676883 526.090909 \nL 320.77544 524.729527 \nL 320.972554 517.922615 \nL 321.169667 524.729527 \nL 321.268224 520.645379 \nL 321.465338 526.090909 \nL 321.563895 526.090909 \nL 321.662452 520.645379 \nL 321.761009 526.090909 \nL 321.859566 517.922615 \nL 321.958123 526.090909 \nL 322.05668 517.922615 \nL 322.253794 526.090909 \nL 322.352351 509.75432 \nL 322.549465 524.729527 \nL 322.648022 522.006762 \nL 322.746579 523.368144 \nL 322.845136 512.477085 \nL 322.943693 523.368144 \nL 323.239364 490.694966 \nL 323.337921 524.729527 \nL 323.535035 500.224643 \nL 323.732149 523.368144 \nL 323.830706 489.333584 \nL 323.929263 522.006762 \nL 324.02782 512.477085 \nL 324.224934 526.090909 \nL 324.422048 517.922615 \nL 324.520604 526.090909 \nL 324.619161 508.392938 \nL 324.717718 522.006762 \nL 324.816275 517.922615 \nL 324.914832 524.729527 \nL 325.210503 508.392938 \nL 325.407617 526.090909 \nL 325.506174 512.477085 \nL 325.604731 522.006762 \nL 325.801845 508.392938 \nL 326.196073 526.090909 \nL 326.29463 471.635612 \nL 326.393187 524.729527 \nL 326.491744 523.368144 \nL 326.590301 509.75432 \nL 326.787415 524.729527 \nL 326.885972 520.645379 \nL 326.984529 511.115702 \nL 327.181643 524.729527 \nL 327.2802 474.358377 \nL 327.378757 526.090909 \nL 327.477314 456.660406 \nL 327.674428 524.729527 \nL 327.772985 526.090909 \nL 327.871541 494.779113 \nL 327.970098 526.090909 \nL 328.068655 500.224643 \nL 328.167212 523.368144 \nL 328.265769 520.645379 \nL 328.462883 524.729527 \nL 328.56144 524.729527 \nL 328.659997 517.922615 \nL 328.758554 524.729527 \nL 328.857111 522.006762 \nL 328.955668 526.090909 \nL 329.054225 513.838467 \nL 329.152782 523.368144 \nL 329.349896 507.031555 \nL 329.448453 524.729527 \nL 329.54701 522.006762 \nL 329.645567 523.368144 \nL 329.744124 508.392938 \nL 329.842681 512.477085 \nL 329.941238 526.090909 \nL 330.039795 520.645379 \nL 330.138352 494.779113 \nL 330.335466 526.090909 \nL 330.434023 500.224643 \nL 330.631137 524.729527 \nL 330.729694 512.477085 \nL 330.828251 520.645379 \nL 330.926808 519.283997 \nL 331.025365 492.056349 \nL 331.123922 522.006762 \nL 331.222478 448.492111 \nL 331.419592 526.090909 \nL 331.518149 526.090909 \nL 331.616706 524.729527 \nL 331.81382 526.090909 \nL 331.912377 505.670173 \nL 332.109491 526.090909 \nL 332.208048 526.090909 \nL 332.306605 500.224643 \nL 332.503719 524.729527 \nL 332.700833 526.090909 \nL 332.79939 515.19985 \nL 333.095061 526.090909 \nL 333.193618 522.006762 \nL 333.292175 406.289256 \nL 333.489289 524.729527 \nL 333.587846 524.729527 \nL 333.686403 522.006762 \nL 333.78496 507.031555 \nL 333.883517 413.096168 \nL 333.982074 524.729527 \nL 334.080631 522.006762 \nL 334.179188 466.190083 \nL 334.277745 509.75432 \nL 334.376302 433.516905 \nL 334.474859 526.090909 \nL 334.573415 522.006762 \nL 334.770529 513.838467 \nL 334.967643 526.090909 \nL 335.0662 524.729527 \nL 335.164757 513.838467 \nL 335.263314 524.729527 \nL 335.361871 523.368144 \nL 335.460428 486.610819 \nL 335.558985 526.090909 \nL 335.657542 513.838467 \nL 335.756099 526.090909 \nL 335.854656 519.283997 \nL 335.953213 526.090909 \nL 336.05177 522.006762 \nL 336.150327 507.031555 \nL 336.248884 516.561232 \nL 336.445998 436.239669 \nL 336.643112 526.090909 \nL 336.741669 520.645379 \nL 336.840226 522.006762 \nL 336.938783 509.75432 \nL 337.03734 455.299023 \nL 337.135897 526.090909 \nL 337.234454 494.779113 \nL 337.431568 522.006762 \nL 337.530125 526.090909 \nL 337.628682 517.922615 \nL 337.727239 526.090909 \nL 337.825796 523.368144 \nL 337.924352 526.090909 \nL 338.022909 512.477085 \nL 338.121466 516.561232 \nL 338.220023 526.090909 \nL 338.31858 459.383171 \nL 338.417137 462.105935 \nL 338.614251 526.090909 \nL 338.909922 517.922615 \nL 339.008479 520.645379 \nL 339.107036 505.670173 \nL 339.30415 526.090909 \nL 339.402707 468.912847 \nL 339.501264 472.996995 \nL 339.698378 526.090909 \nL 339.796935 520.645379 \nL 339.994049 524.729527 \nL 340.092606 507.031555 \nL 340.28972 526.090909 \nL 340.486834 522.006762 \nL 340.585391 523.368144 \nL 340.683948 519.283997 \nL 340.782505 526.090909 \nL 340.881062 524.729527 \nL 340.979619 511.115702 \nL 341.176733 524.729527 \nL 341.275289 516.561232 \nL 341.472403 523.368144 \nL 341.57096 515.19985 \nL 341.669517 526.090909 \nL 341.768074 516.561232 \nL 341.866631 523.368144 \nL 341.965188 349.111195 \nL 342.162302 524.729527 \nL 342.260859 517.922615 \nL 342.457973 526.090909 \nL 342.55653 500.224643 \nL 342.753644 520.645379 \nL 342.852201 522.006762 \nL 342.950758 516.561232 \nL 343.049315 526.090909 \nL 343.147872 509.75432 \nL 343.246429 526.090909 \nL 343.344986 523.368144 \nL 343.443543 504.30879 \nL 343.5421 523.368144 \nL 343.640657 429.432757 \nL 343.837771 526.090909 \nL 344.034885 489.333584 \nL 344.133442 492.056349 \nL 344.231999 526.090909 \nL 344.330556 523.368144 \nL 344.429113 524.729527 \nL 344.52767 414.457551 \nL 344.724783 522.006762 \nL 344.82334 522.006762 \nL 344.921897 497.501878 \nL 345.119011 526.090909 \nL 345.217568 526.090909 \nL 345.316125 522.006762 \nL 345.513239 526.090909 \nL 345.611796 524.729527 \nL 345.710353 526.090909 \nL 345.907467 524.729527 \nL 346.006024 526.090909 \nL 346.104581 523.368144 \nL 346.203138 512.477085 \nL 346.301695 524.729527 \nL 346.498809 481.165289 \nL 346.597366 526.090909 \nL 346.695923 524.729527 \nL 346.79448 470.27423 \nL 346.893037 523.368144 \nL 346.991594 483.888054 \nL 347.188708 526.090909 \nL 347.287265 524.729527 \nL 347.385822 402.205109 \nL 347.582936 526.090909 \nL 347.78005 500.224643 \nL 347.878607 520.645379 \nL 347.977163 513.838467 \nL 348.174277 526.090909 \nL 348.371391 515.19985 \nL 348.568505 523.368144 \nL 348.667062 522.006762 \nL 348.864176 513.838467 \nL 348.962733 523.368144 \nL 349.06129 445.769346 \nL 349.258404 526.090909 \nL 349.356961 519.283997 \nL 349.455518 524.729527 \nL 349.554075 523.368144 \nL 349.652632 526.090909 \nL 349.751189 520.645379 \nL 349.849746 526.090909 \nL 349.948303 494.779113 \nL 350.04686 526.090909 \nL 350.145417 524.729527 \nL 350.243974 526.090909 \nL 350.342531 522.006762 \nL 350.539645 526.090909 \nL 350.638202 517.922615 \nL 350.736759 524.729527 \nL 350.835316 523.368144 \nL 350.933873 489.333584 \nL 351.130987 526.090909 \nL 351.229544 526.090909 \nL 351.426657 524.729527 \nL 351.623771 526.090909 \nL 351.722328 519.283997 \nL 351.919442 526.090909 \nL 352.017999 523.368144 \nL 352.116556 526.090909 \nL 352.215113 524.729527 \nL 352.412227 513.838467 \nL 352.609341 526.090909 \nL 352.707898 523.368144 \nL 352.905012 526.090909 \nL 353.003569 509.75432 \nL 353.200683 522.006762 \nL 353.29924 511.115702 \nL 353.496354 526.090909 \nL 353.693468 523.368144 \nL 353.792025 512.477085 \nL 353.890582 526.090909 \nL 353.989139 513.838467 \nL 354.186253 526.090909 \nL 354.28481 498.863261 \nL 354.383367 519.283997 \nL 354.481924 508.392938 \nL 354.679037 526.090909 \nL 354.777594 516.561232 \nL 354.974708 526.090909 \nL 355.171822 519.283997 \nL 355.270379 523.368144 \nL 355.368936 505.670173 \nL 355.56605 526.090909 \nL 355.664607 524.729527 \nL 355.861721 526.090909 \nL 355.960278 522.006762 \nL 356.058835 526.090909 \nL 356.255949 500.224643 \nL 356.453063 523.368144 \nL 356.55162 516.561232 \nL 356.650177 524.729527 \nL 356.748734 512.477085 \nL 356.847291 526.090909 \nL 357.044405 519.283997 \nL 357.241519 526.090909 \nL 357.340076 523.368144 \nL 357.53719 526.090909 \nL 357.635747 526.090909 \nL 357.832861 519.283997 \nL 357.931418 524.729527 \nL 358.029974 516.561232 \nL 358.227088 526.090909 \nL 358.325645 524.729527 \nL 358.424202 513.838467 \nL 358.522759 482.526672 \nL 358.719873 524.729527 \nL 358.916987 515.19985 \nL 359.015544 524.729527 \nL 359.114101 505.670173 \nL 359.311215 526.090909 \nL 359.409772 517.922615 \nL 359.606886 526.090909 \nL 359.705443 526.090909 \nL 359.804 522.006762 \nL 359.902557 526.090909 \nL 360.001114 524.729527 \nL 360.099671 520.645379 \nL 360.198228 523.368144 \nL 360.296785 513.838467 \nL 360.395342 526.090909 \nL 360.493899 523.368144 \nL 360.592456 524.729527 \nL 360.691013 481.165289 \nL 360.986684 524.729527 \nL 361.282355 448.492111 \nL 361.479468 526.090909 \nL 361.578025 526.090909 \nL 361.676582 520.645379 \nL 361.775139 522.006762 \nL 361.873696 520.645379 \nL 361.972253 492.056349 \nL 362.07081 523.368144 \nL 362.169367 520.645379 \nL 362.366481 505.670173 \nL 362.563595 523.368144 \nL 362.662152 513.838467 \nL 362.760709 523.368144 \nL 362.859266 493.417731 \nL 362.957823 524.729527 \nL 363.05638 523.368144 \nL 363.154937 523.368144 \nL 363.253494 493.417731 \nL 363.450608 526.090909 \nL 363.549165 516.561232 \nL 363.647722 490.694966 \nL 363.844836 520.645379 \nL 363.943393 526.090909 \nL 364.04195 519.283997 \nL 364.140507 526.090909 \nL 364.337621 517.922615 \nL 364.534735 526.090909 \nL 364.731848 516.561232 \nL 364.830405 526.090909 \nL 365.027519 522.006762 \nL 365.224633 526.090909 \nL 365.421747 522.006762 \nL 365.520304 33.270473 \nL 365.618861 524.729527 \nL 365.717418 522.006762 \nL 365.815975 522.006762 \nL 365.914532 520.645379 \nL 366.013089 522.006762 \nL 366.210203 496.140496 \nL 366.30876 498.863261 \nL 366.505874 526.090909 \nL 366.604431 513.838467 \nL 366.702988 523.368144 \nL 366.801545 519.283997 \nL 366.998659 526.090909 \nL 367.097216 502.947408 \nL 367.195773 517.922615 \nL 367.29433 516.561232 \nL 367.491444 524.729527 \nL 367.590001 522.006762 \nL 367.688558 515.19985 \nL 367.885672 524.729527 \nL 367.984228 523.368144 \nL 368.082785 479.803907 \nL 368.279899 526.090909 \nL 368.378456 502.947408 \nL 368.477013 524.729527 \nL 368.57557 523.368144 \nL 368.674127 509.75432 \nL 368.772684 524.729527 \nL 368.871241 512.477085 \nL 368.969798 526.090909 \nL 369.166912 517.922615 \nL 369.265469 520.645379 \nL 369.364026 493.417731 \nL 369.56114 523.368144 \nL 369.659697 513.838467 \nL 369.758254 458.021788 \nL 369.955368 523.368144 \nL 370.053925 523.368144 \nL 370.152482 459.383171 \nL 370.349596 517.922615 \nL 370.448153 516.561232 \nL 370.54671 524.729527 \nL 370.842381 519.283997 \nL 370.940938 526.090909 \nL 371.039495 516.561232 \nL 371.138052 526.090909 \nL 371.335165 509.75432 \nL 371.433722 524.729527 \nL 371.532279 512.477085 \nL 371.630836 522.006762 \nL 371.729393 517.922615 \nL 371.82795 493.417731 \nL 371.926507 511.115702 \nL 372.025064 496.140496 \nL 372.123621 523.368144 \nL 372.222178 403.566491 \nL 372.419292 517.922615 \nL 372.517849 524.729527 \nL 372.616406 520.645379 \nL 372.714963 526.090909 \nL 372.81352 522.006762 \nL 372.912077 523.368144 \nL 373.010634 479.803907 \nL 373.207748 526.090909 \nL 373.306305 526.090909 \nL 373.404862 515.19985 \nL 373.503419 526.090909 \nL 373.601976 524.729527 \nL 373.700533 524.729527 \nL 373.79909 483.888054 \nL 373.897647 524.729527 \nL 373.996204 513.838467 \nL 374.094761 526.090909 \nL 374.193318 505.670173 \nL 374.488989 522.006762 \nL 374.587546 509.75432 \nL 374.784659 526.090909 \nL 374.981773 492.056349 \nL 375.178887 524.729527 \nL 375.277444 497.501878 \nL 375.474558 526.090909 \nL 375.573115 489.333584 \nL 375.671672 520.645379 \nL 375.770229 509.75432 \nL 375.967343 526.090909 \nL 376.164457 526.090909 \nL 376.263014 524.729527 \nL 376.361571 520.645379 \nL 376.558685 526.090909 \nL 376.657242 502.947408 \nL 376.755799 519.283997 \nL 376.854356 395.398197 \nL 377.05147 519.283997 \nL 377.248584 526.090909 \nL 377.347141 524.729527 \nL 377.445698 526.090909 \nL 377.544255 500.224643 \nL 377.741369 526.090909 \nL 377.839926 522.006762 \nL 377.938483 526.090909 \nL 378.037039 519.283997 \nL 378.135596 526.090909 \nL 378.234153 515.19985 \nL 378.33271 524.729527 \nL 378.529824 523.368144 \nL 378.628381 526.090909 \nL 378.726938 513.838467 \nL 378.825495 520.645379 \nL 378.924052 482.526672 \nL 379.219723 526.090909 \nL 379.31828 520.645379 \nL 379.515394 526.090909 \nL 379.712508 526.090909 \nL 379.811065 417.180316 \nL 379.909622 526.090909 \nL 380.008179 523.368144 \nL 380.106736 524.729527 \nL 380.205293 523.368144 \nL 380.30385 526.090909 \nL 380.402407 515.19985 \nL 380.698078 523.368144 \nL 380.796635 493.417731 \nL 380.895192 526.090909 \nL 380.993749 517.922615 \nL 381.190863 526.090909 \nL 381.28942 516.561232 \nL 381.486533 472.996995 \nL 381.58509 526.090909 \nL 381.683647 522.006762 \nL 381.880761 526.090909 \nL 382.077875 519.283997 \nL 382.274989 523.368144 \nL 382.373546 459.383171 \nL 382.472103 522.006762 \nL 382.57066 519.283997 \nL 382.669217 511.115702 \nL 382.767774 445.769346 \nL 382.866331 524.729527 \nL 382.964888 520.645379 \nL 383.063445 479.803907 \nL 383.162002 526.090909 \nL 383.260559 522.006762 \nL 383.359116 526.090909 \nL 383.457673 522.006762 \nL 383.654787 526.090909 \nL 383.753344 526.090909 \nL 383.851901 524.729527 \nL 383.950458 526.090909 \nL 384.049015 508.392938 \nL 384.147572 526.090909 \nL 384.344686 513.838467 \nL 384.443243 524.729527 \nL 384.640357 515.19985 \nL 384.83747 524.729527 \nL 384.936027 526.090909 \nL 385.034584 504.30879 \nL 385.133141 526.090909 \nL 385.428812 516.561232 \nL 385.527369 524.729527 \nL 385.625926 520.645379 \nL 385.82304 526.090909 \nL 385.921597 526.090909 \nL 386.020154 519.283997 \nL 386.118711 526.090909 \nL 386.217268 516.561232 \nL 386.315825 519.283997 \nL 386.414382 458.021788 \nL 386.611496 524.729527 \nL 386.710053 524.729527 \nL 386.80861 517.922615 \nL 387.005724 526.090909 \nL 387.202838 526.090909 \nL 387.301395 516.561232 \nL 387.399952 526.090909 \nL 387.498509 509.75432 \nL 387.695623 526.090909 \nL 387.79418 526.090909 \nL 387.892737 517.922615 \nL 387.991294 526.090909 \nL 388.08985 524.729527 \nL 388.188407 413.096168 \nL 388.385521 522.006762 \nL 388.484078 512.477085 \nL 388.681192 526.090909 \nL 388.878306 526.090909 \nL 388.976863 515.19985 \nL 389.07542 526.090909 \nL 389.173977 513.838467 \nL 389.371091 526.090909 \nL 389.469648 523.368144 \nL 389.568205 513.838467 \nL 389.765319 526.090909 \nL 389.962433 497.501878 \nL 390.159547 526.090909 \nL 390.258104 524.729527 \nL 390.356661 502.947408 \nL 390.455218 513.838467 \nL 390.553775 309.631104 \nL 390.652332 520.645379 \nL 390.750889 456.660406 \nL 390.948003 524.729527 \nL 391.04656 511.115702 \nL 391.145117 526.090909 \nL 391.243674 523.368144 \nL 391.342231 452.576258 \nL 391.539344 517.922615 \nL 391.637901 522.006762 \nL 391.736458 418.541698 \nL 391.835015 522.006762 \nL 391.933572 519.283997 \nL 392.032129 524.729527 \nL 392.130686 512.477085 \nL 392.229243 526.090909 \nL 392.426357 519.283997 \nL 392.722028 526.090909 \nL 392.820585 522.006762 \nL 393.017699 523.368144 \nL 393.116256 517.922615 \nL 393.31337 526.090909 \nL 393.707598 520.645379 \nL 393.806155 524.729527 \nL 393.904712 523.368144 \nL 394.003269 526.090909 \nL 394.101826 512.477085 \nL 394.397497 524.729527 \nL 394.496054 523.368144 \nL 394.594611 526.090909 \nL 394.693168 501.586026 \nL 394.890281 526.090909 \nL 394.988838 522.006762 \nL 395.087395 523.368144 \nL 395.185952 419.90308 \nL 395.383066 526.090909 \nL 395.481623 526.090909 \nL 395.58018 523.368144 \nL 395.678737 526.090909 \nL 395.777294 524.729527 \nL 395.875851 496.140496 \nL 396.072965 523.368144 \nL 396.171522 523.368144 \nL 396.270079 526.090909 \nL 396.368636 524.729527 \nL 396.467193 497.501878 \nL 396.56575 523.368144 \nL 396.664307 515.19985 \nL 396.861421 524.729527 \nL 396.959978 516.561232 \nL 397.157092 519.283997 \nL 397.354206 523.368144 \nL 397.452763 502.947408 \nL 397.649877 524.729527 \nL 397.748434 523.368144 \nL 397.945548 526.090909 \nL 398.044105 526.090909 \nL 398.142661 519.283997 \nL 398.241218 524.729527 \nL 398.339775 502.947408 \nL 398.536889 526.090909 \nL 398.635446 520.645379 \nL 398.734003 522.006762 \nL 398.83256 526.090909 \nL 398.931117 516.561232 \nL 399.029674 526.090909 \nL 399.128231 522.006762 \nL 399.226788 487.972201 \nL 399.423902 526.090909 \nL 399.522459 487.972201 \nL 399.621016 526.090909 \nL 399.719573 515.19985 \nL 399.81813 526.090909 \nL 400.015244 515.19985 \nL 400.113801 507.031555 \nL 400.212358 526.090909 \nL 400.310915 418.541698 \nL 400.409472 526.090909 \nL 400.508029 512.477085 \nL 400.606586 520.645379 \nL 400.705143 507.031555 \nL 400.8037 526.090909 \nL 401.000814 511.115702 \nL 401.099371 487.972201 \nL 401.296485 526.090909 \nL 401.395042 522.006762 \nL 401.493598 526.090909 \nL 401.690712 452.576258 \nL 401.789269 517.922615 \nL 401.887826 516.561232 \nL 401.986383 524.729527 \nL 402.08494 519.283997 \nL 402.183497 526.090909 \nL 402.282054 502.947408 \nL 402.380611 526.090909 \nL 402.577725 520.645379 \nL 402.676282 524.729527 \nL 402.774839 515.19985 \nL 402.971953 523.368144 \nL 403.07051 526.090909 \nL 403.267624 524.729527 \nL 403.366181 482.526672 \nL 403.563295 522.006762 \nL 403.760409 511.115702 \nL 403.957523 526.090909 \nL 404.05608 505.670173 \nL 404.154637 523.368144 \nL 404.253194 520.645379 \nL 404.351751 526.090909 \nL 404.450308 483.888054 \nL 404.647422 523.368144 \nL 404.745979 523.368144 \nL 404.844535 501.586026 \nL 405.041649 526.090909 \nL 405.140206 523.368144 \nL 405.238763 500.224643 \nL 405.534434 526.090909 \nL 405.632991 516.561232 \nL 405.731548 526.090909 \nL 405.830105 519.283997 \nL 406.027219 526.090909 \nL 406.125776 523.368144 \nL 406.224333 526.090909 \nL 406.32289 515.19985 \nL 406.421447 517.922615 \nL 406.520004 524.729527 \nL 406.717118 517.922615 \nL 406.815675 526.090909 \nL 406.914232 511.115702 \nL 407.111346 526.090909 \nL 407.209903 523.368144 \nL 407.407017 526.090909 \nL 407.505574 523.368144 \nL 407.604131 526.090909 \nL 407.702688 524.729527 \nL 407.801245 502.947408 \nL 407.899802 524.729527 \nL 407.998359 517.922615 \nL 408.096915 526.090909 \nL 408.294029 524.729527 \nL 408.392586 524.729527 \nL 408.491143 513.838467 \nL 408.688257 526.090909 \nL 408.786814 523.368144 \nL 408.885371 474.358377 \nL 408.983928 340.9429 \nL 409.181042 524.729527 \nL 409.279599 519.283997 \nL 409.476713 526.090909 \nL 409.673827 508.392938 \nL 409.772384 526.090909 \nL 409.870941 500.224643 \nL 409.969498 524.729527 \nL 410.068055 522.006762 \nL 410.166612 520.645379 \nL 410.265169 526.090909 \nL 410.462283 519.283997 \nL 410.56084 523.368144 \nL 410.659397 520.645379 \nL 410.757954 524.729527 \nL 410.856511 517.922615 \nL 411.053625 526.090909 \nL 411.152182 524.729527 \nL 411.250739 519.283997 \nL 411.349296 526.090909 \nL 411.447852 512.477085 \nL 411.546409 523.368144 \nL 411.644966 481.165289 \nL 411.84208 526.090909 \nL 411.940637 526.090909 \nL 412.137751 500.224643 \nL 412.236308 522.006762 \nL 412.334865 519.283997 \nL 412.433422 526.090909 \nL 412.531979 513.838467 \nL 412.630536 526.090909 \nL 412.729093 516.561232 \nL 412.926207 485.249437 \nL 413.123321 526.090909 \nL 413.221878 509.75432 \nL 413.320435 524.729527 \nL 413.418992 522.006762 \nL 413.81322 526.090909 \nL 413.911777 524.729527 \nL 414.108891 526.090909 \nL 414.207448 520.645379 \nL 414.306005 522.006762 \nL 414.503119 526.090909 \nL 414.601676 526.090909 \nL 414.700233 523.368144 \nL 414.798789 526.090909 \nL 414.995903 500.224643 \nL 415.09446 526.090909 \nL 415.193017 502.947408 \nL 415.390131 526.090909 \nL 415.488688 516.561232 \nL 415.685802 526.090909 \nL 415.784359 522.006762 \nL 415.882916 523.368144 \nL 415.981473 513.838467 \nL 416.178587 524.729527 \nL 416.277144 526.090909 \nL 416.375701 523.368144 \nL 416.474258 526.090909 \nL 416.572815 524.729527 \nL 416.671372 520.645379 \nL 416.769929 524.729527 \nL 416.868486 515.19985 \nL 417.0656 522.006762 \nL 417.262714 522.006762 \nL 417.459828 524.729527 \nL 417.656942 522.006762 \nL 417.854056 526.090909 \nL 417.952613 522.006762 \nL 418.05117 511.115702 \nL 418.248283 524.729527 \nL 418.34684 519.283997 \nL 418.445397 526.090909 \nL 418.543954 524.729527 \nL 418.642511 517.922615 \nL 418.839625 526.090909 \nL 418.938182 467.551465 \nL 419.135296 526.090909 \nL 419.233853 526.090909 \nL 419.33241 524.729527 \nL 419.430967 526.090909 \nL 419.628081 523.368144 \nL 419.825195 507.031555 \nL 420.022309 522.006762 \nL 420.120866 526.090909 \nL 420.31798 516.561232 \nL 420.416537 511.115702 \nL 420.613651 524.729527 \nL 420.712208 522.006762 \nL 420.909322 526.090909 \nL 421.007879 522.006762 \nL 421.106436 523.368144 \nL 421.204993 517.922615 \nL 421.30355 486.610819 \nL 421.500663 524.729527 \nL 421.59922 526.090909 \nL 421.697777 522.006762 \nL 421.796334 523.368144 \nL 421.894891 519.283997 \nL 422.092005 526.090909 \nL 422.190562 501.586026 \nL 422.486233 524.729527 \nL 422.683347 517.922615 \nL 422.781904 519.283997 \nL 422.979018 526.090909 \nL 423.077575 526.090909 \nL 423.176132 498.863261 \nL 423.274689 523.368144 \nL 423.373246 520.645379 \nL 423.471803 520.645379 \nL 423.668917 524.729527 \nL 423.866031 523.368144 \nL 423.964588 513.838467 \nL 424.063145 460.744553 \nL 424.260259 524.729527 \nL 424.358816 524.729527 \nL 424.457373 520.645379 \nL 424.55593 507.031555 \nL 424.654487 526.090909 \nL 424.753044 524.729527 \nL 424.8516 515.19985 \nL 424.950157 523.368144 \nL 425.344385 458.021788 \nL 425.541499 526.090909 \nL 425.83717 526.090909 \nL 425.935727 516.561232 \nL 426.132841 526.090909 \nL 426.231398 524.729527 \nL 426.527069 515.19985 \nL 426.724183 524.729527 \nL 426.82274 522.006762 \nL 427.019854 524.729527 \nL 427.216968 523.368144 \nL 427.315525 524.729527 \nL 427.512639 492.056349 \nL 427.611196 523.368144 \nL 427.709753 466.190083 \nL 427.80831 519.283997 \nL 427.906867 513.838467 \nL 428.005424 522.006762 \nL 428.103981 520.645379 \nL 428.202537 501.586026 \nL 428.399651 523.368144 \nL 428.596765 483.888054 \nL 428.793879 526.090909 \nL 428.892436 513.838467 \nL 428.990993 523.368144 \nL 429.08955 519.283997 \nL 429.188107 526.090909 \nL 429.385221 522.006762 \nL 429.483778 526.090909 \nL 429.582335 523.368144 \nL 429.680892 505.670173 \nL 429.878006 526.090909 \nL 429.976563 524.729527 \nL 430.173677 475.71976 \nL 430.370791 526.090909 \nL 430.567905 526.090909 \nL 430.666462 524.729527 \nL 430.765019 520.645379 \nL 430.863576 524.729527 \nL 430.962133 517.922615 \nL 431.06069 524.729527 \nL 431.159247 523.368144 \nL 431.257804 519.283997 \nL 431.454918 524.729527 \nL 431.553474 520.645379 \nL 431.652031 508.392938 \nL 431.750588 526.090909 \nL 431.849145 524.729527 \nL 431.947702 449.853494 \nL 432.144816 526.090909 \nL 432.243373 524.729527 \nL 432.34193 526.090909 \nL 432.539044 524.729527 \nL 432.637601 486.610819 \nL 432.736158 526.090909 \nL 432.834715 508.392938 \nL 432.933272 524.729527 \nL 433.031829 474.358377 \nL 433.130386 526.090909 \nL 433.228943 524.729527 \nL 433.426057 524.729527 \nL 433.623171 526.090909 \nL 433.721728 523.368144 \nL 433.820285 524.729527 \nL 433.918842 516.561232 \nL 434.017399 526.090909 \nL 434.214513 520.645379 \nL 434.411627 523.368144 \nL 434.608741 515.19985 \nL 434.805855 523.368144 \nL 434.904411 523.368144 \nL 435.002968 516.561232 \nL 435.101525 526.090909 \nL 435.200082 524.729527 \nL 435.298639 526.090909 \nL 435.397196 513.838467 \nL 435.495753 519.283997 \nL 435.59431 515.19985 \nL 435.791424 526.090909 \nL 435.889981 523.368144 \nL 435.988538 475.71976 \nL 436.087095 524.729527 \nL 436.185652 515.19985 \nL 436.382766 523.368144 \nL 436.57988 509.75432 \nL 436.776994 526.090909 \nL 436.875551 515.19985 \nL 436.974108 524.729527 \nL 437.072665 519.283997 \nL 437.171222 526.090909 \nL 437.269779 524.729527 \nL 437.368336 526.090909 \nL 437.664007 516.561232 \nL 437.762564 508.392938 \nL 437.861121 526.090909 \nL 437.959678 523.368144 \nL 438.058235 490.694966 \nL 438.156792 520.645379 \nL 438.255348 517.922615 \nL 438.452462 526.090909 \nL 438.649576 489.333584 \nL 438.84669 526.090909 \nL 438.945247 526.090909 \nL 439.043804 523.368144 \nL 439.142361 526.090909 \nL 439.240918 516.561232 \nL 439.438032 526.090909 \nL 439.536589 526.090909 \nL 439.635146 502.947408 \nL 439.83226 522.006762 \nL 439.930817 524.729527 \nL 440.029374 519.283997 \nL 440.127931 526.090909 \nL 440.226488 523.368144 \nL 440.325045 500.224643 \nL 440.423602 520.645379 \nL 440.522159 505.670173 \nL 440.719273 524.729527 \nL 440.81783 522.006762 \nL 441.014944 524.729527 \nL 441.113501 526.090909 \nL 441.212058 523.368144 \nL 441.310615 511.115702 \nL 441.507729 519.283997 \nL 441.606285 519.283997 \nL 441.704842 501.586026 \nL 441.803399 512.477085 \nL 441.901956 481.165289 \nL 442.000513 516.561232 \nL 442.09907 505.670173 \nL 442.197627 526.090909 \nL 442.296184 511.115702 \nL 442.394741 464.8287 \nL 442.493298 526.090909 \nL 442.591855 524.729527 \nL 442.690412 524.729527 \nL 442.887526 482.526672 \nL 442.986083 526.090909 \nL 443.183197 512.477085 \nL 443.281754 512.477085 \nL 443.478868 519.283997 \nL 443.577425 519.283997 \nL 443.675982 526.090909 \nL 443.774539 520.645379 \nL 443.873096 479.803907 \nL 444.07021 524.729527 \nL 444.168767 512.477085 \nL 444.267324 526.090909 \nL 444.365881 470.27423 \nL 444.464438 526.090909 \nL 444.562995 513.838467 \nL 444.760109 526.090909 \nL 444.957222 526.090909 \nL 445.154336 504.30879 \nL 445.252893 524.729527 \nL 445.35145 505.670173 \nL 445.548564 526.090909 \nL 445.647121 523.368144 \nL 445.745678 522.006762 \nL 445.844235 526.090909 \nL 445.942792 519.283997 \nL 446.041349 494.779113 \nL 446.238463 526.090909 \nL 446.33702 523.368144 \nL 446.435577 494.779113 \nL 446.534134 519.283997 \nL 446.632691 502.947408 \nL 446.829805 524.729527 \nL 446.928362 486.610819 \nL 447.026919 526.090909 \nL 447.125476 505.670173 \nL 447.224033 444.407964 \nL 447.421147 523.368144 \nL 447.618261 526.090909 \nL 447.815375 523.368144 \nL 447.913932 524.729527 \nL 448.012489 517.922615 \nL 448.209603 526.090909 \nL 448.308159 524.729527 \nL 448.406716 524.729527 \nL 448.505273 520.645379 \nL 448.60383 493.417731 \nL 448.800944 526.090909 \nL 448.899501 519.283997 \nL 448.998058 526.090909 \nL 449.195172 517.922615 \nL 449.293729 524.729527 \nL 449.490843 509.75432 \nL 449.5894 526.090909 \nL 449.687957 520.645379 \nL 449.786514 460.744553 \nL 449.885071 526.090909 \nL 449.983628 515.19985 \nL 450.180742 526.090909 \nL 450.279299 523.368144 \nL 450.377856 526.090909 \nL 450.57497 522.006762 \nL 450.673527 516.561232 \nL 450.772084 519.283997 \nL 450.870641 526.090909 \nL 450.969198 505.670173 \nL 451.067755 523.368144 \nL 451.264869 482.526672 \nL 451.461983 526.090909 \nL 451.560539 515.19985 \nL 451.659096 452.576258 \nL 451.85621 519.283997 \nL 451.954767 524.729527 \nL 452.053324 520.645379 \nL 452.151881 522.006762 \nL 452.250438 526.090909 \nL 452.348995 519.283997 \nL 452.546109 526.090909 \nL 452.644666 500.224643 \nL 452.743223 517.922615 \nL 452.84178 297.378663 \nL 452.940337 522.006762 \nL 453.038894 516.561232 \nL 453.137451 523.368144 \nL 453.334565 507.031555 \nL 453.433122 526.090909 \nL 453.531679 466.190083 \nL 453.630236 522.006762 \nL 453.728793 481.165289 \nL 453.82735 492.056349 \nL 453.925907 524.729527 \nL 454.024464 523.368144 \nL 454.123021 526.090909 \nL 454.221578 524.729527 \nL 454.320135 496.140496 \nL 454.517249 522.006762 \nL 454.615806 526.090909 \nL 454.81292 496.140496 \nL 454.911476 509.75432 \nL 455.010033 489.333584 \nL 455.207147 520.645379 \nL 455.305704 524.729527 \nL 455.404261 515.19985 \nL 455.502818 526.090909 \nL 455.601375 493.417731 \nL 455.699932 524.729527 \nL 455.897046 516.561232 \nL 455.995603 526.090909 \nL 456.09416 520.645379 \nL 456.192717 523.368144 \nL 456.291274 517.922615 \nL 456.488388 526.090909 \nL 456.586945 523.368144 \nL 456.685502 509.75432 \nL 456.882616 520.645379 \nL 456.981173 524.729527 \nL 457.07973 478.442524 \nL 457.178287 526.090909 \nL 457.276844 511.115702 \nL 457.375401 520.645379 \nL 457.473958 511.115702 \nL 457.572515 451.214876 \nL 457.671072 526.090909 \nL 457.769629 523.368144 \nL 457.868186 497.501878 \nL 457.966743 441.685199 \nL 458.0653 526.090909 \nL 458.262413 475.71976 \nL 458.36097 523.368144 \nL 458.459527 508.392938 \nL 458.558084 526.090909 \nL 458.656641 524.729527 \nL 458.853755 526.090909 \nL 458.952312 511.115702 \nL 459.149426 522.006762 \nL 459.247983 522.006762 \nL 459.34654 526.090909 \nL 459.445097 524.729527 \nL 459.543654 526.090909 \nL 459.740768 523.368144 \nL 459.937882 526.090909 \nL 460.036439 526.090909 \nL 460.134996 523.368144 \nL 460.233553 505.670173 \nL 460.430667 526.090909 \nL 460.529224 522.006762 \nL 460.627781 520.645379 \nL 460.726338 526.090909 \nL 460.923452 516.561232 \nL 461.022009 526.090909 \nL 461.219123 522.006762 \nL 461.416237 419.90308 \nL 461.61335 526.090909 \nL 461.711907 523.368144 \nL 461.810464 524.729527 \nL 461.909021 517.922615 \nL 462.007578 492.056349 \nL 462.106135 524.729527 \nL 462.204692 479.803907 \nL 462.303249 526.090909 \nL 462.401806 513.838467 \nL 462.59892 524.729527 \nL 462.697477 522.006762 \nL 462.796034 526.090909 \nL 462.894591 505.670173 \nL 463.091705 526.090909 \nL 463.190262 524.729527 \nL 463.288819 511.115702 \nL 463.485933 526.090909 \nL 463.58449 524.729527 \nL 463.683047 516.561232 \nL 463.880161 526.090909 \nL 463.978718 524.729527 \nL 464.175832 526.090909 \nL 464.274389 526.090909 \nL 464.471503 523.368144 \nL 464.57006 526.090909 \nL 464.668617 522.006762 \nL 464.865731 526.090909 \nL 464.964287 526.090909 \nL 465.062844 517.922615 \nL 465.161401 523.368144 \nL 465.358515 516.561232 \nL 465.555629 526.090909 \nL 465.752743 517.922615 \nL 466.146971 526.090909 \nL 466.344085 509.75432 \nL 466.541199 524.729527 \nL 466.639756 479.803907 \nL 466.83687 517.922615 \nL 466.935427 526.090909 \nL 467.231098 487.972201 \nL 467.428212 526.090909 \nL 467.526769 526.090909 \nL 467.625326 519.283997 \nL 467.723883 524.729527 \nL 467.82244 523.368144 \nL 467.920997 526.090909 \nL 468.019554 522.006762 \nL 468.118111 500.224643 \nL 468.315224 526.090909 \nL 468.413781 517.922615 \nL 468.512338 524.729527 \nL 468.610895 451.214876 \nL 468.709452 526.090909 \nL 468.808009 524.729527 \nL 468.906566 505.670173 \nL 469.005123 513.838467 \nL 469.202237 481.165289 \nL 469.300794 526.090909 \nL 469.399351 493.417731 \nL 469.596465 526.090909 \nL 469.990693 526.090909 \nL 470.187807 513.838467 \nL 470.286364 524.729527 \nL 470.384921 520.645379 \nL 470.483478 526.090909 \nL 470.582035 511.115702 \nL 470.779149 526.090909 \nL 470.877706 464.8287 \nL 471.07482 526.090909 \nL 471.173377 526.090909 \nL 471.271934 517.922615 \nL 471.469048 523.368144 \nL 471.666161 526.090909 \nL 471.764718 524.729527 \nL 471.863275 486.610819 \nL 471.961832 522.006762 \nL 472.060389 519.283997 \nL 472.158946 526.090909 \nL 472.257503 513.838467 \nL 472.454617 524.729527 \nL 472.553174 526.090909 \nL 472.651731 523.368144 \nL 472.750288 526.090909 \nL 472.848845 523.368144 \nL 473.045959 526.090909 \nL 473.243073 509.75432 \nL 473.440187 524.729527 \nL 473.538744 519.283997 \nL 473.637301 520.645379 \nL 473.834415 526.090909 \nL 474.031529 522.006762 \nL 474.130086 496.140496 \nL 474.3272 526.090909 \nL 474.425757 519.283997 \nL 474.524314 479.803907 \nL 474.622871 523.368144 \nL 474.721428 500.224643 \nL 474.918542 526.090909 \nL 475.017098 512.477085 \nL 475.115655 447.130729 \nL 475.214212 526.090909 \nL 475.312769 516.561232 \nL 475.411326 513.838467 \nL 475.509883 489.333584 \nL 475.706997 524.729527 \nL 475.805554 517.922615 \nL 475.904111 526.090909 \nL 476.002668 462.105935 \nL 476.101225 515.19985 \nL 476.199782 507.031555 \nL 476.298339 524.729527 \nL 476.396896 520.645379 \nL 476.495453 524.729527 \nL 476.59401 516.561232 \nL 476.889681 524.729527 \nL 476.988238 520.645379 \nL 477.086795 485.249437 \nL 477.185352 526.090909 \nL 477.283909 444.407964 \nL 477.382466 523.368144 \nL 477.481023 520.645379 \nL 477.57958 524.729527 \nL 477.678137 447.130729 \nL 477.875251 522.006762 \nL 478.072365 526.090909 \nL 478.269479 512.477085 \nL 478.368035 526.090909 \nL 478.663706 493.417731 \nL 478.86082 526.090909 \nL 479.057934 526.090909 \nL 479.156491 497.501878 \nL 479.255048 523.368144 \nL 479.452162 498.863261 \nL 479.649276 526.090909 \nL 479.747833 512.477085 \nL 479.944947 526.090909 \nL 480.043504 500.224643 \nL 480.142061 526.090909 \nL 480.240618 511.115702 \nL 480.339175 526.090909 \nL 480.437732 524.729527 \nL 480.536289 526.090909 \nL 480.634846 524.729527 \nL 480.733403 526.090909 \nL 480.83196 517.922615 \nL 481.029074 526.090909 \nL 481.127631 523.368144 \nL 481.226188 487.972201 \nL 481.423302 526.090909 \nL 481.620416 519.283997 \nL 481.817529 526.090909 \nL 481.916086 398.120962 \nL 482.1132 526.090909 \nL 482.211757 524.729527 \nL 482.408871 436.239669 \nL 482.605985 526.090909 \nL 482.704542 520.645379 \nL 482.901656 524.729527 \nL 483.000213 334.135988 \nL 483.197327 526.090909 \nL 483.492998 523.368144 \nL 483.591555 524.729527 \nL 483.690112 522.006762 \nL 483.788669 524.729527 \nL 483.985783 500.224643 \nL 484.08434 523.368144 \nL 484.182897 467.551465 \nL 484.380011 523.368144 \nL 484.478568 519.283997 \nL 484.577125 477.081142 \nL 484.872796 526.090909 \nL 484.971353 526.090909 \nL 485.069909 520.645379 \nL 485.168466 526.090909 \nL 485.267023 515.19985 \nL 485.464137 526.090909 \nL 485.562694 517.922615 \nL 485.759808 526.090909 \nL 485.956922 498.863261 \nL 486.154036 526.090909 \nL 486.252593 505.670173 \nL 486.548264 526.090909 \nL 486.646821 523.368144 \nL 486.745378 524.729527 \nL 486.843935 511.115702 \nL 486.942492 517.922615 \nL 487.041049 502.947408 \nL 487.238163 526.090909 \nL 487.435277 523.368144 \nL 487.632391 515.19985 \nL 487.730948 523.368144 \nL 487.829505 504.30879 \nL 488.026619 526.090909 \nL 488.32229 513.838467 \nL 488.519403 526.090909 \nL 488.61796 520.645379 \nL 488.716517 522.006762 \nL 488.815074 489.333584 \nL 489.012188 526.090909 \nL 489.110745 490.694966 \nL 489.307859 526.090909 \nL 489.406416 522.006762 \nL 489.504973 524.729527 \nL 489.60353 523.368144 \nL 489.702087 497.501878 \nL 489.800644 526.090909 \nL 489.899201 477.081142 \nL 489.997758 524.729527 \nL 490.096315 481.165289 \nL 490.293429 526.090909 \nL 490.391986 513.838467 \nL 490.490543 526.090909 \nL 490.5891 523.368144 \nL 490.786214 526.090909 \nL 490.983328 520.645379 \nL 491.180442 526.090909 \nL 491.278999 477.081142 \nL 491.377556 519.283997 \nL 491.476113 511.115702 \nL 491.673227 526.090909 \nL 491.771783 515.19985 \nL 491.968897 526.090909 \nL 492.166011 526.090909 \nL 492.264568 494.779113 \nL 492.363125 526.090909 \nL 492.461682 523.368144 \nL 492.560239 526.090909 \nL 492.658796 523.368144 \nL 492.85591 508.392938 \nL 492.954467 526.090909 \nL 493.151581 513.838467 \nL 493.250138 477.081142 \nL 493.447252 520.645379 \nL 493.545809 519.283997 \nL 493.742923 523.368144 \nL 493.84148 526.090909 \nL 493.940037 502.947408 \nL 494.137151 526.090909 \nL 494.235708 524.729527 \nL 494.432822 526.090909 \nL 494.531379 526.090909 \nL 494.629936 520.645379 \nL 494.728493 526.090909 \nL 494.82705 512.477085 \nL 494.925607 520.645379 \nL 495.024163 507.031555 \nL 495.221277 526.090909 \nL 495.319834 516.561232 \nL 495.516948 526.090909 \nL 495.615505 509.75432 \nL 495.911176 526.090909 \nL 496.009733 515.19985 \nL 496.10829 526.090909 \nL 496.206847 515.19985 \nL 496.403961 523.368144 \nL 496.502518 474.358377 \nL 496.601075 526.090909 \nL 496.699632 524.729527 \nL 496.798189 522.006762 \nL 496.896746 526.090909 \nL 496.995303 415.818933 \nL 497.192417 524.729527 \nL 497.290974 512.477085 \nL 497.488088 526.090909 \nL 497.586645 456.660406 \nL 497.685202 524.729527 \nL 497.783759 523.368144 \nL 497.980873 526.090909 \nL 498.07943 524.729527 \nL 498.276544 520.645379 \nL 498.473657 486.610819 \nL 498.572214 523.368144 \nL 498.670771 485.249437 \nL 498.867885 519.283997 \nL 498.966442 524.729527 \nL 499.064999 520.645379 \nL 499.163556 449.853494 \nL 499.459227 522.006762 \nL 499.557784 486.610819 \nL 499.754898 526.090909 \nL 499.853455 515.19985 \nL 499.952012 516.561232 \nL 500.149126 519.283997 \nL 500.247683 498.863261 \nL 500.34624 526.090909 \nL 500.444797 519.283997 \nL 500.641911 526.090909 \nL 500.740468 526.090909 \nL 500.839025 508.392938 \nL 501.036139 526.090909 \nL 501.134696 517.922615 \nL 501.233253 456.660406 \nL 501.33181 519.283997 \nL 501.430367 516.561232 \nL 501.627481 526.090909 \nL 501.824594 498.863261 \nL 501.923151 508.392938 \nL 502.021708 434.878287 \nL 502.120265 526.090909 \nL 502.218822 517.922615 \nL 502.317379 526.090909 \nL 502.415936 517.922615 \nL 502.514493 522.006762 \nL 502.711607 515.19985 \nL 502.908721 526.090909 \nL 503.007278 486.610819 \nL 503.204392 520.645379 \nL 503.302949 512.477085 \nL 503.401506 519.283997 \nL 503.500063 448.492111 \nL 503.59862 526.090909 \nL 503.795734 458.021788 \nL 503.992848 526.090909 \nL 504.091405 513.838467 \nL 504.189962 524.729527 \nL 504.288519 516.561232 \nL 504.387076 526.090909 \nL 504.485633 524.729527 \nL 504.682747 526.090909 \nL 504.781304 511.115702 \nL 504.879861 526.090909 \nL 504.978418 516.561232 \nL 505.076974 526.090909 \nL 505.175531 520.645379 \nL 505.372645 526.090909 \nL 505.471202 511.115702 \nL 505.569759 526.090909 \nL 505.766873 508.392938 \nL 505.963987 526.090909 \nL 506.161101 526.090909 \nL 506.259658 524.729527 \nL 506.358215 519.283997 \nL 506.456772 526.090909 \nL 506.555329 516.561232 \nL 506.653886 526.090909 \nL 506.752443 524.729527 \nL 506.851 502.947408 \nL 506.949557 526.090909 \nL 507.048114 519.283997 \nL 507.146671 526.090909 \nL 507.245228 520.645379 \nL 507.343785 526.090909 \nL 507.442342 504.30879 \nL 507.639456 526.090909 \nL 507.83657 520.645379 \nL 507.935127 422.625845 \nL 508.033684 504.30879 \nL 508.132241 434.878287 \nL 508.329355 522.006762 \nL 508.427911 524.729527 \nL 508.526468 523.368144 \nL 508.625025 498.863261 \nL 508.723582 524.729527 \nL 508.920696 511.115702 \nL 509.019253 513.838467 \nL 509.216367 526.090909 \nL 509.314924 524.729527 \nL 509.512038 526.090909 \nL 509.610595 517.922615 \nL 509.807709 526.090909 \nL 509.906266 485.249437 \nL 510.10338 526.090909 \nL 510.201937 526.090909 \nL 510.300494 500.224643 \nL 510.497608 526.090909 \nL 510.596165 517.922615 \nL 510.694722 526.090909 \nL 510.793279 507.031555 \nL 510.990393 523.368144 \nL 511.08895 515.19985 \nL 511.187507 522.006762 \nL 511.286064 498.863261 \nL 511.483178 523.368144 \nL 511.581735 526.090909 \nL 511.680292 487.972201 \nL 511.877405 524.729527 \nL 512.074519 526.090909 \nL 512.173076 516.561232 \nL 512.271633 524.729527 \nL 512.37019 513.838467 \nL 512.468747 523.368144 \nL 512.567304 513.838467 \nL 512.764418 522.006762 \nL 512.862975 520.645379 \nL 513.060089 526.090909 \nL 513.158646 526.090909 \nL 513.257203 523.368144 \nL 513.35576 493.417731 \nL 513.454317 524.729527 \nL 513.552874 520.645379 \nL 513.749988 526.090909 \nL 513.848545 524.729527 \nL 513.947102 526.090909 \nL 514.242773 520.645379 \nL 514.34133 524.729527 \nL 514.439887 497.501878 \nL 514.538444 526.090909 \nL 514.637001 524.729527 \nL 514.735558 432.155522 \nL 514.932672 526.090909 \nL 515.031229 460.744553 \nL 515.228342 526.090909 \nL 515.326899 494.779113 \nL 515.425456 526.090909 \nL 515.524013 522.006762 \nL 515.62257 526.090909 \nL 515.721127 508.392938 \nL 515.819684 522.006762 \nL 515.918241 520.645379 \nL 516.016798 516.561232 \nL 516.115355 526.090909 \nL 516.213912 524.729527 \nL 516.312469 485.249437 \nL 516.509583 526.090909 \nL 516.60814 504.30879 \nL 516.805254 526.090909 \nL 516.903811 516.561232 \nL 517.002368 526.090909 \nL 517.100925 513.838467 \nL 517.199482 526.090909 \nL 517.298039 524.729527 \nL 517.396596 515.19985 \nL 517.59371 526.090909 \nL 517.692267 522.006762 \nL 517.889381 524.729527 \nL 518.185052 524.729527 \nL 518.283609 526.090909 \nL 518.382166 507.031555 \nL 518.480722 520.645379 \nL 518.677836 512.477085 \nL 518.776393 526.090909 \nL 518.87495 512.477085 \nL 518.973507 524.729527 \nL 519.072064 523.368144 \nL 519.170621 526.090909 \nL 519.269178 517.922615 \nL 519.367735 526.090909 \nL 519.564849 512.477085 \nL 519.663406 526.090909 \nL 519.761963 517.922615 \nL 519.86052 372.254696 \nL 520.057634 526.090909 \nL 520.156191 523.368144 \nL 520.254748 526.090909 \nL 520.353305 519.283997 \nL 520.550419 526.090909 \nL 520.648976 526.090909 \nL 520.747533 511.115702 \nL 520.944647 526.090909 \nL 521.043204 512.477085 \nL 521.141761 523.368144 \nL 521.240318 511.115702 \nL 521.437432 526.090909 \nL 521.535989 526.090909 \nL 521.634546 481.165289 \nL 521.733103 523.368144 \nL 521.831659 520.645379 \nL 522.028773 526.090909 \nL 522.225887 517.922615 \nL 522.324444 524.729527 \nL 522.423001 516.561232 \nL 522.521558 519.283997 \nL 522.718672 526.090909 \nL 522.817229 526.090909 \nL 522.915786 519.283997 \nL 523.014343 524.729527 \nL 523.211457 497.501878 \nL 523.408571 526.090909 \nL 523.507128 489.333584 \nL 523.605685 526.090909 \nL 523.704242 512.477085 \nL 523.802799 330.051841 \nL 523.999913 526.090909 \nL 524.09847 523.368144 \nL 524.197027 474.358377 \nL 524.394141 519.283997 \nL 524.492698 526.090909 \nL 524.591255 504.30879 \nL 524.788369 526.090909 \nL 524.985483 519.283997 \nL 525.182596 526.090909 \nL 525.37971 524.729527 \nL 525.478267 517.922615 \nL 525.576824 489.333584 \nL 525.675381 526.090909 \nL 525.773938 512.477085 \nL 525.872495 526.090909 \nL 525.971052 500.224643 \nL 526.069609 526.090909 \nL 526.168166 489.333584 \nL 526.266723 526.090909 \nL 526.36528 513.838467 \nL 526.463837 478.442524 \nL 526.660951 524.729527 \nL 526.759508 519.283997 \nL 526.858065 496.140496 \nL 527.055179 524.729527 \nL 527.153736 515.19985 \nL 527.449407 526.090909 \nL 527.646521 517.922615 \nL 527.745078 515.19985 \nL 527.843635 497.501878 \nL 527.942192 526.090909 \nL 528.040749 519.283997 \nL 528.139306 479.803907 \nL 528.237863 526.090909 \nL 528.33642 524.729527 \nL 528.434977 526.090909 \nL 528.533533 418.541698 \nL 528.63209 526.090909 \nL 528.730647 519.283997 \nL 528.829204 512.477085 \nL 528.927761 526.090909 \nL 529.026318 515.19985 \nL 529.124875 526.090909 \nL 529.223432 520.645379 \nL 529.321989 411.734786 \nL 529.519103 523.368144 \nL 529.61766 517.922615 \nL 529.716217 526.090909 \nL 529.913331 524.729527 \nL 530.011888 526.090909 \nL 530.110445 517.922615 \nL 530.307559 526.090909 \nL 530.406116 523.368144 \nL 530.60323 526.090909 \nL 530.701787 504.30879 \nL 530.800344 523.368144 \nL 530.898901 517.922615 \nL 530.997458 526.090909 \nL 531.096015 511.115702 \nL 531.194572 526.090909 \nL 531.293129 524.729527 \nL 531.391686 519.283997 \nL 531.490243 524.729527 \nL 531.5888 522.006762 \nL 531.88447 526.090909 \nL 531.983027 523.368144 \nL 532.081584 526.090909 \nL 532.278698 523.368144 \nL 532.377255 526.090909 \nL 532.475812 513.838467 \nL 532.672926 526.090909 \nL 532.771483 522.006762 \nL 533.165711 526.090909 \nL 533.264268 523.368144 \nL 533.461382 526.090909 \nL 533.559939 526.090909 \nL 533.658496 520.645379 \nL 533.757053 526.090909 \nL 533.954167 513.838467 \nL 534.052724 524.729527 \nL 534.249838 516.561232 \nL 534.348395 520.645379 \nL 534.446952 505.670173 \nL 534.644066 526.090909 \nL 534.742623 500.224643 \nL 534.939737 522.006762 \nL 535.136851 508.392938 \nL 535.235407 496.140496 \nL 535.333964 498.863261 \nL 535.432521 526.090909 \nL 535.531078 492.056349 \nL 535.728192 516.561232 \nL 535.826749 524.729527 \nL 535.925306 523.368144 \nL 536.023863 516.561232 \nL 536.12242 524.729527 \nL 536.220977 509.75432 \nL 536.319534 477.081142 \nL 536.418091 520.645379 \nL 536.516648 505.670173 \nL 536.713762 526.090909 \nL 536.910876 515.19985 \nL 537.10799 526.090909 \nL 537.206547 522.006762 \nL 537.403661 526.090909 \nL 537.502218 519.283997 \nL 537.600775 526.090909 \nL 537.699332 515.19985 \nL 537.896446 526.090909 \nL 537.995003 524.729527 \nL 538.192117 513.838467 \nL 538.389231 526.090909 \nL 538.487787 509.75432 \nL 538.586344 522.006762 \nL 538.684901 520.645379 \nL 538.783458 507.031555 \nL 538.980572 526.090909 \nL 539.079129 505.670173 \nL 539.177686 526.090909 \nL 539.276243 519.283997 \nL 539.3748 520.645379 \nL 539.473357 507.031555 \nL 539.670471 526.090909 \nL 539.769028 523.368144 \nL 539.966142 526.090909 \nL 540.064699 524.729527 \nL 540.163256 336.858753 \nL 540.36037 526.090909 \nL 540.458927 519.283997 \nL 540.754598 524.729527 \nL 540.853155 516.561232 \nL 540.951712 526.090909 \nL 541.148826 523.368144 \nL 541.247383 508.392938 \nL 541.444497 526.090909 \nL 541.641611 526.090909 \nL 541.838724 508.392938 \nL 541.937281 509.75432 \nL 542.035838 516.561232 \nL 542.134395 474.358377 \nL 542.331509 526.090909 \nL 542.430066 520.645379 \nL 542.528623 526.090909 \nL 542.62718 477.081142 \nL 542.725737 522.006762 \nL 542.824294 519.283997 \nL 543.021408 526.090909 \nL 543.119965 513.838467 \nL 543.218522 522.006762 \nL 543.317079 472.996995 \nL 543.415636 526.090909 \nL 543.514193 513.838467 \nL 543.711307 526.090909 \nL 543.809864 526.090909 \nL 543.908421 501.586026 \nL 544.105535 526.090909 \nL 544.204092 512.477085 \nL 544.302649 526.090909 \nL 544.401206 508.392938 \nL 544.499763 526.090909 \nL 544.59832 524.729527 \nL 544.696877 524.729527 \nL 544.795434 526.090909 \nL 544.893991 512.477085 \nL 544.992548 526.090909 \nL 545.091105 508.392938 \nL 545.189661 526.090909 \nL 545.386775 515.19985 \nL 545.485332 519.283997 \nL 545.583889 515.19985 \nL 545.682446 523.368144 \nL 545.781003 463.467318 \nL 545.978117 526.090909 \nL 546.470902 520.645379 \nL 546.569459 520.645379 \nL 546.668016 463.467318 \nL 546.766573 524.729527 \nL 546.86513 504.30879 \nL 546.963687 524.729527 \nL 547.062244 517.922615 \nL 547.160801 526.090909 \nL 547.259358 524.729527 \nL 547.357915 526.090909 \nL 547.456472 522.006762 \nL 547.555029 523.368144 \nL 547.653586 522.006762 \nL 547.8507 516.561232 \nL 547.949257 516.561232 \nL 548.047814 523.368144 \nL 548.146371 519.283997 \nL 548.343485 526.090909 \nL 548.442042 490.694966 \nL 548.540598 526.090909 \nL 548.639155 511.115702 \nL 548.737712 526.090909 \nL 548.836269 421.264463 \nL 548.934826 526.090909 \nL 549.033383 511.115702 \nL 549.230497 524.729527 \nL 549.329054 526.090909 \nL 549.526168 523.368144 \nL 549.624725 519.283997 \nL 549.723282 524.729527 \nL 549.821839 519.283997 \nL 549.920396 526.090909 \nL 550.11751 502.947408 \nL 550.216067 474.358377 \nL 550.413181 526.090909 \nL 550.511738 524.729527 \nL 550.708852 504.30879 \nL 551.004523 526.090909 \nL 551.10308 497.501878 \nL 551.201637 526.090909 \nL 551.300194 520.645379 \nL 551.398751 524.729527 \nL 551.497308 523.368144 \nL 551.595865 524.729527 \nL 551.694422 523.368144 \nL 551.792979 509.75432 \nL 551.891535 511.115702 \nL 552.088649 524.729527 \nL 552.187206 524.729527 \nL 552.285763 526.090909 \nL 552.38432 524.729527 \nL 552.482877 513.838467 \nL 552.581434 522.006762 \nL 552.679991 500.224643 \nL 552.877105 520.645379 \nL 552.975662 501.586026 \nL 553.172776 524.729527 \nL 553.271333 522.006762 \nL 553.36989 428.071375 \nL 553.567004 524.729527 \nL 553.665561 519.283997 \nL 553.764118 502.947408 \nL 553.862675 526.090909 \nL 553.961232 524.729527 \nL 554.059789 524.729527 \nL 554.256903 526.090909 \nL 554.35546 492.056349 \nL 554.454017 526.090909 \nL 554.552574 523.368144 \nL 554.651131 516.561232 \nL 554.749688 526.090909 \nL 554.946802 523.368144 \nL 555.143916 526.090909 \nL 555.242472 526.090909 \nL 555.538143 523.368144 \nL 555.6367 526.090909 \nL 555.833814 513.838467 \nL 556.030928 523.368144 \nL 556.129485 522.006762 \nL 556.326599 526.090909 \nL 556.425156 524.729527 \nL 556.523713 526.090909 \nL 556.62227 519.283997 \nL 556.720827 524.729527 \nL 556.917941 516.561232 \nL 557.115055 524.729527 \nL 557.312169 520.645379 \nL 557.410726 511.115702 \nL 557.509283 524.729527 \nL 557.60784 515.19985 \nL 557.706397 524.729527 \nL 557.804954 523.368144 \nL 557.903511 516.561232 \nL 558.002068 526.090909 \nL 558.199182 511.115702 \nL 558.396296 526.090909 \nL 558.494853 523.368144 \nL 558.691966 497.501878 \nL 558.790523 519.283997 \nL 558.88908 509.75432 \nL 559.086194 526.090909 \nL 559.283308 526.090909 \nL 559.381865 524.729527 \nL 559.480422 526.090909 \nL 559.677536 523.368144 \nL 559.776093 517.922615 \nL 559.87465 526.090909 \nL 559.973207 523.368144 \nL 560.071764 504.30879 \nL 560.170321 327.329076 \nL 560.367435 526.090909 \nL 560.465992 509.75432 \nL 560.564549 524.729527 \nL 560.663106 519.283997 \nL 560.761663 522.006762 \nL 560.958777 509.75432 \nL 561.155891 526.090909 \nL 561.451562 496.140496 \nL 561.648676 524.729527 \nL 561.747233 515.19985 \nL 561.84579 492.056349 \nL 562.042903 526.090909 \nL 562.240017 520.645379 \nL 562.338574 485.249437 \nL 562.437131 496.140496 \nL 562.535688 526.090909 \nL 562.732802 512.477085 \nL 562.929916 526.090909 \nL 563.12703 523.368144 \nL 563.225587 515.19985 \nL 563.422701 526.090909 \nL 563.521258 486.610819 \nL 563.619815 522.006762 \nL 563.718372 394.036814 \nL 563.816929 524.729527 \nL 563.915486 516.561232 \nL 564.1126 526.090909 \nL 564.211157 517.922615 \nL 564.408271 526.090909 \nL 564.506828 526.090909 \nL 564.703942 524.729527 \nL 564.802499 517.922615 \nL 565.09817 526.090909 \nL 565.196727 524.729527 \nL 565.295283 486.610819 \nL 565.492397 522.006762 \nL 565.590954 520.645379 \nL 565.689511 526.090909 \nL 565.886625 522.006762 \nL 565.985182 443.046582 \nL 566.083739 501.586026 \nL 566.182296 497.501878 \nL 566.280853 524.729527 \nL 566.37941 523.368144 \nL 566.477967 515.19985 \nL 566.675081 524.729527 \nL 566.773638 516.561232 \nL 566.872195 526.090909 \nL 566.970752 524.729527 \nL 567.069309 496.140496 \nL 567.167866 526.090909 \nL 567.266423 524.729527 \nL 567.463537 526.090909 \nL 567.562094 509.75432 \nL 567.660651 520.645379 \nL 567.857765 507.031555 \nL 567.956322 524.729527 \nL 568.054879 483.888054 \nL 568.251993 523.368144 \nL 568.35055 524.729527 \nL 568.449107 515.19985 \nL 568.64622 520.645379 \nL 568.744777 511.115702 \nL 568.941891 526.090909 \nL 569.040448 502.947408 \nL 569.139005 524.729527 \nL 569.237562 519.283997 \nL 569.336119 523.368144 \nL 569.533233 516.561232 \nL 569.730347 520.645379 \nL 569.927461 507.031555 \nL 570.124575 526.090909 \nL 570.223132 524.729527 \nL 570.321689 502.947408 \nL 570.420246 526.090909 \nL 570.518803 524.729527 \nL 570.715917 516.561232 \nL 570.913031 526.090909 \nL 571.011588 500.224643 \nL 571.208702 522.006762 \nL 571.405816 524.729527 \nL 571.504373 470.27423 \nL 571.701487 524.729527 \nL 571.800044 511.115702 \nL 571.898601 455.299023 \nL 572.095714 523.368144 \nL 572.194271 526.090909 \nL 572.391385 517.922615 \nL 572.489942 466.190083 \nL 572.687056 526.090909 \nL 572.785613 519.283997 \nL 572.88417 449.853494 \nL 573.081284 526.090909 \nL 573.179841 522.006762 \nL 573.278398 526.090909 \nL 573.376955 519.283997 \nL 573.475512 526.090909 \nL 573.574069 524.729527 \nL 573.672626 526.090909 \nL 573.771183 485.249437 \nL 573.968297 523.368144 \nL 574.165411 502.947408 \nL 574.263968 526.090909 \nL 574.362525 519.283997 \nL 574.461082 526.090909 \nL 574.559639 522.006762 \nL 574.658196 475.71976 \nL 575.052424 526.090909 \nL 575.348094 517.922615 \nL 575.446651 524.729527 \nL 575.545208 516.561232 \nL 575.742322 526.090909 \nL 575.840879 526.090909 \nL 575.939436 486.610819 \nL 576.235107 524.729527 \nL 576.333664 524.729527 \nL 576.432221 522.006762 \nL 576.530778 508.392938 \nL 576.629335 524.729527 \nL 576.727892 497.501878 \nL 576.925006 522.006762 \nL 577.023563 522.006762 \nL 577.12212 474.358377 \nL 577.319234 526.090909 \nL 577.417791 507.031555 \nL 577.516348 436.239669 \nL 577.614905 526.090909 \nL 577.910576 487.972201 \nL 578.009133 523.368144 \nL 578.10769 520.645379 \nL 578.304804 526.090909 \nL 578.403361 524.729527 \nL 578.501918 526.090909 \nL 578.600475 523.368144 \nL 578.699031 526.090909 \nL 578.797588 516.561232 \nL 578.994702 519.283997 \nL 579.093259 494.779113 \nL 579.290373 524.729527 \nL 579.38893 342.304282 \nL 579.586044 489.333584 \nL 579.783158 520.645379 \nL 579.881715 512.477085 \nL 580.078829 526.090909 \nL 580.177386 501.586026 \nL 580.3745 526.090909 \nL 580.473057 524.729527 \nL 580.670171 526.090909 \nL 580.768728 512.477085 \nL 580.867285 523.368144 \nL 580.965842 486.610819 \nL 581.064399 494.779113 \nL 581.261513 524.729527 \nL 581.36007 517.922615 \nL 581.458627 500.224643 \nL 581.655741 524.729527 \nL 581.852855 496.140496 \nL 581.951411 526.090909 \nL 582.049968 426.709992 \nL 582.247082 526.090909 \nL 582.345639 522.006762 \nL 582.542753 526.090909 \nL 582.64131 522.006762 \nL 582.739867 526.090909 \nL 582.936981 522.006762 \nL 583.035538 509.75432 \nL 583.134095 524.729527 \nL 583.232652 523.368144 \nL 583.528323 526.090909 \nL 583.62688 512.477085 \nL 583.725437 523.368144 \nL 583.823994 519.283997 \nL 583.922551 524.729527 \nL 584.021108 522.006762 \nL 584.119665 526.090909 \nL 584.415336 517.922615 \nL 584.61245 524.729527 \nL 584.711007 526.090909 \nL 584.809564 512.477085 \nL 584.908121 526.090909 \nL 585.006678 508.392938 \nL 585.203792 526.090909 \nL 585.400905 526.090909 \nL 585.499462 434.878287 \nL 585.696576 524.729527 \nL 585.795133 449.853494 \nL 585.992247 524.729527 \nL 586.090804 497.501878 \nL 586.287918 526.090909 \nL 586.386475 517.922615 \nL 586.485032 523.368144 \nL 586.583589 522.006762 \nL 586.682146 511.115702 \nL 586.780703 526.090909 \nL 586.87926 520.645379 \nL 587.174931 526.090909 \nL 587.273488 526.090909 \nL 587.372045 455.299023 \nL 587.569159 526.090909 \nL 587.667716 524.729527 \nL 587.86483 520.645379 \nL 588.061944 526.090909 \nL 588.357615 523.368144 \nL 588.456172 508.392938 \nL 588.554729 526.090909 \nL 588.653285 502.947408 \nL 588.751842 520.645379 \nL 588.850399 512.477085 \nL 588.948956 513.838467 \nL 589.14607 526.090909 \nL 589.244627 507.031555 \nL 589.343184 526.090909 \nL 589.441741 524.729527 \nL 589.638855 526.090909 \nL 589.737412 526.090909 \nL 589.835969 524.729527 \nL 589.934526 519.283997 \nL 590.033083 471.635612 \nL 590.13164 526.090909 \nL 590.230197 520.645379 \nL 590.328754 520.645379 \nL 590.427311 526.090909 \nL 590.525868 517.922615 \nL 590.624425 459.383171 \nL 590.722982 524.729527 \nL 590.821539 516.561232 \nL 590.920096 526.090909 \nL 591.018653 519.283997 \nL 591.215767 526.090909 \nL 591.314324 524.729527 \nL 591.412881 492.056349 \nL 591.511438 389.952667 \nL 591.708552 526.090909 \nL 591.905666 519.283997 \nL 592.004222 524.729527 \nL 592.102779 522.006762 \nL 592.299893 526.090909 \nL 592.39845 520.645379 \nL 592.497007 463.467318 \nL 592.595564 526.090909 \nL 592.694121 509.75432 \nL 592.891235 519.283997 \nL 592.989792 526.090909 \nL 593.186906 496.140496 \nL 593.285463 526.090909 \nL 593.38402 520.645379 \nL 593.482577 524.729527 \nL 593.581134 519.283997 \nL 593.679691 524.729527 \nL 593.778248 519.283997 \nL 593.876805 526.090909 \nL 594.073919 524.729527 \nL 594.172476 519.283997 \nL 594.36959 526.090909 \nL 594.566704 482.526672 \nL 594.665261 522.006762 \nL 594.763818 505.670173 \nL 594.960932 524.729527 \nL 595.158046 519.283997 \nL 595.256603 524.729527 \nL 595.355159 505.670173 \nL 595.453716 511.115702 \nL 595.552273 498.863261 \nL 595.65083 523.368144 \nL 595.749387 522.006762 \nL 595.847944 517.922615 \nL 595.946501 526.090909 \nL 596.045058 500.224643 \nL 596.143615 526.090909 \nL 596.242172 509.75432 \nL 596.340729 526.090909 \nL 596.439286 517.922615 \nL 596.537843 526.090909 \nL 596.6364 496.140496 \nL 596.734957 504.30879 \nL 596.833514 464.8287 \nL 596.932071 524.729527 \nL 597.030628 523.368144 \nL 597.227742 526.090909 \nL 597.326299 511.115702 \nL 597.424856 516.561232 \nL 597.523413 475.71976 \nL 597.62197 498.863261 \nL 597.720527 462.105935 \nL 597.819084 526.090909 \nL 597.917641 468.912847 \nL 598.016198 524.729527 \nL 598.114755 520.645379 \nL 598.213312 524.729527 \nL 598.311869 489.333584 \nL 598.508983 526.090909 \nL 598.804653 526.090909 \nL 598.90321 524.729527 \nL 599.001767 489.333584 \nL 599.100324 523.368144 \nL 599.198881 455.299023 \nL 599.297438 526.090909 \nL 599.395995 512.477085 \nL 599.593109 526.090909 \nL 599.691666 493.417731 \nL 599.790223 526.090909 \nL 599.88878 524.729527 \nL 599.987337 504.30879 \nL 600.184451 526.090909 \nL 600.283008 524.729527 \nL 600.381565 493.417731 \nL 600.480122 526.090909 \nL 600.578679 523.368144 \nL 600.677236 526.090909 \nL 600.775793 516.561232 \nL 600.87435 489.333584 \nL 601.071464 526.090909 \nL 601.170021 524.729527 \nL 601.268578 475.71976 \nL 601.465692 519.283997 \nL 601.662806 526.090909 \nL 601.761363 524.729527 \nL 601.958477 511.115702 \nL 602.15559 526.090909 \nL 602.352704 526.090909 \nL 602.648375 513.838467 \nL 602.746932 456.660406 \nL 602.944046 526.090909 \nL 603.042603 515.19985 \nL 603.239717 526.090909 \nL 603.436831 511.115702 \nL 603.535388 498.863261 \nL 603.732502 526.090909 \nL 603.831059 463.467318 \nL 604.028173 526.090909 \nL 604.12673 504.30879 \nL 604.225287 523.368144 \nL 604.323844 517.922615 \nL 604.520958 526.090909 \nL 604.619515 511.115702 \nL 604.718072 523.368144 \nL 604.816629 517.922615 \nL 604.915186 520.645379 \nL 605.013743 519.283997 \nL 605.210857 526.090909 \nL 605.40797 526.090909 \nL 605.506527 522.006762 \nL 605.605084 524.729527 \nL 605.802198 512.477085 \nL 605.999312 526.090909 \nL 606.097869 517.922615 \nL 606.196426 478.442524 \nL 606.39354 526.090909 \nL 606.492097 515.19985 \nL 606.590654 524.729527 \nL 606.689211 523.368144 \nL 606.886325 526.090909 \nL 607.083439 517.922615 \nL 607.181996 523.368144 \nL 607.280553 513.838467 \nL 607.37911 515.19985 \nL 607.576224 524.729527 \nL 607.674781 512.477085 \nL 607.871895 526.090909 \nL 607.970452 522.006762 \nL 608.069009 492.056349 \nL 608.167566 526.090909 \nL 608.266123 524.729527 \nL 608.36468 526.090909 \nL 608.463237 399.482344 \nL 608.660351 526.090909 \nL 608.857464 519.283997 \nL 609.054578 526.090909 \nL 609.153135 507.031555 \nL 609.251692 522.006762 \nL 609.350249 493.417731 \nL 609.448806 522.006762 \nL 609.547363 516.561232 \nL 609.744477 526.090909 \nL 609.843034 520.645379 \nL 610.040148 526.090909 \nL 610.237262 524.729527 \nL 610.335819 482.526672 \nL 610.434376 517.922615 \nL 610.532933 516.561232 \nL 610.63149 493.417731 \nL 610.730047 524.729527 \nL 610.828604 523.368144 \nL 610.927161 516.561232 \nL 611.025718 524.729527 \nL 611.124275 517.922615 \nL 611.222832 526.090909 \nL 611.419946 508.392938 \nL 611.61706 526.090909 \nL 611.715617 526.090909 \nL 611.814174 502.947408 \nL 611.912731 524.729527 \nL 612.011288 522.006762 \nL 612.109844 515.19985 \nL 612.306958 526.090909 \nL 612.405515 513.838467 \nL 612.504072 524.729527 \nL 612.701186 512.477085 \nL 612.799743 489.333584 \nL 612.8983 517.922615 \nL 612.996857 515.19985 \nL 613.095414 526.090909 \nL 613.292528 500.224643 \nL 613.489642 526.090909 \nL 613.785313 523.368144 \nL 613.982427 526.090909 \nL 614.080984 526.090909 \nL 614.179541 523.368144 \nL 614.278098 524.729527 \nL 614.376655 508.392938 \nL 614.573769 526.090909 \nL 614.672326 513.838467 \nL 614.86944 526.090909 \nL 615.066554 486.610819 \nL 615.165111 526.090909 \nL 615.263668 468.912847 \nL 615.460781 526.090909 \nL 615.559338 516.561232 \nL 615.657895 523.368144 \nL 615.756452 522.006762 \nL 615.953566 504.30879 \nL 616.15068 526.090909 \nL 616.249237 516.561232 \nL 616.347794 523.368144 \nL 616.544908 516.561232 \nL 616.742022 524.729527 \nL 616.840579 519.283997 \nL 617.037693 526.090909 \nL 617.13625 519.283997 \nL 617.234807 523.368144 \nL 617.530478 513.838467 \nL 617.629035 526.090909 \nL 617.826149 519.283997 \nL 618.023263 526.090909 \nL 618.12182 523.368144 \nL 618.220377 513.838467 \nL 618.318934 526.090909 \nL 618.516048 505.670173 \nL 618.614605 526.090909 \nL 618.713162 470.27423 \nL 618.811718 520.645379 \nL 618.910275 509.75432 \nL 619.008832 526.090909 \nL 619.107389 524.729527 \nL 619.205946 470.27423 \nL 619.304503 507.031555 \nL 619.40306 478.442524 \nL 619.600174 526.090909 \nL 619.698731 312.353869 \nL 619.797288 526.090909 \nL 619.895845 511.115702 \nL 620.092959 524.729527 \nL 620.191516 524.729527 \nL 620.290073 512.477085 \nL 620.38863 522.006762 \nL 620.487187 519.283997 \nL 620.585744 493.417731 \nL 620.782858 526.090909 \nL 620.881415 522.006762 \nL 620.979972 511.115702 \nL 621.177086 526.090909 \nL 621.275643 520.645379 \nL 621.3742 526.090909 \nL 621.472757 467.551465 \nL 621.571314 526.090909 \nL 621.669871 511.115702 \nL 621.866985 524.729527 \nL 622.064099 520.645379 \nL 622.261212 501.586026 \nL 622.458326 524.729527 \nL 622.556883 524.729527 \nL 622.65544 522.006762 \nL 622.951111 526.090909 \nL 623.148225 522.006762 \nL 623.345339 526.090909 \nL 623.443896 520.645379 \nL 623.64101 526.090909 \nL 623.739567 524.729527 \nL 623.838124 509.75432 \nL 623.936681 526.090909 \nL 624.035238 507.031555 \nL 624.232352 526.090909 \nL 624.330909 526.090909 \nL 624.429466 524.729527 \nL 624.528023 490.694966 \nL 624.62658 526.090909 \nL 624.823694 502.947408 \nL 625.020808 523.368144 \nL 625.119365 479.803907 \nL 625.415035 526.090909 \nL 625.513592 520.645379 \nL 625.612149 524.729527 \nL 625.710706 520.645379 \nL 625.809263 526.090909 \nL 625.90782 415.818933 \nL 626.006377 526.090909 \nL 626.104934 502.947408 \nL 626.302048 524.729527 \nL 626.400605 487.972201 \nL 626.597719 522.006762 \nL 626.696276 526.090909 \nL 626.794833 489.333584 \nL 626.89339 526.090909 \nL 626.991947 524.729527 \nL 627.090504 479.803907 \nL 627.287618 524.729527 \nL 627.386175 519.283997 \nL 627.484732 526.090909 \nL 627.583289 524.729527 \nL 627.681846 475.71976 \nL 627.780403 526.090909 \nL 627.87896 517.922615 \nL 628.076074 526.090909 \nL 628.174631 520.645379 \nL 628.371745 526.090909 \nL 628.470302 526.090909 \nL 628.568859 515.19985 \nL 628.667416 524.729527 \nL 628.765972 509.75432 \nL 628.963086 523.368144 \nL 629.061643 482.526672 \nL 629.1602 369.531931 \nL 629.258757 526.090909 \nL 629.357314 517.922615 \nL 629.554428 526.090909 \nL 629.751542 526.090909 \nL 629.948656 523.368144 \nL 630.047213 509.75432 \nL 630.14577 522.006762 \nL 630.244327 516.561232 \nL 630.342884 500.224643 \nL 630.441441 513.838467 \nL 630.539998 486.610819 \nL 630.737112 526.090909 \nL 630.934226 526.090909 \nL 631.032783 507.031555 \nL 631.229897 523.368144 \nL 631.328454 524.729527 \nL 631.427011 522.006762 \nL 631.525568 526.090909 \nL 631.624125 523.368144 \nL 631.821239 526.090909 \nL 631.919796 522.006762 \nL 632.018353 509.75432 \nL 632.116909 523.368144 \nL 632.215466 522.006762 \nL 632.41258 526.090909 \nL 632.609694 523.368144 \nL 632.708251 526.090909 \nL 632.806808 508.392938 \nL 632.905365 517.922615 \nL 633.003922 515.19985 \nL 633.102479 475.71976 \nL 633.201036 526.090909 \nL 633.299593 524.729527 \nL 633.39815 522.006762 \nL 633.496707 483.888054 \nL 633.595264 513.838467 \nL 633.693821 509.75432 \nL 633.693821 509.75432 \n\" style=\"fill:none;stroke:#1f77b4;stroke-linecap:square;stroke-width:1.5;\"/>\n   </g>\n   <g id=\"patch_3\">\n    <path d=\"M 101.057457 550.8 \nL 101.057457 7.2 \n\" style=\"fill:none;stroke:#000000;stroke-linecap:square;stroke-linejoin:miter;stroke-width:0.8;\"/>\n   </g>\n   <g id=\"patch_4\">\n    <path d=\"M 659.057457 550.8 \nL 659.057457 7.2 \n\" style=\"fill:none;stroke:#000000;stroke-linecap:square;stroke-linejoin:miter;stroke-width:0.8;\"/>\n   </g>\n   <g id=\"patch_5\">\n    <path d=\"M 101.057457 550.8 \nL 659.057457 550.8 \n\" style=\"fill:none;stroke:#000000;stroke-linecap:square;stroke-linejoin:miter;stroke-width:0.8;\"/>\n   </g>\n   <g id=\"patch_6\">\n    <path d=\"M 101.057457 7.2 \nL 659.057457 7.2 \n\" style=\"fill:none;stroke:#000000;stroke-linecap:square;stroke-linejoin:miter;stroke-width:0.8;\"/>\n   </g>\n  </g>\n </g>\n <defs>\n  <clipPath id=\"p7ec6f819bc\">\n   <rect height=\"543.6\" width=\"558\" x=\"101.057457\" y=\"7.2\"/>\n  </clipPath>\n </defs>\n</svg>\n",
      "image/png": "[encoded data removed]"
     },
     "metadata": {
      "needs_background": "light"
     }
    }
   ],
   "source": [
    "df.groupby('email')['title'].count().plot(figsize = (10,10))"
   ]
  },
  {
   "cell_type": "code",
   "execution_count": 145,
   "metadata": {},
   "outputs": [
    {
     "output_type": "execute_result",
     "data": {
      "text/plain": "                                         count unique  \\\nemail                                                   \n0000b6387a0366322d7fbfc6434af145adf7fed1    13     12   \n001055fc0bb67f71e8fa17002342b256a30254cd     4      4   \n00148e4911c7e04eeff8def7bbbdaf1c59c2c621     3      3   \n001a852ecbd6cc12ab77a785efa137b2646505fe     6      5   \n001fc95b90da5c3cb12c501d201a915e4f093290     2      2   \n...                                        ...    ...   \nffc6cfa435937ca0df967b44e9178439d04e3537     2      1   \nffc96f8fbb35aac4cb0029332b0fc78e7766bb5d     4      2   \nffe3d0543c9046d35c2ee3724ea9d774dff98a32    32     27   \nfff9fc3ec67bd18ed57a34ed1e67410942c4cd81    10      7   \nfffb93a166547448a0ff0232558118d59395fecd    13      6   \n\n                                                                                        top  \\\nemail                                                                                         \n0000b6387a0366322d7fbfc6434af145adf7fed1  deep learning with tensorflow course by big da...   \n001055fc0bb67f71e8fa17002342b256a30254cd  apple, ibm add machine learning to partnership...   \n00148e4911c7e04eeff8def7bbbdaf1c59c2c621                          small steps to tensorflow   \n001a852ecbd6cc12ab77a785efa137b2646505fe  predicting churn with the spss random tree alg...   \n001fc95b90da5c3cb12c501d201a915e4f093290  data structures related to machine learning al...   \n...                                                                                     ...   \nffc6cfa435937ca0df967b44e9178439d04e3537                           access mysql with python   \nffc96f8fbb35aac4cb0029332b0fc78e7766bb5d         visualize data with the matplotlib library   \nffe3d0543c9046d35c2ee3724ea9d774dff98a32  use r dataframes & ibm watson natural language...   \nfff9fc3ec67bd18ed57a34ed1e67410942c4cd81        flexdashboard: interactive dashboards for r   \nfffb93a166547448a0ff0232558118d59395fecd         gosales transactions for naive bayes model   \n\n                                         freq  \nemail                                          \n0000b6387a0366322d7fbfc6434af145adf7fed1    2  \n001055fc0bb67f71e8fa17002342b256a30254cd    1  \n00148e4911c7e04eeff8def7bbbdaf1c59c2c621    1  \n001a852ecbd6cc12ab77a785efa137b2646505fe    2  \n001fc95b90da5c3cb12c501d201a915e4f093290    1  \n...                                       ...  \nffc6cfa435937ca0df967b44e9178439d04e3537    2  \nffc96f8fbb35aac4cb0029332b0fc78e7766bb5d    3  \nffe3d0543c9046d35c2ee3724ea9d774dff98a32    3  \nfff9fc3ec67bd18ed57a34ed1e67410942c4cd81    3  \nfffb93a166547448a0ff0232558118d59395fecd    8  \n\n[5148 rows x 4 columns]",
      "text/html": "<div>\n<style scoped>\n    .dataframe tbody tr th:only-of-type {\n        vertical-align: middle;\n    }\n\n    .dataframe tbody tr th {\n        vertical-align: top;\n    }\n\n    .dataframe thead th {\n        text-align: right;\n    }\n</style>\n<table border=\"1\" class=\"dataframe\">\n  <thead>\n    <tr style=\"text-align: right;\">\n      <th></th>\n      <th>count</th>\n      <th>unique</th>\n      <th>top</th>\n      <th>freq</th>\n    </tr>\n    <tr>\n      <th>email</th>\n      <th></th>\n      <th></th>\n      <th></th>\n      <th></th>\n    </tr>\n  </thead>\n  <tbody>\n    <tr>\n      <th>0000b6387a0366322d7fbfc6434af145adf7fed1</th>\n      <td>13</td>\n      <td>12</td>\n      <td>deep learning with tensorflow course by big da...</td>\n      <td>2</td>\n    </tr>\n    <tr>\n      <th>001055fc0bb67f71e8fa17002342b256a30254cd</th>\n      <td>4</td>\n      <td>4</td>\n      <td>apple, ibm add machine learning to partnership...</td>\n      <td>1</td>\n    </tr>\n    <tr>\n      <th>00148e4911c7e04eeff8def7bbbdaf1c59c2c621</th>\n      <td>3</td>\n      <td>3</td>\n      <td>small steps to tensorflow</td>\n      <td>1</td>\n    </tr>\n    <tr>\n      <th>001a852ecbd6cc12ab77a785efa137b2646505fe</th>\n      <td>6</td>\n      <td>5</td>\n      <td>predicting churn with the spss random tree alg...</td>\n      <td>2</td>\n    </tr>\n    <tr>\n      <th>001fc95b90da5c3cb12c501d201a915e4f093290</th>\n      <td>2</td>\n      <td>2</td>\n      <td>data structures related to machine learning al...</td>\n      <td>1</td>\n    </tr>\n    <tr>\n      <th>...</th>\n      <td>...</td>\n      <td>...</td>\n      <td>...</td>\n      <td>...</td>\n    </tr>\n    <tr>\n      <th>ffc6cfa435937ca0df967b44e9178439d04e3537</th>\n      <td>2</td>\n      <td>1</td>\n      <td>access mysql with python</td>\n      <td>2</td>\n    </tr>\n    <tr>\n      <th>ffc96f8fbb35aac4cb0029332b0fc78e7766bb5d</th>\n      <td>4</td>\n      <td>2</td>\n      <td>visualize data with the matplotlib library</td>\n      <td>3</td>\n    </tr>\n    <tr>\n      <th>ffe3d0543c9046d35c2ee3724ea9d774dff98a32</th>\n      <td>32</td>\n      <td>27</td>\n      <td>use r dataframes &amp; ibm watson natural language...</td>\n      <td>3</td>\n    </tr>\n    <tr>\n      <th>fff9fc3ec67bd18ed57a34ed1e67410942c4cd81</th>\n      <td>10</td>\n      <td>7</td>\n      <td>flexdashboard: interactive dashboards for r</td>\n      <td>3</td>\n    </tr>\n    <tr>\n      <th>fffb93a166547448a0ff0232558118d59395fecd</th>\n      <td>13</td>\n      <td>6</td>\n      <td>gosales transactions for naive bayes model</td>\n      <td>8</td>\n    </tr>\n  </tbody>\n</table>\n<p>5148 rows × 4 columns</p>\n</div>"
     },
     "metadata": {},
     "execution_count": 145
    }
   ],
   "source": [
    "df.groupby('email')['title'].describe()"
   ]
  },
  {
   "cell_type": "code",
   "execution_count": 146,
   "metadata": {},
   "outputs": [
    {
     "output_type": "execute_result",
     "data": {
      "text/plain": "3.0"
     },
     "metadata": {},
     "execution_count": 146
    }
   ],
   "source": [
    "df.groupby('email')['title'].count().sort_values().median()"
   ]
  },
  {
   "cell_type": "code",
   "execution_count": 147,
   "metadata": {},
   "outputs": [
    {
     "output_type": "execute_result",
     "data": {
      "text/plain": "364"
     },
     "metadata": {},
     "execution_count": 147
    }
   ],
   "source": [
    "df.groupby('email')['title'].count().sort_values().max()"
   ]
  },
  {
   "cell_type": "code",
   "execution_count": 148,
   "metadata": {
    "collapsed": true
   },
   "outputs": [],
   "source": [
    "# Fill in the median and maximum number of user_article interactios below\n",
    "\n",
    "median_val = 3\n",
    "# 50% of individuals interact with ____ number of articles or fewer.\n",
    "max_views_by_user = 364\n",
    "# The maximum number of user-article interactions by any 1 user is ______."
   ]
  },
  {
   "cell_type": "markdown",
   "metadata": {},
   "source": [
    "`2.` Explore and remove duplicate articles from the **df_content** dataframe.  "
   ]
  },
  {
   "cell_type": "code",
   "execution_count": 149,
   "metadata": {
    "collapsed": true
   },
   "outputs": [],
   "source": [
    "# Find and explore duplicate articles\n",
    "duplicate = df_content[df_content['doc_full_name'].duplicated()]"
   ]
  },
  {
   "cell_type": "code",
   "execution_count": 150,
   "metadata": {
    "collapsed": true
   },
   "outputs": [],
   "source": [
    "# Remove any rows that have the same article_id - only keep the first\n",
    "df_content = df_content.drop(duplicate.index,axis = 0)"
   ]
  },
  {
   "cell_type": "markdown",
   "metadata": {},
   "source": [
    "`3.` Use the cells below to find:\n",
    "\n",
    "**a.** The number of unique articles that have an interaction with a user.  \n",
    "**b.** The number of unique articles in the dataset (whether they have any interactions or not).<br>\n",
    "**c.** The number of unique users in the dataset. (excluding null values) <br>\n",
    "**d.** The number of user-article interactions in the dataset."
   ]
  },
  {
   "cell_type": "code",
   "execution_count": 151,
   "metadata": {
    "collapsed": true
   },
   "outputs": [],
   "source": [
    "df2 = df.groupby('title').count()"
   ]
  },
  {
   "cell_type": "code",
   "execution_count": 152,
   "metadata": {},
   "outputs": [
    {
     "output_type": "execute_result",
     "data": {
      "text/plain": "Empty DataFrame\nColumns: [article_id, email]\nIndex: []",
      "text/html": "<div>\n<style scoped>\n    .dataframe tbody tr th:only-of-type {\n        vertical-align: middle;\n    }\n\n    .dataframe tbody tr th {\n        vertical-align: top;\n    }\n\n    .dataframe thead th {\n        text-align: right;\n    }\n</style>\n<table border=\"1\" class=\"dataframe\">\n  <thead>\n    <tr style=\"text-align: right;\">\n      <th></th>\n      <th>article_id</th>\n      <th>email</th>\n    </tr>\n    <tr>\n      <th>title</th>\n      <th></th>\n      <th></th>\n    </tr>\n  </thead>\n  <tbody>\n  </tbody>\n</table>\n</div>"
     },
     "metadata": {},
     "execution_count": 152
    }
   ],
   "source": [
    "df2[df2['email'] == 0]"
   ]
  },
  {
   "cell_type": "code",
   "execution_count": 153,
   "metadata": {},
   "outputs": [
    {
     "output_type": "execute_result",
     "data": {
      "text/plain": "714"
     },
     "metadata": {},
     "execution_count": 153
    }
   ],
   "source": [
    "len(df2)"
   ]
  },
  {
   "cell_type": "code",
   "execution_count": 154,
   "metadata": {},
   "outputs": [
    {
     "output_type": "execute_result",
     "data": {
      "text/plain": "5148"
     },
     "metadata": {},
     "execution_count": 154
    }
   ],
   "source": [
    "df[df['email'].notnull()]['email'].nunique()"
   ]
  },
  {
   "cell_type": "code",
   "execution_count": 155,
   "metadata": {},
   "outputs": [
    {
     "output_type": "execute_result",
     "data": {
      "text/plain": "1051"
     },
     "metadata": {},
     "execution_count": 155
    }
   ],
   "source": [
    "df_content['doc_full_name'].nunique()"
   ]
  },
  {
   "cell_type": "code",
   "execution_count": 156,
   "metadata": {},
   "outputs": [
    {
     "output_type": "execute_result",
     "data": {
      "text/plain": "45993"
     },
     "metadata": {},
     "execution_count": 156
    }
   ],
   "source": [
    "len(df)"
   ]
  },
  {
   "cell_type": "code",
   "execution_count": 157,
   "metadata": {
    "collapsed": true
   },
   "outputs": [],
   "source": [
    "unique_articles = 714\n",
    "# The number of unique articles that have at least one interaction\n",
    "total_articles = 1051\n",
    "# The number of unique articles on the IBM platform\n",
    "unique_users = 5148\n",
    "# The number of unique users\n",
    "user_article_interactions = 45993\n",
    "# The number of user-article interactions"
   ]
  },
  {
   "cell_type": "markdown",
   "metadata": {},
   "source": [
    "`4.` Use the cells below to find the most viewed **article_id**, as well as how often it was viewed.  After talking to the company leaders, the `email_mapper` function was deemed a reasonable way to map users to ids.  There were a small number of null values, and it was found that all of these null values likely belonged to a single user (which is how they are stored using the function below)."
   ]
  },
  {
   "cell_type": "code",
   "execution_count": 158,
   "metadata": {
    "collapsed": true
   },
   "outputs": [],
   "source": [
    "most_viewed_article_id = '1429.0'\n",
    "# The most viewed article in the dataset as a string with one value following the decimal \n",
    "max_views = 937\n",
    "# The most viewed article in the dataset was viewed how many times?"
   ]
  },
  {
   "cell_type": "code",
   "execution_count": 159,
   "metadata": {
    "collapsed": true
   },
   "outputs": [
    {
     "output_type": "execute_result",
     "data": {
      "text/plain": "   article_id                                              title  user_id\n0      1430.0  using pixiedust for fast, flexible, and easier...        1\n1      1314.0       healthcare python streaming application demo        2\n2      1429.0         use deep learning for image classification        3\n3      1338.0          ml optimization using cognitive assistant        4\n4      1276.0          deploy your python model as a restful api        5",
      "text/html": "<div>\n<style scoped>\n    .dataframe tbody tr th:only-of-type {\n        vertical-align: middle;\n    }\n\n    .dataframe tbody tr th {\n        vertical-align: top;\n    }\n\n    .dataframe thead th {\n        text-align: right;\n    }\n</style>\n<table border=\"1\" class=\"dataframe\">\n  <thead>\n    <tr style=\"text-align: right;\">\n      <th></th>\n      <th>article_id</th>\n      <th>title</th>\n      <th>user_id</th>\n    </tr>\n  </thead>\n  <tbody>\n    <tr>\n      <th>0</th>\n      <td>1430.0</td>\n      <td>using pixiedust for fast, flexible, and easier...</td>\n      <td>1</td>\n    </tr>\n    <tr>\n      <th>1</th>\n      <td>1314.0</td>\n      <td>healthcare python streaming application demo</td>\n      <td>2</td>\n    </tr>\n    <tr>\n      <th>2</th>\n      <td>1429.0</td>\n      <td>use deep learning for image classification</td>\n      <td>3</td>\n    </tr>\n    <tr>\n      <th>3</th>\n      <td>1338.0</td>\n      <td>ml optimization using cognitive assistant</td>\n      <td>4</td>\n    </tr>\n    <tr>\n      <th>4</th>\n      <td>1276.0</td>\n      <td>deploy your python model as a restful api</td>\n      <td>5</td>\n    </tr>\n  </tbody>\n</table>\n</div>"
     },
     "metadata": {},
     "execution_count": 159
    }
   ],
   "source": [
    "## No need to change the code here - this will be helpful for later parts of the notebook\n",
    "# Run this cell to map the user email to a user_id column and remove the email column\n",
    "\n",
    "def email_mapper():\n",
    "    coded_dict = dict()\n",
    "    cter = 1\n",
    "    email_encoded = []\n",
    "    \n",
    "    for val in df['email']:\n",
    "        if val not in coded_dict:\n",
    "            coded_dict[val] = cter\n",
    "            cter+=1\n",
    "        \n",
    "        email_encoded.append(coded_dict[val])\n",
    "    return email_encoded\n",
    "\n",
    "email_encoded = email_mapper()\n",
    "del df['email']\n",
    "df['user_id'] = email_encoded\n",
    "\n",
    "# show header\n",
    "df.head()"
   ]
  },
  {
   "cell_type": "code",
   "execution_count": 160,
   "metadata": {},
   "outputs": [
    {
     "output_type": "execute_result",
     "data": {
      "text/plain": "article_id  article_id\n1429.0      1429.0        937\n1330.0      1330.0        927\n1431.0      1431.0        671\n1427.0      1427.0        643\n1364.0      1364.0        627\n                         ... \n1233.0      1233.0          1\n1237.0      1237.0          1\n417.0       417.0           1\n984.0       984.0           1\n1092.0      1092.0          1\nName: article_id, Length: 714, dtype: int64"
     },
     "metadata": {},
     "execution_count": 160
    }
   ],
   "source": [
    "df.groupby('article_id')['article_id'].value_counts().sort_values(ascending = False)"
   ]
  },
  {
   "cell_type": "code",
   "execution_count": 161,
   "metadata": {
    "collapsed": true,
    "tags": []
   },
   "outputs": [
    {
     "output_type": "stream",
     "name": "stdout",
     "text": "It looks like you have everything right here! Nice job!\n"
    }
   ],
   "source": [
    "## If you stored all your results in the variable names above, \n",
    "## you shouldn't need to change anything in this cell\n",
    "\n",
    "sol_1_dict = {\n",
    "    '`50% of individuals have _____ or fewer interactions.`': median_val,\n",
    "    '`The total number of user-article interactions in the dataset is ______.`': user_article_interactions,\n",
    "    '`The maximum number of user-article interactions by any 1 user is ______.`': max_views_by_user,\n",
    "    '`The most viewed article in the dataset was viewed _____ times.`': max_views,\n",
    "    '`The article_id of the most viewed article is ______.`': most_viewed_article_id,\n",
    "    '`The number of unique articles that have at least 1 rating ______.`': unique_articles,\n",
    "    '`The number of unique users in the dataset is ______`': unique_users,\n",
    "    '`The number of unique articles on the IBM platform`': total_articles\n",
    "}\n",
    "\n",
    "# Test your dictionary against the solution\n",
    "t.sol_1_test(sol_1_dict)"
   ]
  },
  {
   "cell_type": "markdown",
   "metadata": {},
   "source": [
    "### <a class=\"anchor\" id=\"Rank\">Part II: Rank-Based Recommendations</a>\n",
    "\n",
    "Unlike in the earlier lessons, we don't actually have ratings for whether a user liked an article or not.  We only know that a user has interacted with an article.  In these cases, the popularity of an article can really only be based on how often an article was interacted with.\n",
    "\n",
    "`1.` Fill in the function below to return the **n** top articles ordered with most interactions as the top. Test your function using the tests below."
   ]
  },
  {
   "cell_type": "code",
   "execution_count": 162,
   "metadata": {},
   "outputs": [],
   "source": [
    "df_new = pd.DataFrame(df.groupby('article_id')['title'].value_counts().sort_values(ascending = False)).rename(columns = {'title':'Title','title':'Count'}).reset_index()"
   ]
  },
  {
   "cell_type": "code",
   "execution_count": 163,
   "metadata": {},
   "outputs": [
    {
     "output_type": "execute_result",
     "data": {
      "text/plain": "     article_id                                              title  Count\n0        1429.0         use deep learning for image classification    937\n1        1330.0        insights from new york car accident reports    927\n2        1431.0                     visualize car data with brunel    671\n3        1427.0  use xgboost, scikit-learn & ibm watson machine...    643\n4        1364.0  predicting churn with the spss random tree alg...    627\n..          ...                                                ...    ...\n709      1233.0  country statistics: market value of publicly t...      1\n710      1237.0      country statistics: natural gas - consumption      1\n711       417.0                          ibm data catalog overview      1\n712       984.0                     the data processing inequality      1\n713      1092.0          airbnb data for analytics: london reviews      1\n\n[714 rows x 3 columns]",
      "text/html": "<div>\n<style scoped>\n    .dataframe tbody tr th:only-of-type {\n        vertical-align: middle;\n    }\n\n    .dataframe tbody tr th {\n        vertical-align: top;\n    }\n\n    .dataframe thead th {\n        text-align: right;\n    }\n</style>\n<table border=\"1\" class=\"dataframe\">\n  <thead>\n    <tr style=\"text-align: right;\">\n      <th></th>\n      <th>article_id</th>\n      <th>title</th>\n      <th>Count</th>\n    </tr>\n  </thead>\n  <tbody>\n    <tr>\n      <th>0</th>\n      <td>1429.0</td>\n      <td>use deep learning for image classification</td>\n      <td>937</td>\n    </tr>\n    <tr>\n      <th>1</th>\n      <td>1330.0</td>\n      <td>insights from new york car accident reports</td>\n      <td>927</td>\n    </tr>\n    <tr>\n      <th>2</th>\n      <td>1431.0</td>\n      <td>visualize car data with brunel</td>\n      <td>671</td>\n    </tr>\n    <tr>\n      <th>3</th>\n      <td>1427.0</td>\n      <td>use xgboost, scikit-learn &amp; ibm watson machine...</td>\n      <td>643</td>\n    </tr>\n    <tr>\n      <th>4</th>\n      <td>1364.0</td>\n      <td>predicting churn with the spss random tree alg...</td>\n      <td>627</td>\n    </tr>\n    <tr>\n      <th>...</th>\n      <td>...</td>\n      <td>...</td>\n      <td>...</td>\n    </tr>\n    <tr>\n      <th>709</th>\n      <td>1233.0</td>\n      <td>country statistics: market value of publicly t...</td>\n      <td>1</td>\n    </tr>\n    <tr>\n      <th>710</th>\n      <td>1237.0</td>\n      <td>country statistics: natural gas - consumption</td>\n      <td>1</td>\n    </tr>\n    <tr>\n      <th>711</th>\n      <td>417.0</td>\n      <td>ibm data catalog overview</td>\n      <td>1</td>\n    </tr>\n    <tr>\n      <th>712</th>\n      <td>984.0</td>\n      <td>the data processing inequality</td>\n      <td>1</td>\n    </tr>\n    <tr>\n      <th>713</th>\n      <td>1092.0</td>\n      <td>airbnb data for analytics: london reviews</td>\n      <td>1</td>\n    </tr>\n  </tbody>\n</table>\n<p>714 rows × 3 columns</p>\n</div>"
     },
     "metadata": {},
     "execution_count": 163
    }
   ],
   "source": [
    "df_new"
   ]
  },
  {
   "cell_type": "code",
   "execution_count": 164,
   "metadata": {
    "collapsed": true
   },
   "outputs": [],
   "source": [
    "def get_top_articles(n, df=df):\n",
    "    '''\n",
    "    INPUT:\n",
    "    n - (int) the number of top articles to return\n",
    "    df - (pandas dataframe) df as defined at the top of the notebook \n",
    "    \n",
    "    OUTPUT:\n",
    "    top_articles - (list) A list of the top 'n' article titles \n",
    "    \n",
    "    '''\n",
    "    # Your code here\n",
    "    df_new = pd.DataFrame(df.groupby('article_id')['title'].value_counts().sort_values(ascending = False)).rename(columns = {'title':'Title','title':'Count'}).reset_index()\n",
    "    top_articles = df_new['title'][0:n]\n",
    "    return top_articles # Return the top article titles from df (not df_content)\n",
    "\n",
    "def get_top_article_ids(n, df=df):\n",
    "    '''\n",
    "    INPUT:\n",
    "    n - (int) the number of top articles to return\n",
    "    df - (pandas dataframe) df as defined at the top of the notebook \n",
    "    \n",
    "    OUTPUT:\n",
    "    top_articles - (list) A list of the top 'n' article titles \n",
    "    \n",
    "    '''\n",
    "    # Your code here\n",
    "    df_new = pd.DataFrame(df.groupby('article_id')['title'].value_counts().sort_values(ascending = False)).rename(columns = {'title':'Title','title':'Count'}).reset_index()\n",
    "    top_articles = df_new['article_id'][0:n]\n",
    "    return top_articles # Return the top article ids"
   ]
  },
  {
   "cell_type": "code",
   "execution_count": 165,
   "metadata": {
    "collapsed": true,
    "tags": []
   },
   "outputs": [
    {
     "output_type": "stream",
     "name": "stdout",
     "text": "0           use deep learning for image classification\n1          insights from new york car accident reports\n2                       visualize car data with brunel\n3    use xgboost, scikit-learn & ibm watson machine...\n4    predicting churn with the spss random tree alg...\n5         healthcare python streaming application demo\n6    finding optimal locations of new store using d...\n7             apache spark lab, part 1: basic concepts\n8              analyze energy consumption in buildings\n9    gosales transactions for logistic regression m...\nName: title, dtype: object\n0    1429.0\n1    1330.0\n2    1431.0\n3    1427.0\n4    1364.0\n5    1314.0\n6    1293.0\n7    1170.0\n8    1162.0\n9    1304.0\nName: article_id, dtype: float64\n"
    }
   ],
   "source": [
    "print(get_top_articles(10))\n",
    "print(get_top_article_ids(10))"
   ]
  },
  {
   "cell_type": "code",
   "execution_count": 166,
   "metadata": {
    "collapsed": true,
    "tags": []
   },
   "outputs": [
    {
     "output_type": "stream",
     "name": "stdout",
     "text": "Your top_5 looks like the solution list! Nice job.\nYour top_10 looks like the solution list! Nice job.\nYour top_20 looks like the solution list! Nice job.\n"
    }
   ],
   "source": [
    "# Test your function by returning the top 5, 10, and 20 articles\n",
    "top_5 = get_top_articles(5)\n",
    "top_10 = get_top_articles(10)\n",
    "top_20 = get_top_articles(20)\n",
    "\n",
    "# Test each of your three lists from above\n",
    "t.sol_2_test(get_top_articles)"
   ]
  },
  {
   "cell_type": "markdown",
   "metadata": {},
   "source": [
    "### <a class=\"anchor\" id=\"User-User\">Part III: User-User Based Collaborative Filtering</a>\n",
    "\n",
    "\n",
    "`1.` Use the function below to reformat the **df** dataframe to be shaped with users as the rows and articles as the columns.  \n",
    "\n",
    "* Each **user** should only appear in each **row** once.\n",
    "\n",
    "\n",
    "* Each **article** should only show up in one **column**.  \n",
    "\n",
    "\n",
    "* **If a user has interacted with an article, then place a 1 where the user-row meets for that article-column**.  It does not matter how many times a user has interacted with the article, all entries where a user has interacted with an article should be a 1.  \n",
    "\n",
    "\n",
    "* **If a user has not interacted with an item, then place a zero where the user-row meets for that article-column**. \n",
    "\n",
    "Use the tests to make sure the basic structure of your matrix matches what is expected by the solution."
   ]
  },
  {
   "cell_type": "code",
   "execution_count": 167,
   "metadata": {},
   "outputs": [],
   "source": [
    "list = []\n",
    "for i in range(45993):\n",
    "    list.append(1)\n",
    "df['matrix'] = list"
   ]
  },
  {
   "cell_type": "code",
   "execution_count": 168,
   "metadata": {
    "collapsed": true
   },
   "outputs": [],
   "source": [
    "# create the user-article matrix with 1's and 0's\n",
    "\n",
    "def create_user_item_matrix(df):\n",
    "    '''\n",
    "    INPUT:\n",
    "    df - pandas dataframe with article_id, title, user_id columns\n",
    "    \n",
    "    OUTPUT:\n",
    "    user_item - user item matrix \n",
    "    \n",
    "    Description:\n",
    "    Return a matrix with user ids as rows and article ids on the columns with 1 values where a user interacted with \n",
    "    an article and a 0 otherwise\n",
    "    '''\n",
    "    # Fill in the function here\n",
    "    user_item = df.groupby(['user_id', 'title'])['matrix'].max().unstack()\n",
    "    user_item = user_item.fillna(0)\n",
    "    return user_item # return the user_item matrix \n",
    "\n",
    "user_item = create_user_item_matrix(df)"
   ]
  },
  {
   "cell_type": "code",
   "execution_count": 169,
   "metadata": {
    "collapsed": true,
    "tags": []
   },
   "outputs": [
    {
     "output_type": "stream",
     "name": "stdout",
     "text": "You have passed our quick tests!  Please proceed!\n"
    }
   ],
   "source": [
    "## Tests: You should just need to run this cell.  Don't change the code.\n",
    "assert user_item.shape[0] == 5149, \"Oops!  The number of users in the user-article matrix doesn't look right.\"\n",
    "assert user_item.shape[1] == 714, \"Oops!  The number of articles in the user-article matrix doesn't look right.\"\n",
    "assert user_item.sum(axis=1)[1] == 36, \"Oops!  The number of articles seen by user 1 doesn't look right.\"\n",
    "print(\"You have passed our quick tests!  Please proceed!\")"
   ]
  },
  {
   "cell_type": "markdown",
   "metadata": {},
   "source": [
    "`2.` Complete the function below which should take a user_id and provide an ordered list of the most similar users to that user (from most similar to least similar).  The returned result should not contain the provided user_id, as we know that each user is similar to him/herself. Because the results for each user here are binary, it (perhaps) makes sense to compute similarity as the dot product of two users. \n",
    "\n",
    "Use the tests to test your function."
   ]
  },
  {
   "cell_type": "code",
   "execution_count": 170,
   "metadata": {
    "collapsed": true
   },
   "outputs": [],
   "source": [
    "def find_similar_users(user_id, user_item=user_item):\n",
    "    '''\n",
    "    INPUT:\n",
    "    user_id - (int) a user_id\n",
    "    user_item - (pandas dataframe) matrix of users by articles: \n",
    "                1's when a user has interacted with an article, 0 otherwise\n",
    "    \n",
    "    OUTPUT:\n",
    "    similar_users - (list) an ordered list where the closest users (largest dot product users)\n",
    "                    are listed first\n",
    "    \n",
    "    Description:\n",
    "    Computes the similarity of every pair of users based on the dot product\n",
    "    Returns an ordered\n",
    "    \n",
    "    '''\n",
    "    # compute similarity of each user to the provided user\n",
    "    similarity = user_item[user_item.index == user_id].dot(user_item.T)\n",
    "\n",
    "    # sort by similarity\n",
    "    similarity = similarity.sort_values(by=user_id, axis=1, ascending=False)\n",
    "\n",
    "    # create list of just the ids\n",
    "    most_similar_users = similarity.columns.tolist()\n",
    "    # remove the own user's id\n",
    "    most_similar_users.remove(user_id)\n",
    "    return most_similar_users # return a list of the users in order from most to least similar\n",
    "        "
   ]
  },
  {
   "cell_type": "code",
   "execution_count": 171,
   "metadata": {
    "collapsed": true,
    "tags": []
   },
   "outputs": [
    {
     "output_type": "stream",
     "name": "stdout",
     "text": "The 10 most similar users to user 1 are: [3933, 23, 3782, 203, 4459, 3870, 131, 4201, 46, 5041]\nThe 5 most similar users to user 3933 are: [1, 23, 3782, 203, 4459]\nThe 3 most similar users to user 46 are: [4201, 3782, 23]\n"
    }
   ],
   "source": [
    "# Do a spot check of your function\n",
    "print(\"The 10 most similar users to user 1 are: {}\".format(find_similar_users(1)[:10]))\n",
    "print(\"The 5 most similar users to user 3933 are: {}\".format(find_similar_users(3933)[:5]))\n",
    "print(\"The 3 most similar users to user 46 are: {}\".format(find_similar_users(46)[:3]))"
   ]
  },
  {
   "cell_type": "markdown",
   "metadata": {},
   "source": [
    "`3.` Now that you have a function that provides the most similar users to each user, you will want to use these users to find articles you can recommend.  Complete the functions below to return the articles you would recommend to each user. "
   ]
  },
  {
   "cell_type": "code",
   "execution_count": 206,
   "metadata": {},
   "outputs": [],
   "source": [
    "df = user_item[user_item.index == 1]"
   ]
  },
  {
   "cell_type": "code",
   "execution_count": 173,
   "metadata": {},
   "outputs": [],
   "source": [
    "s = df.iloc[0].sort_values(ascending = False)"
   ]
  },
  {
   "cell_type": "code",
   "execution_count": 174,
   "metadata": {},
   "outputs": [],
   "source": [
    "title = s[s == 1].index"
   ]
  },
  {
   "cell_type": "code",
   "execution_count": 175,
   "metadata": {},
   "outputs": [
    {
     "output_type": "execute_result",
     "data": {
      "text/plain": "Index(['shiny 0.13.0',\n       'python for loops explained (python for data science basics #5)',\n       'welcome to pixiedust', 'sudoku',\n       'super fast string matching in python', 'categorize urban density',\n       'tensorflow quick tips', 'apache spark lab, part 1: basic concepts',\n       'classify tumors with machine learning',\n       'visualize car data with brunel',\n       'predict loan applicant behavior with tensorflow neural networking',\n       'access db2 warehouse on cloud and db2 with python',\n       'analyze db2 warehouse on cloud data in rstudio in dsx',\n       'use xgboost, scikit-learn & ibm watson machine learning apis',\n       'deep learning with tensorflow course by big data university',\n       'introducing ibm watson studio ',\n       'introduction to market basket analysis in python',\n       'jupyter notebook tutorial',\n       'use deep learning for image classification',\n       'new shiny cheat sheet and video tutorial',\n       'country statistics: life expectancy at birth',\n       'tidyverse practice: mapping large european cities', 'uci: iris',\n       'time series prediction using recurrent neural networks (lstms)',\n       'uci ml repository: chronic kidney disease data set',\n       'putting a human face on machine learning',\n       'using pixiedust for fast, flexible, and easier data analysis and experimentation',\n       'python if statements explained (python for data science basics #4)',\n       'gosales transactions for naive bayes model',\n       'working with ibm cloud object storage in r',\n       'shiny: a data scientist’s best friend',\n       'rapidly build machine learning flows with dsx',\n       'sector correlations shiny app',\n       'working with ibm cloud object storage in python',\n       'finding optimal locations of new store using decision optimization',\n       'fighting gerrymandering: using data science to draw fairer congressional districts'],\n      dtype='object', name='title')"
     },
     "metadata": {},
     "execution_count": 175
    }
   ],
   "source": [
    "title"
   ]
  },
  {
   "cell_type": "code",
   "execution_count": 177,
   "metadata": {
    "collapsed": true
   },
   "outputs": [],
   "source": [
    "def get_article_names(article_ids, df=df):\n",
    "    '''\n",
    "    INPUT:\n",
    "    article_ids - (list) a list of article ids\n",
    "    df - (pandas dataframe) df as defined at the top of the notebook\n",
    "    \n",
    "    OUTPUT:\n",
    "    article_names - (list) a list of article names associated with the list of article ids \n",
    "                    (this is identified by the title column)\n",
    "    '''\n",
    "    # Your code here\n",
    "    df_new = df.drop_duplicates(subset = ['article_id'])\n",
    "    article_names = df_new[df_new['article_id'].isin(article_ids)]['title'].tolist()\n",
    "   \n",
    "    return article_names # Return the article names associated with list of article ids\n",
    "\n",
    "\n",
    "def get_user_articles(user_id, user_item=user_item):\n",
    "    '''\n",
    "    INPUT:\n",
    "    user_id - (int) a user id\n",
    "    user_item - (pandas dataframe) matrix of users by articles: \n",
    "                1's when a user has interacted with an article, 0 otherwise\n",
    "    \n",
    "    OUTPUT:\n",
    "    article_ids - (list) a list of the article ids seen by the user\n",
    "    article_names - (list) a list of article names associated with the list of article ids \n",
    "                    (this is identified by the doc_full_name column in df_content)\n",
    "    \n",
    "    Description:\n",
    "    Provides a list of the article_ids and article titles that have been seen by a user\n",
    "    '''\n",
    "    # Your code here\n",
    "    df = user_item[user_item.index == user_id]\n",
    "    s = df.iloc[0].sort_values(ascending = False)\n",
    "    article_names = s[s == 1].index\n",
    "\n",
    "    return article_ids, article_names # return the ids and names\n",
    "\n",
    "\n",
    "def user_user_recs(user_id, m=10):\n",
    "    '''\n",
    "    INPUT:\n",
    "    user_id - (int) a user id\n",
    "    m - (int) the number of recommendations you want for the user\n",
    "    \n",
    "    OUTPUT:\n",
    "    recs - (list) a list of recommendations for the user\n",
    "    \n",
    "    Description:\n",
    "    Loops through the users based on closeness to the input user_id\n",
    "    For each user - finds articles the user hasn't seen before and provides them as recs\n",
    "    Does this until m recommendations are found\n",
    "    \n",
    "    Notes:\n",
    "    Users who are the same closeness are chosen arbitrarily as the 'next' user\n",
    "    \n",
    "    For the user where the number of recommended articles starts below m \n",
    "    and ends exceeding m, the last items are chosen arbitrarily\n",
    "    \n",
    "    '''\n",
    "    # Your code here\n",
    "    \n",
    "    return recs # return your recommendations for this user_id    "
   ]
  },
  {
   "cell_type": "code",
   "execution_count": null,
   "metadata": {},
   "outputs": [],
   "source": []
  },
  {
   "cell_type": "code",
   "execution_count": 178,
   "metadata": {
    "collapsed": true
   },
   "outputs": [
    {
     "output_type": "error",
     "ename": "NameError",
     "evalue": "name 'recs' is not defined",
     "traceback": [
      "\u001b[0;31m---------------------------------------------------------------------------\u001b[0m",
      "\u001b[0;31mNameError\u001b[0m                                 Traceback (most recent call last)",
      "\u001b[0;32m<ipython-input-178-dd9121a6ef8d>\u001b[0m in \u001b[0;36m<module>\u001b[0;34m\u001b[0m\n\u001b[1;32m      1\u001b[0m \u001b[0;31m# Check Results\u001b[0m\u001b[0;34m\u001b[0m\u001b[0;34m\u001b[0m\u001b[0;34m\u001b[0m\u001b[0m\n\u001b[0;32m----> 2\u001b[0;31m \u001b[0mget_article_names\u001b[0m\u001b[0;34m(\u001b[0m\u001b[0muser_user_recs\u001b[0m\u001b[0;34m(\u001b[0m\u001b[0;36m1\u001b[0m\u001b[0;34m,\u001b[0m \u001b[0;36m10\u001b[0m\u001b[0;34m)\u001b[0m\u001b[0;34m)\u001b[0m \u001b[0;31m# Return 10 recommendations for user 1\u001b[0m\u001b[0;34m\u001b[0m\u001b[0;34m\u001b[0m\u001b[0m\n\u001b[0m",
      "\u001b[0;32m<ipython-input-177-fe7d0a0703ef>\u001b[0m in \u001b[0;36muser_user_recs\u001b[0;34m(user_id, m)\u001b[0m\n\u001b[1;32m     59\u001b[0m     \u001b[0;31m# Your code here\u001b[0m\u001b[0;34m\u001b[0m\u001b[0;34m\u001b[0m\u001b[0;34m\u001b[0m\u001b[0m\n\u001b[1;32m     60\u001b[0m \u001b[0;34m\u001b[0m\u001b[0m\n\u001b[0;32m---> 61\u001b[0;31m     \u001b[0;32mreturn\u001b[0m \u001b[0mrecs\u001b[0m \u001b[0;31m# return your recommendations for this user_id\u001b[0m\u001b[0;34m\u001b[0m\u001b[0;34m\u001b[0m\u001b[0m\n\u001b[0m",
      "\u001b[0;31mNameError\u001b[0m: name 'recs' is not defined"
     ]
    }
   ],
   "source": [
    "# Check Results\n",
    "get_article_names(user_user_recs(1, 10)) # Return 10 recommendations for user 1"
   ]
  },
  {
   "cell_type": "code",
   "execution_count": 179,
   "metadata": {
    "collapsed": true
   },
   "outputs": [
    {
     "output_type": "error",
     "ename": "KeyError",
     "evalue": "Index(['article_id'], dtype='object')",
     "traceback": [
      "\u001b[0;31m---------------------------------------------------------------------------\u001b[0m",
      "\u001b[0;31mKeyError\u001b[0m                                  Traceback (most recent call last)",
      "\u001b[0;32m<ipython-input-179-c81316aeaccc>\u001b[0m in \u001b[0;36m<module>\u001b[0;34m\u001b[0m\n\u001b[1;32m      1\u001b[0m \u001b[0;31m# Test your functions here - No need to change this code - just run this cell\u001b[0m\u001b[0;34m\u001b[0m\u001b[0;34m\u001b[0m\u001b[0;34m\u001b[0m\u001b[0m\n\u001b[0;32m----> 2\u001b[0;31m \u001b[0;32massert\u001b[0m \u001b[0mset\u001b[0m\u001b[0;34m(\u001b[0m\u001b[0mget_article_names\u001b[0m\u001b[0;34m(\u001b[0m\u001b[0;34m[\u001b[0m\u001b[0;34m'1024.0'\u001b[0m\u001b[0;34m,\u001b[0m \u001b[0;34m'1176.0'\u001b[0m\u001b[0;34m,\u001b[0m \u001b[0;34m'1305.0'\u001b[0m\u001b[0;34m,\u001b[0m \u001b[0;34m'1314.0'\u001b[0m\u001b[0;34m,\u001b[0m \u001b[0;34m'1422.0'\u001b[0m\u001b[0;34m,\u001b[0m \u001b[0;34m'1427.0'\u001b[0m\u001b[0;34m]\u001b[0m\u001b[0;34m)\u001b[0m\u001b[0;34m)\u001b[0m \u001b[0;34m==\u001b[0m \u001b[0mset\u001b[0m\u001b[0;34m(\u001b[0m\u001b[0;34m[\u001b[0m\u001b[0;34m'using deep learning to reconstruct high-resolution audio'\u001b[0m\u001b[0;34m,\u001b[0m \u001b[0;34m'build a python app on the streaming analytics service'\u001b[0m\u001b[0;34m,\u001b[0m \u001b[0;34m'gosales transactions for naive bayes model'\u001b[0m\u001b[0;34m,\u001b[0m \u001b[0;34m'healthcare python streaming application demo'\u001b[0m\u001b[0;34m,\u001b[0m \u001b[0;34m'use r dataframes & ibm watson natural language understanding'\u001b[0m\u001b[0;34m,\u001b[0m \u001b[0;34m'use xgboost, scikit-learn & ibm watson machine learning apis'\u001b[0m\u001b[0;34m]\u001b[0m\u001b[0;34m)\u001b[0m\u001b[0;34m,\u001b[0m \u001b[0;34m\"Oops! Your the get_article_names function doesn't work quite how we expect.\"\u001b[0m\u001b[0;34m\u001b[0m\u001b[0;34m\u001b[0m\u001b[0m\n\u001b[0m\u001b[1;32m      3\u001b[0m \u001b[0;32massert\u001b[0m \u001b[0mset\u001b[0m\u001b[0;34m(\u001b[0m\u001b[0mget_article_names\u001b[0m\u001b[0;34m(\u001b[0m\u001b[0;34m[\u001b[0m\u001b[0;34m'1320.0'\u001b[0m\u001b[0;34m,\u001b[0m \u001b[0;34m'232.0'\u001b[0m\u001b[0;34m,\u001b[0m \u001b[0;34m'844.0'\u001b[0m\u001b[0;34m]\u001b[0m\u001b[0;34m)\u001b[0m\u001b[0;34m)\u001b[0m \u001b[0;34m==\u001b[0m \u001b[0mset\u001b[0m\u001b[0;34m(\u001b[0m\u001b[0;34m[\u001b[0m\u001b[0;34m'housing (2015): united states demographic measures'\u001b[0m\u001b[0;34m,\u001b[0m\u001b[0;34m'self-service data preparation with ibm data refinery'\u001b[0m\u001b[0;34m,\u001b[0m\u001b[0;34m'use the cloudant-spark connector in python notebook'\u001b[0m\u001b[0;34m]\u001b[0m\u001b[0;34m)\u001b[0m\u001b[0;34m,\u001b[0m \u001b[0;34m\"Oops! Your the get_article_names function doesn't work quite how we expect.\"\u001b[0m\u001b[0;34m\u001b[0m\u001b[0;34m\u001b[0m\u001b[0m\n\u001b[1;32m      4\u001b[0m \u001b[0;32massert\u001b[0m \u001b[0mset\u001b[0m\u001b[0;34m(\u001b[0m\u001b[0mget_user_articles\u001b[0m\u001b[0;34m(\u001b[0m\u001b[0;36m20\u001b[0m\u001b[0;34m)\u001b[0m\u001b[0;34m[\u001b[0m\u001b[0;36m0\u001b[0m\u001b[0;34m]\u001b[0m\u001b[0;34m)\u001b[0m \u001b[0;34m==\u001b[0m \u001b[0mset\u001b[0m\u001b[0;34m(\u001b[0m\u001b[0;34m[\u001b[0m\u001b[0;34m'1320.0'\u001b[0m\u001b[0;34m,\u001b[0m \u001b[0;34m'232.0'\u001b[0m\u001b[0;34m,\u001b[0m \u001b[0;34m'844.0'\u001b[0m\u001b[0;34m]\u001b[0m\u001b[0;34m)\u001b[0m\u001b[0;34m\u001b[0m\u001b[0;34m\u001b[0m\u001b[0m\n\u001b[1;32m      5\u001b[0m \u001b[0;32massert\u001b[0m \u001b[0mset\u001b[0m\u001b[0;34m(\u001b[0m\u001b[0mget_user_articles\u001b[0m\u001b[0;34m(\u001b[0m\u001b[0;36m20\u001b[0m\u001b[0;34m)\u001b[0m\u001b[0;34m[\u001b[0m\u001b[0;36m1\u001b[0m\u001b[0;34m]\u001b[0m\u001b[0;34m)\u001b[0m \u001b[0;34m==\u001b[0m \u001b[0mset\u001b[0m\u001b[0;34m(\u001b[0m\u001b[0;34m[\u001b[0m\u001b[0;34m'housing (2015): united states demographic measures'\u001b[0m\u001b[0;34m,\u001b[0m \u001b[0;34m'self-service data preparation with ibm data refinery'\u001b[0m\u001b[0;34m,\u001b[0m\u001b[0;34m'use the cloudant-spark connector in python notebook'\u001b[0m\u001b[0;34m]\u001b[0m\u001b[0;34m)\u001b[0m\u001b[0;34m\u001b[0m\u001b[0;34m\u001b[0m\u001b[0m\n",
      "\u001b[0;32m<ipython-input-177-fe7d0a0703ef>\u001b[0m in \u001b[0;36mget_article_names\u001b[0;34m(article_ids, df)\u001b[0m\n\u001b[1;32m     10\u001b[0m     '''\n\u001b[1;32m     11\u001b[0m     \u001b[0;31m# Your code here\u001b[0m\u001b[0;34m\u001b[0m\u001b[0;34m\u001b[0m\u001b[0;34m\u001b[0m\u001b[0m\n\u001b[0;32m---> 12\u001b[0;31m     \u001b[0mdf_new\u001b[0m \u001b[0;34m=\u001b[0m \u001b[0mdf\u001b[0m\u001b[0;34m.\u001b[0m\u001b[0mdrop_duplicates\u001b[0m\u001b[0;34m(\u001b[0m\u001b[0msubset\u001b[0m \u001b[0;34m=\u001b[0m \u001b[0;34m[\u001b[0m\u001b[0;34m'article_id'\u001b[0m\u001b[0;34m]\u001b[0m\u001b[0;34m)\u001b[0m\u001b[0;34m\u001b[0m\u001b[0;34m\u001b[0m\u001b[0m\n\u001b[0m\u001b[1;32m     13\u001b[0m     \u001b[0marticle_names\u001b[0m \u001b[0;34m=\u001b[0m \u001b[0mdf_new\u001b[0m\u001b[0;34m[\u001b[0m\u001b[0mdf_new\u001b[0m\u001b[0;34m[\u001b[0m\u001b[0;34m'article_id'\u001b[0m\u001b[0;34m]\u001b[0m\u001b[0;34m.\u001b[0m\u001b[0misin\u001b[0m\u001b[0;34m(\u001b[0m\u001b[0marticle_ids\u001b[0m\u001b[0;34m)\u001b[0m\u001b[0;34m]\u001b[0m\u001b[0;34m[\u001b[0m\u001b[0;34m'title'\u001b[0m\u001b[0;34m]\u001b[0m\u001b[0;34m.\u001b[0m\u001b[0mtolist\u001b[0m\u001b[0;34m(\u001b[0m\u001b[0;34m)\u001b[0m\u001b[0;34m\u001b[0m\u001b[0;34m\u001b[0m\u001b[0m\n\u001b[1;32m     14\u001b[0m \u001b[0;34m\u001b[0m\u001b[0m\n",
      "\u001b[0;32m/Library/Frameworks/Python.framework/Versions/3.8/lib/python3.8/site-packages/pandas/core/frame.py\u001b[0m in \u001b[0;36mdrop_duplicates\u001b[0;34m(self, subset, keep, inplace, ignore_index)\u001b[0m\n\u001b[1;32m   4809\u001b[0m \u001b[0;34m\u001b[0m\u001b[0m\n\u001b[1;32m   4810\u001b[0m         \u001b[0minplace\u001b[0m \u001b[0;34m=\u001b[0m \u001b[0mvalidate_bool_kwarg\u001b[0m\u001b[0;34m(\u001b[0m\u001b[0minplace\u001b[0m\u001b[0;34m,\u001b[0m \u001b[0;34m\"inplace\"\u001b[0m\u001b[0;34m)\u001b[0m\u001b[0;34m\u001b[0m\u001b[0;34m\u001b[0m\u001b[0m\n\u001b[0;32m-> 4811\u001b[0;31m         \u001b[0mduplicated\u001b[0m \u001b[0;34m=\u001b[0m \u001b[0mself\u001b[0m\u001b[0;34m.\u001b[0m\u001b[0mduplicated\u001b[0m\u001b[0;34m(\u001b[0m\u001b[0msubset\u001b[0m\u001b[0;34m,\u001b[0m \u001b[0mkeep\u001b[0m\u001b[0;34m=\u001b[0m\u001b[0mkeep\u001b[0m\u001b[0;34m)\u001b[0m\u001b[0;34m\u001b[0m\u001b[0;34m\u001b[0m\u001b[0m\n\u001b[0m\u001b[1;32m   4812\u001b[0m \u001b[0;34m\u001b[0m\u001b[0m\n\u001b[1;32m   4813\u001b[0m         \u001b[0;32mif\u001b[0m \u001b[0minplace\u001b[0m\u001b[0;34m:\u001b[0m\u001b[0;34m\u001b[0m\u001b[0;34m\u001b[0m\u001b[0m\n",
      "\u001b[0;32m/Library/Frameworks/Python.framework/Versions/3.8/lib/python3.8/site-packages/pandas/core/frame.py\u001b[0m in \u001b[0;36mduplicated\u001b[0;34m(self, subset, keep)\u001b[0m\n\u001b[1;32m   4883\u001b[0m         \u001b[0mdiff\u001b[0m \u001b[0;34m=\u001b[0m \u001b[0mIndex\u001b[0m\u001b[0;34m(\u001b[0m\u001b[0msubset\u001b[0m\u001b[0;34m)\u001b[0m\u001b[0;34m.\u001b[0m\u001b[0mdifference\u001b[0m\u001b[0;34m(\u001b[0m\u001b[0mself\u001b[0m\u001b[0;34m.\u001b[0m\u001b[0mcolumns\u001b[0m\u001b[0;34m)\u001b[0m\u001b[0;34m\u001b[0m\u001b[0;34m\u001b[0m\u001b[0m\n\u001b[1;32m   4884\u001b[0m         \u001b[0;32mif\u001b[0m \u001b[0;32mnot\u001b[0m \u001b[0mdiff\u001b[0m\u001b[0;34m.\u001b[0m\u001b[0mempty\u001b[0m\u001b[0;34m:\u001b[0m\u001b[0;34m\u001b[0m\u001b[0;34m\u001b[0m\u001b[0m\n\u001b[0;32m-> 4885\u001b[0;31m             \u001b[0;32mraise\u001b[0m \u001b[0mKeyError\u001b[0m\u001b[0;34m(\u001b[0m\u001b[0mdiff\u001b[0m\u001b[0;34m)\u001b[0m\u001b[0;34m\u001b[0m\u001b[0;34m\u001b[0m\u001b[0m\n\u001b[0m\u001b[1;32m   4886\u001b[0m \u001b[0;34m\u001b[0m\u001b[0m\n\u001b[1;32m   4887\u001b[0m         \u001b[0mvals\u001b[0m \u001b[0;34m=\u001b[0m \u001b[0;34m(\u001b[0m\u001b[0mcol\u001b[0m\u001b[0;34m.\u001b[0m\u001b[0mvalues\u001b[0m \u001b[0;32mfor\u001b[0m \u001b[0mname\u001b[0m\u001b[0;34m,\u001b[0m \u001b[0mcol\u001b[0m \u001b[0;32min\u001b[0m \u001b[0mself\u001b[0m\u001b[0;34m.\u001b[0m\u001b[0mitems\u001b[0m\u001b[0;34m(\u001b[0m\u001b[0;34m)\u001b[0m \u001b[0;32mif\u001b[0m \u001b[0mname\u001b[0m \u001b[0;32min\u001b[0m \u001b[0msubset\u001b[0m\u001b[0;34m)\u001b[0m\u001b[0;34m\u001b[0m\u001b[0;34m\u001b[0m\u001b[0m\n",
      "\u001b[0;31mKeyError\u001b[0m: Index(['article_id'], dtype='object')"
     ]
    }
   ],
   "source": [
    "# Test your functions here - No need to change this code - just run this cell\n",
    "assert set(get_article_names(['1024.0', '1176.0', '1305.0', '1314.0', '1422.0', '1427.0'])) == set(['using deep learning to reconstruct high-resolution audio', 'build a python app on the streaming analytics service', 'gosales transactions for naive bayes model', 'healthcare python streaming application demo', 'use r dataframes & ibm watson natural language understanding', 'use xgboost, scikit-learn & ibm watson machine learning apis']), \"Oops! Your the get_article_names function doesn't work quite how we expect.\"\n",
    "assert set(get_article_names(['1320.0', '232.0', '844.0'])) == set(['housing (2015): united states demographic measures','self-service data preparation with ibm data refinery','use the cloudant-spark connector in python notebook']), \"Oops! Your the get_article_names function doesn't work quite how we expect.\"\n",
    "assert set(get_user_articles(20)[0]) == set(['1320.0', '232.0', '844.0'])\n",
    "assert set(get_user_articles(20)[1]) == set(['housing (2015): united states demographic measures', 'self-service data preparation with ibm data refinery','use the cloudant-spark connector in python notebook'])\n",
    "assert set(get_user_articles(2)[0]) == set(['1024.0', '1176.0', '1305.0', '1314.0', '1422.0', '1427.0'])\n",
    "assert set(get_user_articles(2)[1]) == set(['using deep learning to reconstruct high-resolution audio', 'build a python app on the streaming analytics service', 'gosales transactions for naive bayes model', 'healthcare python streaming application demo', 'use r dataframes & ibm watson natural language understanding', 'use xgboost, scikit-learn & ibm watson machine learning apis'])\n",
    "print(\"If this is all you see, you passed all of our tests!  Nice job!\")"
   ]
  },
  {
   "cell_type": "markdown",
   "metadata": {},
   "source": [
    "`4.` Now we are going to improve the consistency of the **user_user_recs** function from above.  \n",
    "\n",
    "* Instead of arbitrarily choosing when we obtain users who are all the same closeness to a given user - choose the users that have the most total article interactions before choosing those with fewer article interactions.\n",
    "\n",
    "\n",
    "* Instead of arbitrarily choosing articles from the user where the number of recommended articles starts below m and ends exceeding m, choose articles with the articles with the most total interactions before choosing those with fewer total interactions. This ranking should be  what would be obtained from the **top_articles** function you wrote earlier."
   ]
  },
  {
   "cell_type": "code",
   "execution_count": 180,
   "metadata": {
    "collapsed": true
   },
   "outputs": [],
   "source": [
    "def get_top_sorted_users(user_id, df=df, user_item=user_item):\n",
    "    '''\n",
    "    INPUT:\n",
    "    user_id - (int)\n",
    "    df - (pandas dataframe) df as defined at the top of the notebook \n",
    "    user_item - (pandas dataframe) matrix of users by articles: \n",
    "            1's when a user has interacted with an article, 0 otherwise\n",
    "    \n",
    "            \n",
    "    OUTPUT:\n",
    "    neighbors_df - (pandas dataframe) a dataframe with:\n",
    "                    neighbor_id - is a neighbor user_id\n",
    "                    similarity - measure of the similarity of each user to the provided user_id\n",
    "                    num_interactions - the number of articles viewed by the user - if a u\n",
    "                    \n",
    "    Other Details - sort the neighbors_df by the similarity and then by number of interactions where \n",
    "                    highest of each is higher in the dataframe\n",
    "     \n",
    "    '''\n",
    "    # Your code here\n",
    "    \n",
    "    return neighbors_df # Return the dataframe specified in the doc_string\n",
    "\n",
    "\n",
    "def user_user_recs_part2(user_id, m=10):\n",
    "    '''\n",
    "    INPUT:\n",
    "    user_id - (int) a user id\n",
    "    m - (int) the number of recommendations you want for the user\n",
    "    \n",
    "    OUTPUT:\n",
    "    recs - (list) a list of recommendations for the user by article id\n",
    "    rec_names - (list) a list of recommendations for the user by article title\n",
    "    \n",
    "    Description:\n",
    "    Loops through the users based on closeness to the input user_id\n",
    "    For each user - finds articles the user hasn't seen before and provides them as recs\n",
    "    Does this until m recommendations are found\n",
    "    \n",
    "    Notes:\n",
    "    * Choose the users that have the most total article interactions \n",
    "    before choosing those with fewer article interactions.\n",
    "\n",
    "    * Choose articles with the articles with the most total interactions \n",
    "    before choosing those with fewer total interactions. \n",
    "   \n",
    "    '''\n",
    "    # Your code here\n",
    "    \n",
    "    return recs, rec_names"
   ]
  },
  {
   "cell_type": "code",
   "execution_count": 181,
   "metadata": {
    "collapsed": true
   },
   "outputs": [
    {
     "output_type": "error",
     "ename": "NameError",
     "evalue": "name 'recs' is not defined",
     "traceback": [
      "\u001b[0;31m---------------------------------------------------------------------------\u001b[0m",
      "\u001b[0;31mNameError\u001b[0m                                 Traceback (most recent call last)",
      "\u001b[0;32m<ipython-input-181-af90fda9b45b>\u001b[0m in \u001b[0;36m<module>\u001b[0;34m\u001b[0m\n\u001b[1;32m      1\u001b[0m \u001b[0;31m# Quick spot check - don't change this code - just use it to test your functions\u001b[0m\u001b[0;34m\u001b[0m\u001b[0;34m\u001b[0m\u001b[0;34m\u001b[0m\u001b[0m\n\u001b[0;32m----> 2\u001b[0;31m \u001b[0mrec_ids\u001b[0m\u001b[0;34m,\u001b[0m \u001b[0mrec_names\u001b[0m \u001b[0;34m=\u001b[0m \u001b[0muser_user_recs_part2\u001b[0m\u001b[0;34m(\u001b[0m\u001b[0;36m20\u001b[0m\u001b[0;34m,\u001b[0m \u001b[0;36m10\u001b[0m\u001b[0;34m)\u001b[0m\u001b[0;34m\u001b[0m\u001b[0;34m\u001b[0m\u001b[0m\n\u001b[0m\u001b[1;32m      3\u001b[0m \u001b[0mprint\u001b[0m\u001b[0;34m(\u001b[0m\u001b[0;34m\"The top 10 recommendations for user 20 are the following article ids:\"\u001b[0m\u001b[0;34m)\u001b[0m\u001b[0;34m\u001b[0m\u001b[0;34m\u001b[0m\u001b[0m\n\u001b[1;32m      4\u001b[0m \u001b[0mprint\u001b[0m\u001b[0;34m(\u001b[0m\u001b[0mrec_ids\u001b[0m\u001b[0;34m)\u001b[0m\u001b[0;34m\u001b[0m\u001b[0;34m\u001b[0m\u001b[0m\n\u001b[1;32m      5\u001b[0m \u001b[0mprint\u001b[0m\u001b[0;34m(\u001b[0m\u001b[0;34m)\u001b[0m\u001b[0;34m\u001b[0m\u001b[0;34m\u001b[0m\u001b[0m\n",
      "\u001b[0;32m<ipython-input-180-fca9af93b7db>\u001b[0m in \u001b[0;36muser_user_recs_part2\u001b[0;34m(user_id, m)\u001b[0m\n\u001b[1;32m     48\u001b[0m     \u001b[0;31m# Your code here\u001b[0m\u001b[0;34m\u001b[0m\u001b[0;34m\u001b[0m\u001b[0;34m\u001b[0m\u001b[0m\n\u001b[1;32m     49\u001b[0m \u001b[0;34m\u001b[0m\u001b[0m\n\u001b[0;32m---> 50\u001b[0;31m     \u001b[0;32mreturn\u001b[0m \u001b[0mrecs\u001b[0m\u001b[0;34m,\u001b[0m \u001b[0mrec_names\u001b[0m\u001b[0;34m\u001b[0m\u001b[0;34m\u001b[0m\u001b[0m\n\u001b[0m",
      "\u001b[0;31mNameError\u001b[0m: name 'recs' is not defined"
     ]
    }
   ],
   "source": [
    "# Quick spot check - don't change this code - just use it to test your functions\n",
    "rec_ids, rec_names = user_user_recs_part2(20, 10)\n",
    "print(\"The top 10 recommendations for user 20 are the following article ids:\")\n",
    "print(rec_ids)\n",
    "print()\n",
    "print(\"The top 10 recommendations for user 20 are the following article names:\")\n",
    "print(rec_names)"
   ]
  },
  {
   "cell_type": "markdown",
   "metadata": {},
   "source": [
    "`5.` Use your functions from above to correctly fill in the solutions to the dictionary below.  Then test your dictionary against the solution.  Provide the code you need to answer each following the comments below."
   ]
  },
  {
   "cell_type": "code",
   "execution_count": 182,
   "metadata": {
    "collapsed": true
   },
   "outputs": [
    {
     "output_type": "error",
     "ename": "SyntaxError",
     "evalue": "invalid syntax (<ipython-input-182-f571cee8c005>, line 3)",
     "traceback": [
      "\u001b[0;36m  File \u001b[0;32m\"<ipython-input-182-f571cee8c005>\"\u001b[0;36m, line \u001b[0;32m3\u001b[0m\n\u001b[0;31m    user1_most_sim = # Find the user that is most similar to user 1\u001b[0m\n\u001b[0m                     ^\u001b[0m\n\u001b[0;31mSyntaxError\u001b[0m\u001b[0;31m:\u001b[0m invalid syntax\n"
     ]
    }
   ],
   "source": [
    "### Tests with a dictionary of results\n",
    "\n",
    "user1_most_sim = # Find the user that is most similar to user 1 \n",
    "user131_10th_sim = # Find the 10th most similar user to user 131"
   ]
  },
  {
   "cell_type": "code",
   "execution_count": 183,
   "metadata": {
    "collapsed": true
   },
   "outputs": [
    {
     "output_type": "error",
     "ename": "NameError",
     "evalue": "name 'user1_most_sim' is not defined",
     "traceback": [
      "\u001b[0;31m---------------------------------------------------------------------------\u001b[0m",
      "\u001b[0;31mNameError\u001b[0m                                 Traceback (most recent call last)",
      "\u001b[0;32m<ipython-input-183-bd0702018110>\u001b[0m in \u001b[0;36m<module>\u001b[0;34m\u001b[0m\n\u001b[1;32m      1\u001b[0m \u001b[0;31m## Dictionary Test Here\u001b[0m\u001b[0;34m\u001b[0m\u001b[0;34m\u001b[0m\u001b[0;34m\u001b[0m\u001b[0m\n\u001b[1;32m      2\u001b[0m sol_5_dict = {\n\u001b[0;32m----> 3\u001b[0;31m     \u001b[0;34m'The user that is most similar to user 1.'\u001b[0m\u001b[0;34m:\u001b[0m \u001b[0muser1_most_sim\u001b[0m\u001b[0;34m,\u001b[0m\u001b[0;34m\u001b[0m\u001b[0;34m\u001b[0m\u001b[0m\n\u001b[0m\u001b[1;32m      4\u001b[0m     \u001b[0;34m'The user that is the 10th most similar to user 131'\u001b[0m\u001b[0;34m:\u001b[0m \u001b[0muser131_10th_sim\u001b[0m\u001b[0;34m,\u001b[0m\u001b[0;34m\u001b[0m\u001b[0;34m\u001b[0m\u001b[0m\n\u001b[1;32m      5\u001b[0m }\n",
      "\u001b[0;31mNameError\u001b[0m: name 'user1_most_sim' is not defined"
     ]
    }
   ],
   "source": [
    "## Dictionary Test Here\n",
    "sol_5_dict = {\n",
    "    'The user that is most similar to user 1.': user1_most_sim, \n",
    "    'The user that is the 10th most similar to user 131': user131_10th_sim,\n",
    "}\n",
    "\n",
    "t.sol_5_test(sol_5_dict)"
   ]
  },
  {
   "cell_type": "markdown",
   "metadata": {},
   "source": [
    "`6.` If we were given a new user, which of the above functions would you be able to use to make recommendations?  Explain.  Can you think of a better way we might make recommendations?  Use the cell below to explain a better method for new users."
   ]
  },
  {
   "cell_type": "markdown",
   "metadata": {},
   "source": [
    "**Provide your response here.**"
   ]
  },
  {
   "cell_type": "markdown",
   "metadata": {},
   "source": [
    "`7.` Using your existing functions, provide the top 10 recommended articles you would provide for the a new user below.  You can test your function against our thoughts to make sure we are all on the same page with how we might make a recommendation."
   ]
  },
  {
   "cell_type": "code",
   "execution_count": 184,
   "metadata": {
    "collapsed": true
   },
   "outputs": [
    {
     "output_type": "error",
     "ename": "SyntaxError",
     "evalue": "invalid syntax (<ipython-input-184-dff82d1ff5e8>, line 5)",
     "traceback": [
      "\u001b[0;36m  File \u001b[0;32m\"<ipython-input-184-dff82d1ff5e8>\"\u001b[0;36m, line \u001b[0;32m5\u001b[0m\n\u001b[0;31m    new_user_recs = # Your recommendations here\u001b[0m\n\u001b[0m                    ^\u001b[0m\n\u001b[0;31mSyntaxError\u001b[0m\u001b[0;31m:\u001b[0m invalid syntax\n"
     ]
    }
   ],
   "source": [
    "new_user = '0.0'\n",
    "\n",
    "# What would your recommendations be for this new user '0.0'?  As a new user, they have no observed articles.\n",
    "# Provide a list of the top 10 article ids you would give to \n",
    "new_user_recs = # Your recommendations here\n",
    "\n"
   ]
  },
  {
   "cell_type": "code",
   "execution_count": 185,
   "metadata": {
    "collapsed": true
   },
   "outputs": [
    {
     "output_type": "error",
     "ename": "NameError",
     "evalue": "name 'new_user_recs' is not defined",
     "traceback": [
      "\u001b[0;31m---------------------------------------------------------------------------\u001b[0m",
      "\u001b[0;31mNameError\u001b[0m                                 Traceback (most recent call last)",
      "\u001b[0;32m<ipython-input-185-180cf1c05a0f>\u001b[0m in \u001b[0;36m<module>\u001b[0;34m\u001b[0m\n\u001b[0;32m----> 1\u001b[0;31m \u001b[0;32massert\u001b[0m \u001b[0mset\u001b[0m\u001b[0;34m(\u001b[0m\u001b[0mnew_user_recs\u001b[0m\u001b[0;34m)\u001b[0m \u001b[0;34m==\u001b[0m \u001b[0mset\u001b[0m\u001b[0;34m(\u001b[0m\u001b[0;34m[\u001b[0m\u001b[0;34m'1314.0'\u001b[0m\u001b[0;34m,\u001b[0m\u001b[0;34m'1429.0'\u001b[0m\u001b[0;34m,\u001b[0m\u001b[0;34m'1293.0'\u001b[0m\u001b[0;34m,\u001b[0m\u001b[0;34m'1427.0'\u001b[0m\u001b[0;34m,\u001b[0m\u001b[0;34m'1162.0'\u001b[0m\u001b[0;34m,\u001b[0m\u001b[0;34m'1364.0'\u001b[0m\u001b[0;34m,\u001b[0m\u001b[0;34m'1304.0'\u001b[0m\u001b[0;34m,\u001b[0m\u001b[0;34m'1170.0'\u001b[0m\u001b[0;34m,\u001b[0m\u001b[0;34m'1431.0'\u001b[0m\u001b[0;34m,\u001b[0m\u001b[0;34m'1330.0'\u001b[0m\u001b[0;34m]\u001b[0m\u001b[0;34m)\u001b[0m\u001b[0;34m,\u001b[0m \u001b[0;34m\"Oops!  It makes sense that in this case we would want to recommend the most popular articles, because we don't know anything about these users.\"\u001b[0m\u001b[0;34m\u001b[0m\u001b[0;34m\u001b[0m\u001b[0m\n\u001b[0m\u001b[1;32m      2\u001b[0m \u001b[0;34m\u001b[0m\u001b[0m\n\u001b[1;32m      3\u001b[0m \u001b[0mprint\u001b[0m\u001b[0;34m(\u001b[0m\u001b[0;34m\"That's right!  Nice job!\"\u001b[0m\u001b[0;34m)\u001b[0m\u001b[0;34m\u001b[0m\u001b[0;34m\u001b[0m\u001b[0m\n",
      "\u001b[0;31mNameError\u001b[0m: name 'new_user_recs' is not defined"
     ]
    }
   ],
   "source": [
    "assert set(new_user_recs) == set(['1314.0','1429.0','1293.0','1427.0','1162.0','1364.0','1304.0','1170.0','1431.0','1330.0']), \"Oops!  It makes sense that in this case we would want to recommend the most popular articles, because we don't know anything about these users.\"\n",
    "\n",
    "print(\"That's right!  Nice job!\")"
   ]
  },
  {
   "cell_type": "markdown",
   "metadata": {},
   "source": [
    "### <a class=\"anchor\" id=\"Content-Recs\">Part IV: Content Based Recommendations (EXTRA - NOT REQUIRED)</a>\n",
    "\n",
    "Another method we might use to make recommendations is to perform a ranking of the highest ranked articles associated with some term.  You might consider content to be the **doc_body**, **doc_description**, or **doc_full_name**.  There isn't one way to create a content based recommendation, especially considering that each of these columns hold content related information.  \n",
    "\n",
    "`1.` Use the function body below to create a content based recommender.  Since there isn't one right answer for this recommendation tactic, no test functions are provided.  Feel free to change the function inputs if you decide you want to try a method that requires more input values.  The input values are currently set with one idea in mind that you may use to make content based recommendations.  One additional idea is that you might want to choose the most popular recommendations that meet your 'content criteria', but again, there is a lot of flexibility in how you might make these recommendations.\n",
    "\n",
    "### This part is NOT REQUIRED to pass this project.  However, you may choose to take this on as an extra way to show off your skills."
   ]
  },
  {
   "cell_type": "code",
   "execution_count": 186,
   "metadata": {
    "collapsed": true
   },
   "outputs": [],
   "source": [
    "def make_content_recs():\n",
    "    '''\n",
    "    INPUT:\n",
    "    \n",
    "    OUTPUT:\n",
    "    \n",
    "    '''"
   ]
  },
  {
   "cell_type": "markdown",
   "metadata": {},
   "source": [
    "`2.` Now that you have put together your content-based recommendation system, use the cell below to write a summary explaining how your content based recommender works.  Do you see any possible improvements that could be made to your function?  Is there anything novel about your content based recommender?\n",
    "\n",
    "### This part is NOT REQUIRED to pass this project.  However, you may choose to take this on as an extra way to show off your skills."
   ]
  },
  {
   "cell_type": "markdown",
   "metadata": {},
   "source": [
    "**Write an explanation of your content based recommendation system here.**"
   ]
  },
  {
   "cell_type": "markdown",
   "metadata": {},
   "source": [
    "`3.` Use your content-recommendation system to make recommendations for the below scenarios based on the comments.  Again no tests are provided here, because there isn't one right answer that could be used to find these content based recommendations.\n",
    "\n",
    "### This part is NOT REQUIRED to pass this project.  However, you may choose to take this on as an extra way to show off your skills."
   ]
  },
  {
   "cell_type": "code",
   "execution_count": 187,
   "metadata": {
    "collapsed": true
   },
   "outputs": [],
   "source": [
    "# make recommendations for a brand new user\n",
    "\n",
    "\n",
    "# make a recommendations for a user who only has interacted with article id '1427.0'\n",
    "\n"
   ]
  },
  {
   "cell_type": "markdown",
   "metadata": {},
   "source": [
    "### <a class=\"anchor\" id=\"Matrix-Fact\">Part V: Matrix Factorization</a>\n",
    "\n",
    "In this part of the notebook, you will build use matrix factorization to make article recommendations to the users on the IBM Watson Studio platform.\n",
    "\n",
    "`1.` You should have already created a **user_item** matrix above in **question 1** of **Part III** above.  This first question here will just require that you run the cells to get things set up for the rest of **Part V** of the notebook. "
   ]
  },
  {
   "cell_type": "code",
   "execution_count": 188,
   "metadata": {
    "collapsed": true
   },
   "outputs": [],
   "source": [
    "# Load the matrix here\n",
    "user_item_matrix = pd.read_pickle('user_item_matrix.p')"
   ]
  },
  {
   "cell_type": "code",
   "execution_count": 189,
   "metadata": {
    "collapsed": true
   },
   "outputs": [
    {
     "output_type": "execute_result",
     "data": {
      "text/plain": "article_id  0.0  100.0  1000.0  1004.0  1006.0  1008.0  101.0  1014.0  1015.0  \\\nuser_id                                                                         \n1           0.0    0.0     0.0     0.0     0.0     0.0    0.0     0.0     0.0   \n2           0.0    0.0     0.0     0.0     0.0     0.0    0.0     0.0     0.0   \n3           0.0    0.0     0.0     0.0     0.0     0.0    0.0     0.0     0.0   \n4           0.0    0.0     0.0     0.0     0.0     0.0    0.0     0.0     0.0   \n5           0.0    0.0     0.0     0.0     0.0     0.0    0.0     0.0     0.0   \n\narticle_id  1016.0  ...  977.0  98.0  981.0  984.0  985.0  986.0  990.0  \\\nuser_id             ...                                                   \n1              0.0  ...    0.0   0.0    1.0    0.0    0.0    0.0    0.0   \n2              0.0  ...    0.0   0.0    0.0    0.0    0.0    0.0    0.0   \n3              0.0  ...    1.0   0.0    0.0    0.0    0.0    0.0    0.0   \n4              0.0  ...    0.0   0.0    0.0    0.0    0.0    0.0    0.0   \n5              0.0  ...    0.0   0.0    0.0    0.0    0.0    0.0    0.0   \n\narticle_id  993.0  996.0  997.0  \nuser_id                          \n1             0.0    0.0    0.0  \n2             0.0    0.0    0.0  \n3             0.0    0.0    0.0  \n4             0.0    0.0    0.0  \n5             0.0    0.0    0.0  \n\n[5 rows x 714 columns]",
      "text/html": "<div>\n<style scoped>\n    .dataframe tbody tr th:only-of-type {\n        vertical-align: middle;\n    }\n\n    .dataframe tbody tr th {\n        vertical-align: top;\n    }\n\n    .dataframe thead th {\n        text-align: right;\n    }\n</style>\n<table border=\"1\" class=\"dataframe\">\n  <thead>\n    <tr style=\"text-align: right;\">\n      <th>article_id</th>\n      <th>0.0</th>\n      <th>100.0</th>\n      <th>1000.0</th>\n      <th>1004.0</th>\n      <th>1006.0</th>\n      <th>1008.0</th>\n      <th>101.0</th>\n      <th>1014.0</th>\n      <th>1015.0</th>\n      <th>1016.0</th>\n      <th>...</th>\n      <th>977.0</th>\n      <th>98.0</th>\n      <th>981.0</th>\n      <th>984.0</th>\n      <th>985.0</th>\n      <th>986.0</th>\n      <th>990.0</th>\n      <th>993.0</th>\n      <th>996.0</th>\n      <th>997.0</th>\n    </tr>\n    <tr>\n      <th>user_id</th>\n      <th></th>\n      <th></th>\n      <th></th>\n      <th></th>\n      <th></th>\n      <th></th>\n      <th></th>\n      <th></th>\n      <th></th>\n      <th></th>\n      <th></th>\n      <th></th>\n      <th></th>\n      <th></th>\n      <th></th>\n      <th></th>\n      <th></th>\n      <th></th>\n      <th></th>\n      <th></th>\n      <th></th>\n    </tr>\n  </thead>\n  <tbody>\n    <tr>\n      <th>1</th>\n      <td>0.0</td>\n      <td>0.0</td>\n      <td>0.0</td>\n      <td>0.0</td>\n      <td>0.0</td>\n      <td>0.0</td>\n      <td>0.0</td>\n      <td>0.0</td>\n      <td>0.0</td>\n      <td>0.0</td>\n      <td>...</td>\n      <td>0.0</td>\n      <td>0.0</td>\n      <td>1.0</td>\n      <td>0.0</td>\n      <td>0.0</td>\n      <td>0.0</td>\n      <td>0.0</td>\n      <td>0.0</td>\n      <td>0.0</td>\n      <td>0.0</td>\n    </tr>\n    <tr>\n      <th>2</th>\n      <td>0.0</td>\n      <td>0.0</td>\n      <td>0.0</td>\n      <td>0.0</td>\n      <td>0.0</td>\n      <td>0.0</td>\n      <td>0.0</td>\n      <td>0.0</td>\n      <td>0.0</td>\n      <td>0.0</td>\n      <td>...</td>\n      <td>0.0</td>\n      <td>0.0</td>\n      <td>0.0</td>\n      <td>0.0</td>\n      <td>0.0</td>\n      <td>0.0</td>\n      <td>0.0</td>\n      <td>0.0</td>\n      <td>0.0</td>\n      <td>0.0</td>\n    </tr>\n    <tr>\n      <th>3</th>\n      <td>0.0</td>\n      <td>0.0</td>\n      <td>0.0</td>\n      <td>0.0</td>\n      <td>0.0</td>\n      <td>0.0</td>\n      <td>0.0</td>\n      <td>0.0</td>\n      <td>0.0</td>\n      <td>0.0</td>\n      <td>...</td>\n      <td>1.0</td>\n      <td>0.0</td>\n      <td>0.0</td>\n      <td>0.0</td>\n      <td>0.0</td>\n      <td>0.0</td>\n      <td>0.0</td>\n      <td>0.0</td>\n      <td>0.0</td>\n      <td>0.0</td>\n    </tr>\n    <tr>\n      <th>4</th>\n      <td>0.0</td>\n      <td>0.0</td>\n      <td>0.0</td>\n      <td>0.0</td>\n      <td>0.0</td>\n      <td>0.0</td>\n      <td>0.0</td>\n      <td>0.0</td>\n      <td>0.0</td>\n      <td>0.0</td>\n      <td>...</td>\n      <td>0.0</td>\n      <td>0.0</td>\n      <td>0.0</td>\n      <td>0.0</td>\n      <td>0.0</td>\n      <td>0.0</td>\n      <td>0.0</td>\n      <td>0.0</td>\n      <td>0.0</td>\n      <td>0.0</td>\n    </tr>\n    <tr>\n      <th>5</th>\n      <td>0.0</td>\n      <td>0.0</td>\n      <td>0.0</td>\n      <td>0.0</td>\n      <td>0.0</td>\n      <td>0.0</td>\n      <td>0.0</td>\n      <td>0.0</td>\n      <td>0.0</td>\n      <td>0.0</td>\n      <td>...</td>\n      <td>0.0</td>\n      <td>0.0</td>\n      <td>0.0</td>\n      <td>0.0</td>\n      <td>0.0</td>\n      <td>0.0</td>\n      <td>0.0</td>\n      <td>0.0</td>\n      <td>0.0</td>\n      <td>0.0</td>\n    </tr>\n  </tbody>\n</table>\n<p>5 rows × 714 columns</p>\n</div>"
     },
     "metadata": {},
     "execution_count": 189
    }
   ],
   "source": [
    "# quick look at the matrix\n",
    "user_item_matrix.head()"
   ]
  },
  {
   "cell_type": "markdown",
   "metadata": {},
   "source": [
    "`2.` In this situation, you can use Singular Value Decomposition from [numpy](https://docs.scipy.org/doc/numpy-1.14.0/reference/generated/numpy.linalg.svd.html) on the user-item matrix.  Use the cell to perform SVD, and explain why this is different than in the lesson."
   ]
  },
  {
   "cell_type": "code",
   "execution_count": 190,
   "metadata": {
    "collapsed": true
   },
   "outputs": [
    {
     "output_type": "error",
     "ename": "SyntaxError",
     "evalue": "invalid syntax (<ipython-input-190-d4217e3461db>, line 3)",
     "traceback": [
      "\u001b[0;36m  File \u001b[0;32m\"<ipython-input-190-d4217e3461db>\"\u001b[0;36m, line \u001b[0;32m3\u001b[0m\n\u001b[0;31m    u, s, vt = # use the built in to get the three matrices\u001b[0m\n\u001b[0m               ^\u001b[0m\n\u001b[0;31mSyntaxError\u001b[0m\u001b[0;31m:\u001b[0m invalid syntax\n"
     ]
    }
   ],
   "source": [
    "# Perform SVD on the User-Item Matrix Here\n",
    "\n",
    "u, s, vt = # use the built in to get the three matrices"
   ]
  },
  {
   "cell_type": "markdown",
   "metadata": {},
   "source": [
    "**Provide your response here.**"
   ]
  },
  {
   "cell_type": "markdown",
   "metadata": {},
   "source": [
    "`3.` Now for the tricky part, how do we choose the number of latent features to use?  Running the below cell, you can see that as the number of latent features increases, we obtain a lower error rate on making predictions for the 1 and 0 values in the user-item matrix.  Run the cell below to get an idea of how the accuracy improves as we increase the number of latent features."
   ]
  },
  {
   "cell_type": "code",
   "execution_count": 191,
   "metadata": {
    "collapsed": true
   },
   "outputs": [
    {
     "output_type": "error",
     "ename": "NameError",
     "evalue": "name 'u' is not defined",
     "traceback": [
      "\u001b[0;31m---------------------------------------------------------------------------\u001b[0m",
      "\u001b[0;31mNameError\u001b[0m                                 Traceback (most recent call last)",
      "\u001b[0;32m<ipython-input-191-e31d0b7304d7>\u001b[0m in \u001b[0;36m<module>\u001b[0;34m\u001b[0m\n\u001b[1;32m      4\u001b[0m \u001b[0;32mfor\u001b[0m \u001b[0mk\u001b[0m \u001b[0;32min\u001b[0m \u001b[0mnum_latent_feats\u001b[0m\u001b[0;34m:\u001b[0m\u001b[0;34m\u001b[0m\u001b[0;34m\u001b[0m\u001b[0m\n\u001b[1;32m      5\u001b[0m     \u001b[0;31m# restructure with k latent features\u001b[0m\u001b[0;34m\u001b[0m\u001b[0;34m\u001b[0m\u001b[0;34m\u001b[0m\u001b[0m\n\u001b[0;32m----> 6\u001b[0;31m     \u001b[0ms_new\u001b[0m\u001b[0;34m,\u001b[0m \u001b[0mu_new\u001b[0m\u001b[0;34m,\u001b[0m \u001b[0mvt_new\u001b[0m \u001b[0;34m=\u001b[0m \u001b[0mnp\u001b[0m\u001b[0;34m.\u001b[0m\u001b[0mdiag\u001b[0m\u001b[0;34m(\u001b[0m\u001b[0ms\u001b[0m\u001b[0;34m[\u001b[0m\u001b[0;34m:\u001b[0m\u001b[0mk\u001b[0m\u001b[0;34m]\u001b[0m\u001b[0;34m)\u001b[0m\u001b[0;34m,\u001b[0m \u001b[0mu\u001b[0m\u001b[0;34m[\u001b[0m\u001b[0;34m:\u001b[0m\u001b[0;34m,\u001b[0m \u001b[0;34m:\u001b[0m\u001b[0mk\u001b[0m\u001b[0;34m]\u001b[0m\u001b[0;34m,\u001b[0m \u001b[0mvt\u001b[0m\u001b[0;34m[\u001b[0m\u001b[0;34m:\u001b[0m\u001b[0mk\u001b[0m\u001b[0;34m,\u001b[0m \u001b[0;34m:\u001b[0m\u001b[0;34m]\u001b[0m\u001b[0;34m\u001b[0m\u001b[0;34m\u001b[0m\u001b[0m\n\u001b[0m\u001b[1;32m      7\u001b[0m \u001b[0;34m\u001b[0m\u001b[0m\n\u001b[1;32m      8\u001b[0m     \u001b[0;31m# take dot product\u001b[0m\u001b[0;34m\u001b[0m\u001b[0;34m\u001b[0m\u001b[0;34m\u001b[0m\u001b[0m\n",
      "\u001b[0;31mNameError\u001b[0m: name 'u' is not defined"
     ]
    }
   ],
   "source": [
    "num_latent_feats = np.arange(10,700+10,20)\n",
    "sum_errs = []\n",
    "\n",
    "for k in num_latent_feats:\n",
    "    # restructure with k latent features\n",
    "    s_new, u_new, vt_new = np.diag(s[:k]), u[:, :k], vt[:k, :]\n",
    "    \n",
    "    # take dot product\n",
    "    user_item_est = np.around(np.dot(np.dot(u_new, s_new), vt_new))\n",
    "    \n",
    "    # compute error for each prediction to actual value\n",
    "    diffs = np.subtract(user_item_matrix, user_item_est)\n",
    "    \n",
    "    # total errors and keep track of them\n",
    "    err = np.sum(np.sum(np.abs(diffs)))\n",
    "    sum_errs.append(err)\n",
    "    \n",
    "    \n",
    "plt.plot(num_latent_feats, 1 - np.array(sum_errs)/df.shape[0]);\n",
    "plt.xlabel('Number of Latent Features');\n",
    "plt.ylabel('Accuracy');\n",
    "plt.title('Accuracy vs. Number of Latent Features');"
   ]
  },
  {
   "cell_type": "markdown",
   "metadata": {},
   "source": [
    "`4.` From the above, we can't really be sure how many features to use, because simply having a better way to predict the 1's and 0's of the matrix doesn't exactly give us an indication of if we are able to make good recommendations.  Instead, we might split our dataset into a training and test set of data, as shown in the cell below.  \n",
    "\n",
    "Use the code from question 3 to understand the impact on accuracy of the training and test sets of data with different numbers of latent features. Using the split below: \n",
    "\n",
    "* How many users can we make predictions for in the test set?  \n",
    "* How many users are we not able to make predictions for because of the cold start problem?\n",
    "* How many articles can we make predictions for in the test set?  \n",
    "* How many articles are we not able to make predictions for because of the cold start problem?"
   ]
  },
  {
   "cell_type": "code",
   "execution_count": 192,
   "metadata": {
    "collapsed": true
   },
   "outputs": [
    {
     "output_type": "error",
     "ename": "NameError",
     "evalue": "name 'user_item_train' is not defined",
     "traceback": [
      "\u001b[0;31m---------------------------------------------------------------------------\u001b[0m",
      "\u001b[0;31mNameError\u001b[0m                                 Traceback (most recent call last)",
      "\u001b[0;32m<ipython-input-192-3622f18266ff>\u001b[0m in \u001b[0;36m<module>\u001b[0;34m\u001b[0m\n\u001b[1;32m     21\u001b[0m     \u001b[0;32mreturn\u001b[0m \u001b[0muser_item_train\u001b[0m\u001b[0;34m,\u001b[0m \u001b[0muser_item_test\u001b[0m\u001b[0;34m,\u001b[0m \u001b[0mtest_idx\u001b[0m\u001b[0;34m,\u001b[0m \u001b[0mtest_arts\u001b[0m\u001b[0;34m\u001b[0m\u001b[0;34m\u001b[0m\u001b[0m\n\u001b[1;32m     22\u001b[0m \u001b[0;34m\u001b[0m\u001b[0m\n\u001b[0;32m---> 23\u001b[0;31m \u001b[0muser_item_train\u001b[0m\u001b[0;34m,\u001b[0m \u001b[0muser_item_test\u001b[0m\u001b[0;34m,\u001b[0m \u001b[0mtest_idx\u001b[0m\u001b[0;34m,\u001b[0m \u001b[0mtest_arts\u001b[0m \u001b[0;34m=\u001b[0m \u001b[0mcreate_test_and_train_user_item\u001b[0m\u001b[0;34m(\u001b[0m\u001b[0mdf_train\u001b[0m\u001b[0;34m,\u001b[0m \u001b[0mdf_test\u001b[0m\u001b[0;34m)\u001b[0m\u001b[0;34m\u001b[0m\u001b[0;34m\u001b[0m\u001b[0m\n\u001b[0m",
      "\u001b[0;32m<ipython-input-192-3622f18266ff>\u001b[0m in \u001b[0;36mcreate_test_and_train_user_item\u001b[0;34m(df_train, df_test)\u001b[0m\n\u001b[1;32m     19\u001b[0m     \u001b[0;31m# Your code here\u001b[0m\u001b[0;34m\u001b[0m\u001b[0;34m\u001b[0m\u001b[0;34m\u001b[0m\u001b[0m\n\u001b[1;32m     20\u001b[0m \u001b[0;34m\u001b[0m\u001b[0m\n\u001b[0;32m---> 21\u001b[0;31m     \u001b[0;32mreturn\u001b[0m \u001b[0muser_item_train\u001b[0m\u001b[0;34m,\u001b[0m \u001b[0muser_item_test\u001b[0m\u001b[0;34m,\u001b[0m \u001b[0mtest_idx\u001b[0m\u001b[0;34m,\u001b[0m \u001b[0mtest_arts\u001b[0m\u001b[0;34m\u001b[0m\u001b[0;34m\u001b[0m\u001b[0m\n\u001b[0m\u001b[1;32m     22\u001b[0m \u001b[0;34m\u001b[0m\u001b[0m\n\u001b[1;32m     23\u001b[0m \u001b[0muser_item_train\u001b[0m\u001b[0;34m,\u001b[0m \u001b[0muser_item_test\u001b[0m\u001b[0;34m,\u001b[0m \u001b[0mtest_idx\u001b[0m\u001b[0;34m,\u001b[0m \u001b[0mtest_arts\u001b[0m \u001b[0;34m=\u001b[0m \u001b[0mcreate_test_and_train_user_item\u001b[0m\u001b[0;34m(\u001b[0m\u001b[0mdf_train\u001b[0m\u001b[0;34m,\u001b[0m \u001b[0mdf_test\u001b[0m\u001b[0;34m)\u001b[0m\u001b[0;34m\u001b[0m\u001b[0;34m\u001b[0m\u001b[0m\n",
      "\u001b[0;31mNameError\u001b[0m: name 'user_item_train' is not defined"
     ]
    }
   ],
   "source": [
    "df_train = df.head(40000)\n",
    "df_test = df.tail(5993)\n",
    "\n",
    "def create_test_and_train_user_item(df_train, df_test):\n",
    "    '''\n",
    "    INPUT:\n",
    "    df_train - training dataframe\n",
    "    df_test - test dataframe\n",
    "    \n",
    "    OUTPUT:\n",
    "    user_item_train - a user-item matrix of the training dataframe \n",
    "                      (unique users for each row and unique articles for each column)\n",
    "    user_item_test - a user-item matrix of the testing dataframe \n",
    "                    (unique users for each row and unique articles for each column)\n",
    "    test_idx - all of the test user ids\n",
    "    test_arts - all of the test article ids\n",
    "    \n",
    "    '''\n",
    "    # Your code here\n",
    "    \n",
    "    return user_item_train, user_item_test, test_idx, test_arts\n",
    "\n",
    "user_item_train, user_item_test, test_idx, test_arts = create_test_and_train_user_item(df_train, df_test)"
   ]
  },
  {
   "cell_type": "code",
   "execution_count": 193,
   "metadata": {
    "collapsed": true
   },
   "outputs": [
    {
     "output_type": "error",
     "ename": "SyntaxError",
     "evalue": "invalid syntax (<ipython-input-193-d7bedd572521>, line 10)",
     "traceback": [
      "\u001b[0;36m  File \u001b[0;32m\"<ipython-input-193-d7bedd572521>\"\u001b[0;36m, line \u001b[0;32m10\u001b[0m\n\u001b[0;31m    'How many users in the test set are we not able to make predictions for because of the cold start problem?': # letter here,\u001b[0m\n\u001b[0m                                                                                                               ^\u001b[0m\n\u001b[0;31mSyntaxError\u001b[0m\u001b[0;31m:\u001b[0m invalid syntax\n"
     ]
    }
   ],
   "source": [
    "# Replace the values in the dictionary below\n",
    "a = 662 \n",
    "b = 574 \n",
    "c = 20 \n",
    "d = 0 \n",
    "\n",
    "\n",
    "sol_4_dict = {\n",
    "    'How many users can we make predictions for in the test set?': # letter here, \n",
    "    'How many users in the test set are we not able to make predictions for because of the cold start problem?': # letter here, \n",
    "    'How many movies can we make predictions for in the test set?': # letter here,\n",
    "    'How many movies in the test set are we not able to make predictions for because of the cold start problem?': # letter here\n",
    "}\n",
    "\n",
    "t.sol_4_test(sol_4_dict)"
   ]
  },
  {
   "cell_type": "markdown",
   "metadata": {},
   "source": [
    "`5.` Now use the **user_item_train** dataset from above to find U, S, and V transpose using SVD. Then find the subset of rows in the **user_item_test** dataset that you can predict using this matrix decomposition with different numbers of latent features to see how many features makes sense to keep based on the accuracy on the test data. This will require combining what was done in questions `2` - `4`.\n",
    "\n",
    "Use the cells below to explore how well SVD works towards making predictions for recommendations on the test data.  "
   ]
  },
  {
   "cell_type": "code",
   "execution_count": 194,
   "metadata": {
    "collapsed": true
   },
   "outputs": [
    {
     "output_type": "error",
     "ename": "SyntaxError",
     "evalue": "invalid syntax (<ipython-input-194-f93e4efee773>, line 2)",
     "traceback": [
      "\u001b[0;36m  File \u001b[0;32m\"<ipython-input-194-f93e4efee773>\"\u001b[0;36m, line \u001b[0;32m2\u001b[0m\n\u001b[0;31m    u_train, s_train, vt_train = # fit svd similar to above then use the cells below\u001b[0m\n\u001b[0m                                 ^\u001b[0m\n\u001b[0;31mSyntaxError\u001b[0m\u001b[0;31m:\u001b[0m invalid syntax\n"
     ]
    }
   ],
   "source": [
    "# fit SVD on the user_item_train matrix\n",
    "u_train, s_train, vt_train = # fit svd similar to above then use the cells below"
   ]
  },
  {
   "cell_type": "code",
   "execution_count": 195,
   "metadata": {
    "collapsed": true
   },
   "outputs": [],
   "source": [
    "# Use these cells to see how well you can use the training \n",
    "# decomposition to predict on test data"
   ]
  },
  {
   "cell_type": "code",
   "execution_count": null,
   "metadata": {
    "collapsed": true
   },
   "outputs": [],
   "source": []
  },
  {
   "cell_type": "code",
   "execution_count": null,
   "metadata": {
    "collapsed": true
   },
   "outputs": [],
   "source": []
  },
  {
   "cell_type": "markdown",
   "metadata": {
    "collapsed": true
   },
   "source": [
    "`6.` Use the cell below to comment on the results you found in the previous question. Given the circumstances of your results, discuss what you might do to determine if the recommendations you make with any of the above recommendation systems are an improvement to how users currently find articles? "
   ]
  },
  {
   "cell_type": "markdown",
   "metadata": {},
   "source": [
    "**Your response here.**"
   ]
  },
  {
   "cell_type": "markdown",
   "metadata": {
    "collapsed": true
   },
   "source": [
    "<a id='conclusions'></a>\n",
    "### Extras\n",
    "Using your workbook, you could now save your recommendations for each user, develop a class to make new predictions and update your results, and make a flask app to deploy your results.  These tasks are beyond what is required for this project.  However, from what you learned in the lessons, you certainly capable of taking these tasks on to improve upon your work here!\n",
    "\n",
    "\n",
    "## Conclusion\n",
    "\n",
    "> Congratulations!  You have reached the end of the Recommendations with IBM project! \n",
    "\n",
    "> **Tip**: Once you are satisfied with your work here, check over your report to make sure that it is satisfies all the areas of the [rubric](https://review.udacity.com/#!/rubrics/2322/view). You should also probably remove all of the \"Tips\" like this one so that the presentation is as polished as possible.\n",
    "\n",
    "\n",
    "## Directions to Submit\n",
    "\n",
    "> Before you submit your project, you need to create a .html or .pdf version of this notebook in the workspace here. To do that, run the code cell below. If it worked correctly, you should get a return code of 0, and you should see the generated .html file in the workspace directory (click on the orange Jupyter icon in the upper left).\n",
    "\n",
    "> Alternatively, you can download this report as .html via the **File** > **Download as** submenu, and then manually upload it into the workspace directory by clicking on the orange Jupyter icon in the upper left, then using the Upload button.\n",
    "\n",
    "> Once you've done this, you can submit your project by clicking on the \"Submit Project\" button in the lower right here. This will create and submit a zip file with this .ipynb doc and the .html or .pdf version you created. Congratulations! "
   ]
  },
  {
   "cell_type": "code",
   "execution_count": 196,
   "metadata": {
    "collapsed": true
   },
   "outputs": [
    {
     "output_type": "execute_result",
     "data": {
      "text/plain": "1"
     },
     "metadata": {},
     "execution_count": 196
    }
   ],
   "source": [
    "from subprocess import call\n",
    "call(['python', '-m', 'nbconvert', 'Recommendations_with_IBM.ipynb'])"
   ]
  }
 ],
 "metadata": {
  "kernelspec": {
   "display_name": "Python 3.8.4 64-bit",
   "language": "python",
   "name": "python_defaultSpec_1597417512422"
  },
  "language_info": {
   "codemirror_mode": {
    "name": "ipython",
    "version": 3
   },
   "file_extension": ".py",
   "mimetype": "text/x-python",
   "name": "python",
   "nbconvert_exporter": "python",
   "pygments_lexer": "ipython3",
   "version": "3.8.4-final"
  }
 },
 "nbformat": 4,
 "nbformat_minor": 2
}